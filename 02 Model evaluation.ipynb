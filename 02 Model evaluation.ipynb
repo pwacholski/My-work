{
 "cells": [
  {
   "cell_type": "markdown",
   "metadata": {},
   "source": [
    "# Process leading to model evaluation\n",
    "\n",
    "## Since splitting process in separate notebooks for ETL, feature creation, model definition, model train and model evaluation would reduce readability of the code, they will be presented in one notebook with comments explaining which part of the process is currently presented.\n",
    "\n",
    "\n",
    "\n",
    " \n",
    "\n",
    "\n"
   ]
  },
  {
   "cell_type": "code",
   "execution_count": 1,
   "metadata": {},
   "outputs": [
    {
     "name": "stderr",
     "output_type": "stream",
     "text": [
      "Using TensorFlow backend.\n"
     ]
    }
   ],
   "source": [
    "import pandas as pd\n",
    "import numpy as np\n",
    "import matplotlib.pyplot as plt\n",
    "from itertools import product\n",
    "import pyspark.sql.functions as psqlf\n",
    "from pyspark.ml.feature import VectorAssembler, Normalizer, StringIndexer, OneHotEncoder\n",
    "from pyspark.ml import Pipeline\n",
    "from pyspark.ml.classification import GBTClassifier, RandomForestClassifier\n",
    "from pyspark.ml.evaluation import MulticlassClassificationEvaluator\n",
    "from pyspark.ml.tuning import ParamGridBuilder, CrossValidator\n",
    "from keras.models import Sequential\n",
    "from keras.layers import Dense, Dropout\n",
    "from sklearn.preprocessing import MinMaxScaler\n",
    "from repository.mlrepositoryclient import MLRepositoryClient\n",
    "from repository.mlrepositoryartifact import MLRepositoryArtifact\n",
    "from repository.mlrepository import MetaProps\n",
    "import urllib3, requests, json, base64, ibm_boto3\n",
    "from ibm_botocore.client import Config "
   ]
  },
  {
   "cell_type": "markdown",
   "metadata": {},
   "source": [
    "### Data load"
   ]
  },
  {
   "cell_type": "code",
   "execution_count": 2,
   "metadata": {},
   "outputs": [],
   "source": [
    "df_1 = pd.read_csv('~/notebook/work/PS_20174392719_1491204439457_log.csv')"
   ]
  },
  {
   "cell_type": "code",
   "execution_count": 3,
   "metadata": {},
   "outputs": [
    {
     "data": {
      "text/plain": [
       "6362620"
      ]
     },
     "execution_count": 3,
     "metadata": {},
     "output_type": "execute_result"
    }
   ],
   "source": [
    "len(df_1)"
   ]
  },
  {
   "cell_type": "markdown",
   "metadata": {},
   "source": [
    "Function to make stratified sample of dataset which is too big for free IBM cloud instance"
   ]
  },
  {
   "cell_type": "code",
   "execution_count": 4,
   "metadata": {},
   "outputs": [],
   "source": [
    "def fold_ctrl (fun_df, folds_no):\n",
    "    fun_no_of_rows = len(fun_df)\n",
    "    np.random.seed(23434)\n",
    "    vect = np.random.choice(range(folds_no), size = fun_no_of_rows , p=np.full((1, folds_no), 1/folds_no)[0])\n",
    "    return pd.DataFrame(vect)"
   ]
  },
  {
   "cell_type": "code",
   "execution_count": 5,
   "metadata": {},
   "outputs": [],
   "source": [
    "df_1 = pd.concat([df_1.groupby(['isFraud', 'step' , 'type']).apply(lambda x:fold_ctrl (x , 120  ) ).reset_index(drop=True).rename({0:'folds'}, axis=1) ,\n",
    "    df_1], axis=1)"
   ]
  },
  {
   "cell_type": "markdown",
   "metadata": {},
   "source": [
    "### Features engineering\n",
    "\n",
    "Following data exploration, following features are proposed.\n",
    "\n",
    "Features are created before load to Spark, because it looks like Keras2DML is not supporting multi-layer perception neural networks (question asked in the forum without feedback at the time of submission), therefore neural network will be trained and evaluated locally\n"
   ]
  },
  {
   "cell_type": "code",
   "execution_count": 6,
   "metadata": {},
   "outputs": [],
   "source": [
    "df_1 = df_1.assign(hour= df_1.step % 24)\\\n",
    "    .assign(origNameChar= df_1[\"nameOrig\"].str.get(0)) \\\n",
    "    .assign(origNameLen= df_1[\"nameOrig\"].str.len()) \\\n",
    "    .assign(destNameChar= df_1[\"nameDest\"].str.get(0)) \\\n",
    "    .assign(destNameLen= df_1[\"nameDest\"].str.len()) \\\n",
    "    .assign(destbalDiff= df_1[\"newbalanceDest\"] - df_1[\"oldbalanceDest\"] - df_1[\"amount\"]) \\\n",
    "    .assign(orgbalDiff= df_1[\"oldbalanceOrg\"] - df_1[\"newbalanceOrig\"] - df_1[\"amount\"])#.head()#groupby('hour').count()"
   ]
  },
  {
   "cell_type": "code",
   "execution_count": 7,
   "metadata": {},
   "outputs": [
    {
     "data": {
      "text/html": [
       "<div>\n",
       "<style scoped>\n",
       "    .dataframe tbody tr th:only-of-type {\n",
       "        vertical-align: middle;\n",
       "    }\n",
       "\n",
       "    .dataframe tbody tr th {\n",
       "        vertical-align: top;\n",
       "    }\n",
       "\n",
       "    .dataframe thead th {\n",
       "        text-align: right;\n",
       "    }\n",
       "</style>\n",
       "<table border=\"1\" class=\"dataframe\">\n",
       "  <thead>\n",
       "    <tr style=\"text-align: right;\">\n",
       "      <th></th>\n",
       "      <th>folds</th>\n",
       "      <th>step</th>\n",
       "      <th>type</th>\n",
       "      <th>amount</th>\n",
       "      <th>nameOrig</th>\n",
       "      <th>oldbalanceOrg</th>\n",
       "      <th>newbalanceOrig</th>\n",
       "      <th>nameDest</th>\n",
       "      <th>oldbalanceDest</th>\n",
       "      <th>newbalanceDest</th>\n",
       "      <th>isFraud</th>\n",
       "      <th>isFlaggedFraud</th>\n",
       "      <th>hour</th>\n",
       "      <th>origNameChar</th>\n",
       "      <th>origNameLen</th>\n",
       "      <th>destNameChar</th>\n",
       "      <th>destNameLen</th>\n",
       "      <th>destbalDiff</th>\n",
       "      <th>orgbalDiff</th>\n",
       "    </tr>\n",
       "  </thead>\n",
       "  <tbody>\n",
       "    <tr>\n",
       "      <th>0</th>\n",
       "      <td>110</td>\n",
       "      <td>1</td>\n",
       "      <td>PAYMENT</td>\n",
       "      <td>9839.64</td>\n",
       "      <td>C1231006815</td>\n",
       "      <td>170136.0</td>\n",
       "      <td>160296.36</td>\n",
       "      <td>M1979787155</td>\n",
       "      <td>0.0</td>\n",
       "      <td>0.0</td>\n",
       "      <td>0</td>\n",
       "      <td>0</td>\n",
       "      <td>1</td>\n",
       "      <td>C</td>\n",
       "      <td>11</td>\n",
       "      <td>M</td>\n",
       "      <td>11</td>\n",
       "      <td>-9839.64</td>\n",
       "      <td>1.455192e-11</td>\n",
       "    </tr>\n",
       "    <tr>\n",
       "      <th>1</th>\n",
       "      <td>88</td>\n",
       "      <td>1</td>\n",
       "      <td>PAYMENT</td>\n",
       "      <td>1864.28</td>\n",
       "      <td>C1666544295</td>\n",
       "      <td>21249.0</td>\n",
       "      <td>19384.72</td>\n",
       "      <td>M2044282225</td>\n",
       "      <td>0.0</td>\n",
       "      <td>0.0</td>\n",
       "      <td>0</td>\n",
       "      <td>0</td>\n",
       "      <td>1</td>\n",
       "      <td>C</td>\n",
       "      <td>11</td>\n",
       "      <td>M</td>\n",
       "      <td>11</td>\n",
       "      <td>-1864.28</td>\n",
       "      <td>-1.136868e-12</td>\n",
       "    </tr>\n",
       "    <tr>\n",
       "      <th>2</th>\n",
       "      <td>20</td>\n",
       "      <td>1</td>\n",
       "      <td>TRANSFER</td>\n",
       "      <td>181.00</td>\n",
       "      <td>C1305486145</td>\n",
       "      <td>181.0</td>\n",
       "      <td>0.00</td>\n",
       "      <td>C553264065</td>\n",
       "      <td>0.0</td>\n",
       "      <td>0.0</td>\n",
       "      <td>1</td>\n",
       "      <td>0</td>\n",
       "      <td>1</td>\n",
       "      <td>C</td>\n",
       "      <td>11</td>\n",
       "      <td>C</td>\n",
       "      <td>10</td>\n",
       "      <td>-181.00</td>\n",
       "      <td>0.000000e+00</td>\n",
       "    </tr>\n",
       "    <tr>\n",
       "      <th>3</th>\n",
       "      <td>110</td>\n",
       "      <td>1</td>\n",
       "      <td>CASH_OUT</td>\n",
       "      <td>181.00</td>\n",
       "      <td>C840083671</td>\n",
       "      <td>181.0</td>\n",
       "      <td>0.00</td>\n",
       "      <td>C38997010</td>\n",
       "      <td>21182.0</td>\n",
       "      <td>0.0</td>\n",
       "      <td>1</td>\n",
       "      <td>0</td>\n",
       "      <td>1</td>\n",
       "      <td>C</td>\n",
       "      <td>10</td>\n",
       "      <td>C</td>\n",
       "      <td>9</td>\n",
       "      <td>-21363.00</td>\n",
       "      <td>0.000000e+00</td>\n",
       "    </tr>\n",
       "    <tr>\n",
       "      <th>4</th>\n",
       "      <td>6</td>\n",
       "      <td>1</td>\n",
       "      <td>PAYMENT</td>\n",
       "      <td>11668.14</td>\n",
       "      <td>C2048537720</td>\n",
       "      <td>41554.0</td>\n",
       "      <td>29885.86</td>\n",
       "      <td>M1230701703</td>\n",
       "      <td>0.0</td>\n",
       "      <td>0.0</td>\n",
       "      <td>0</td>\n",
       "      <td>0</td>\n",
       "      <td>1</td>\n",
       "      <td>C</td>\n",
       "      <td>11</td>\n",
       "      <td>M</td>\n",
       "      <td>11</td>\n",
       "      <td>-11668.14</td>\n",
       "      <td>0.000000e+00</td>\n",
       "    </tr>\n",
       "  </tbody>\n",
       "</table>\n",
       "</div>"
      ],
      "text/plain": [
       "   folds  step      type    amount     nameOrig  oldbalanceOrg  \\\n",
       "0    110     1   PAYMENT   9839.64  C1231006815       170136.0   \n",
       "1     88     1   PAYMENT   1864.28  C1666544295        21249.0   \n",
       "2     20     1  TRANSFER    181.00  C1305486145          181.0   \n",
       "3    110     1  CASH_OUT    181.00   C840083671          181.0   \n",
       "4      6     1   PAYMENT  11668.14  C2048537720        41554.0   \n",
       "\n",
       "   newbalanceOrig     nameDest  oldbalanceDest  newbalanceDest  isFraud  \\\n",
       "0       160296.36  M1979787155             0.0             0.0        0   \n",
       "1        19384.72  M2044282225             0.0             0.0        0   \n",
       "2            0.00   C553264065             0.0             0.0        1   \n",
       "3            0.00    C38997010         21182.0             0.0        1   \n",
       "4        29885.86  M1230701703             0.0             0.0        0   \n",
       "\n",
       "   isFlaggedFraud  hour origNameChar  origNameLen destNameChar  destNameLen  \\\n",
       "0               0     1            C           11            M           11   \n",
       "1               0     1            C           11            M           11   \n",
       "2               0     1            C           11            C           10   \n",
       "3               0     1            C           10            C            9   \n",
       "4               0     1            C           11            M           11   \n",
       "\n",
       "   destbalDiff    orgbalDiff  \n",
       "0     -9839.64  1.455192e-11  \n",
       "1     -1864.28 -1.136868e-12  \n",
       "2      -181.00  0.000000e+00  \n",
       "3    -21363.00  0.000000e+00  \n",
       "4    -11668.14  0.000000e+00  "
      ]
     },
     "execution_count": 7,
     "metadata": {},
     "output_type": "execute_result"
    }
   ],
   "source": [
    "df_1.head()"
   ]
  },
  {
   "cell_type": "markdown",
   "metadata": {},
   "source": [
    "### Start and load data to Spark"
   ]
  },
  {
   "cell_type": "code",
   "execution_count": 8,
   "metadata": {},
   "outputs": [],
   "source": [
    "spark = SparkSession\\\n",
    "    .builder\\\n",
    "    .getOrCreate()"
   ]
  },
  {
   "cell_type": "code",
   "execution_count": 9,
   "metadata": {},
   "outputs": [
    {
     "data": {
      "text/plain": [
       "<pyspark.sql.session.SparkSession at 0x7f30324cf588>"
      ]
     },
     "execution_count": 9,
     "metadata": {},
     "output_type": "execute_result"
    }
   ],
   "source": [
    "spark"
   ]
  },
  {
   "cell_type": "code",
   "execution_count": 10,
   "metadata": {},
   "outputs": [],
   "source": [
    "data_subset_ctr_string = \"folds < 4\"\n",
    "train_set_ctrl_string = \"folds < 3\"\n",
    "test_set_ctrl_string = \"folds == 3\"\n",
    "spark_df1 = spark.createDataFrame(df_1.query(data_subset_ctr_string))"
   ]
  },
  {
   "cell_type": "code",
   "execution_count": 11,
   "metadata": {},
   "outputs": [
    {
     "data": {
      "text/plain": [
       "DataFrame[folds: bigint, step: bigint, type: string, amount: double, nameOrig: string, oldbalanceOrg: double, newbalanceOrig: double, nameDest: string, oldbalanceDest: double, newbalanceDest: double, isFraud: bigint, isFlaggedFraud: bigint, hour: bigint, origNameChar: string, origNameLen: bigint, destNameChar: string, destNameLen: bigint, destbalDiff: double, orgbalDiff: double]"
      ]
     },
     "execution_count": 11,
     "metadata": {},
     "output_type": "execute_result"
    }
   ],
   "source": [
    "spark_df1"
   ]
  },
  {
   "cell_type": "code",
   "execution_count": 12,
   "metadata": {},
   "outputs": [
    {
     "data": {
      "text/plain": [
       "[Row(folds=0, step=1, type='PAYMENT', amount=4206.84, nameOrig='C215078753', oldbalanceOrg=0.0, newbalanceOrig=0.0, nameDest='M1757317128', oldbalanceDest=0.0, newbalanceDest=0.0, isFraud=0, isFlaggedFraud=0, hour=1, origNameChar='C', origNameLen=10, destNameChar='M', destNameLen=11, destbalDiff=-4206.84, orgbalDiff=-4206.84),\n",
       " Row(folds=0, step=1, type='PAYMENT', amount=24213.67, nameOrig='C1238616099', oldbalanceOrg=0.0, newbalanceOrig=0.0, nameDest='M70695990', oldbalanceDest=0.0, newbalanceDest=0.0, isFraud=0, isFlaggedFraud=0, hour=1, origNameChar='C', origNameLen=11, destNameChar='M', destNameLen=9, destbalDiff=-24213.67, orgbalDiff=-24213.67)]"
      ]
     },
     "execution_count": 12,
     "metadata": {},
     "output_type": "execute_result"
    }
   ],
   "source": [
    "spark_df1.take(2)"
   ]
  },
  {
   "cell_type": "markdown",
   "metadata": {},
   "source": [
    "### Spark ETL pipeline"
   ]
  },
  {
   "cell_type": "code",
   "execution_count": 17,
   "metadata": {},
   "outputs": [],
   "source": [
    "stringIndexer = StringIndexer(inputCol=\"type\", outputCol=\"type_indexed\")"
   ]
  },
  {
   "cell_type": "code",
   "execution_count": 18,
   "metadata": {},
   "outputs": [],
   "source": [
    "ohe = OneHotEncoder(inputCol=\"type_indexed\", outputCol=\"type_ohe\")"
   ]
  },
  {
   "cell_type": "code",
   "execution_count": 19,
   "metadata": {},
   "outputs": [],
   "source": [
    "vectorAssembler = VectorAssembler(inputCols=[\"type_ohe\", \"amount\", \"oldbalanceOrg\",\"newbalanceOrig\", \"oldbalanceDest\", \"newbalanceDest\"],\n",
    "                                  outputCol=\"features\")"
   ]
  },
  {
   "cell_type": "code",
   "execution_count": 20,
   "metadata": {},
   "outputs": [],
   "source": [
    "normalizer = Normalizer(p=2.0, inputCol=\"features\", outputCol=\"features_norm\")"
   ]
  },
  {
   "cell_type": "code",
   "execution_count": 21,
   "metadata": {},
   "outputs": [],
   "source": [
    "pipeline = Pipeline(stages=[stringIndexer, ohe, vectorAssembler, normalizer])\n",
    "model_pipeline = pipeline.fit(spark_df1)"
   ]
  },
  {
   "cell_type": "code",
   "execution_count": 22,
   "metadata": {
    "scrolled": true
   },
   "outputs": [
    {
     "name": "stdout",
     "output_type": "stream",
     "text": [
      "+-----+----+--------+----------+-----------+-------------+--------------+-----------+--------------+--------------+-------+--------------+----+------------+-----------+------------+-----------+------------------+--------------------+--------------------+--------------------+\n",
      "|folds|step|    type|    amount|   nameOrig|oldbalanceOrg|newbalanceOrig|   nameDest|oldbalanceDest|newbalanceDest|isFraud|isFlaggedFraud|hour|origNameChar|origNameLen|destNameChar|destNameLen|       destbalDiff|          orgbalDiff|            features|       features_norm|\n",
      "+-----+----+--------+----------+-----------+-------------+--------------+-----------+--------------+--------------+-------+--------------+----+------------+-----------+------------+-----------+------------------+--------------------+--------------------+--------------------+\n",
      "|    0|   1| PAYMENT|   4206.84| C215078753|          0.0|           0.0|M1757317128|           0.0|           0.0|      0|             0|   1|           C|         10|           M|         11|          -4206.84|            -4206.84|(9,[1,4],[1.0,420...|(9,[1,4],[2.37708...|\n",
      "|    0|   1| PAYMENT|  24213.67|C1238616099|          0.0|           0.0|  M70695990|           0.0|           0.0|      0|             0|   1|           C|         11|           M|          9|         -24213.67|           -24213.67|(9,[1,4],[1.0,242...|(9,[1,4],[4.12989...|\n",
      "|    3|   1| PAYMENT|   5086.48| C598357562|          0.0|           0.0|M1593224710|           0.0|           0.0|      0|             0|   1|           C|         10|           M|         11|          -5086.48|            -5086.48|(9,[1,4],[1.0,508...|(9,[1,4],[1.96599...|\n",
      "|    0|   1| PAYMENT|    2875.1|C1412322831|      15443.0|       12567.9|M1651262695|           0.0|           0.0|      0|             0|   1|           C|         11|           M|         11|           -2875.1|4.547473508864641...|(9,[1,4,5,6],[1.0...|(9,[1,4,5,6],[4.9...|\n",
      "|    1|   1| PAYMENT|   1203.44| C922807452|      29941.0|      28737.56|  M33563464|           0.0|           0.0|      0|             0|   1|           C|         10|           M|          9|          -1203.44|-1.36424205265939...|(9,[1,4,5,6],[1.0...|(9,[1,4,5,6],[2.4...|\n",
      "|    3|   1| PAYMENT|   1718.29| C603658030|     117811.0|     116092.71|M1689924104|           0.0|           0.0|      0|             0|   1|           C|         10|           M|         11|          -1718.29|-6.36646291241049...|(9,[1,4,5,6],[1.0...|(9,[1,4,5,6],[6.0...|\n",
      "|    0|   1| PAYMENT|   1239.06|C1574873161|     396386.0|     395146.94|M1591916281|           0.0|           0.0|      0|             0|   1|           C|         11|           M|         11|          -1239.06|-2.27373675443232...|(9,[1,4,5,6],[1.0...|(9,[1,4,5,6],[1.7...|\n",
      "|    0|   1| PAYMENT|    8491.9| C795748540|          0.0|           0.0|M2081000371|           0.0|           0.0|      0|             0|   1|           C|         10|           M|         11|           -8491.9|             -8491.9|(9,[1,4],[1.0,849...|(9,[1,4],[1.17759...|\n",
      "|    3|   1| PAYMENT|   2803.83|C1129433283|          0.0|           0.0| M864138492|           0.0|           0.0|      0|             0|   1|           C|         11|           M|         10|          -2803.83|            -2803.83|(9,[1,4],[1.0,280...|(9,[1,4],[3.56654...|\n",
      "|    0|   1| PAYMENT|   2773.61| C191568263|      14332.0|      11558.39|M1799635803|           0.0|           0.0|      0|             0|   1|           C|         10|           M|         11|          -2773.61|4.547473508864641...|(9,[1,4,5,6],[1.0...|(9,[1,4,5,6],[5.3...|\n",
      "|    2|   1|TRANSFER| 438437.09| C977160959|          0.0|           0.0| C248609774|     740675.45|    6453430.91|      0|             0|   1|           C|         10|           C|         10|        5274318.37|          -438437.09|(9,[3,4,7,8],[1.0...|(9,[3,4,7,8],[1.5...|\n",
      "|    3|   1|TRANSFER|2061082.82|C2007599722|          0.0|           0.0|C1590550415| 1.493991542E7| 1.916920493E7|      0|             0|   1|           C|         11|           C|         11|2168206.6899999995|         -2061082.82|(9,[3,4,7,8],[1.0...|(9,[3,4,7,8],[4.0...|\n",
      "|    3|   1| CASH_IN|  35902.49| C839771540|    371688.15|     407590.65|C2001112025|       49003.3|           0.0|      0|             0|   1|           C|         10|           C|         11|-84905.79000000001|  -71804.98999999999|[0.0,0.0,1.0,0.0,...|[0.0,0.0,1.801955...|\n",
      "|    3|   1| CASH_IN|  84980.31|  C16148478|   2641780.43|    2726760.74|C1335050193|     165879.75|     353532.56|      0|             0|   1|           C|          9|           C|         11|          102672.5| -169960.62000000005|[0.0,0.0,1.0,0.0,...|[0.0,0.0,2.619457...|\n",
      "|    1|   1|   DEBIT|   5581.55| C997695567|        530.0|           0.0|C1282788025|      55058.57|           0.0|      0|             0|   1|           C|         10|           C|         11|         -60640.12|            -5051.55|(9,[4,5,7],[5581....|(9,[4,5,7],[0.100...|\n",
      "|    0|   1| PAYMENT|   5033.02|C1057307776|      23946.7|      18913.68|M1819038759|           0.0|           0.0|      0|             0|   1|           C|         11|           M|         11|          -5033.02|                 0.0|(9,[1,4,5,6],[1.0...|(9,[1,4,5,6],[3.2...|\n",
      "|    0|   1| PAYMENT|   4531.55| C999647352|      20125.0|      15593.45| M911501858|           0.0|           0.0|      0|             0|   1|           C|         10|           M|         10|          -4531.55|-9.09494701772928...|(9,[1,4,5,6],[1.0...|(9,[1,4,5,6],[3.8...|\n",
      "|    3|   1| PAYMENT|   3316.21|C1626852381|          0.0|           0.0| M300604602|           0.0|           0.0|      0|             0|   1|           C|         11|           M|         10|          -3316.21|            -3316.21|(9,[1,4],[1.0,331...|(9,[1,4],[3.01549...|\n",
      "|    0|   1| CASH_IN| 219220.21| C811562535|   4028495.42|    4247715.63| C451111351|    1974114.63|    3940085.21|      0|             0|   1|           C|         10|           C|         10|        1746750.37|  -438440.4199999999|[0.0,0.0,1.0,0.0,...|[0.0,0.0,1.364098...|\n",
      "|    1|   1| CASH_IN|  46630.53| C194415222|   7374897.54|    7421528.07|C2083562754|     604846.71|    1186556.81|      0|             0|   1|           C|         10|           C|         11| 535079.5700000001|  -93261.06000000026|[0.0,0.0,1.0,0.0,...|[0.0,0.0,9.481159...|\n",
      "+-----+----+--------+----------+-----------+-------------+--------------+-----------+--------------+--------------+-------+--------------+----+------------+-----------+------------+-----------+------------------+--------------------+--------------------+--------------------+\n",
      "only showing top 20 rows\n",
      "\n"
     ]
    }
   ],
   "source": [
    "transformedData  = model_pipeline.transform(spark_df1).drop('type_indexed','type_ohe')\n",
    "transformedData.show()"
   ]
  },
  {
   "cell_type": "code",
   "execution_count": 24,
   "metadata": {},
   "outputs": [
    {
     "data": {
      "text/plain": [
       "[Row(folds=0, step=1, type='PAYMENT', amount=4206.84, nameOrig='C215078753', oldbalanceOrg=0.0, newbalanceOrig=0.0, nameDest='M1757317128', oldbalanceDest=0.0, newbalanceDest=0.0, isFraud=0, isFlaggedFraud=0, hour=1, origNameChar='C', origNameLen=10, destNameChar='M', destNameLen=11, destbalDiff=-4206.84, orgbalDiff=-4206.84, features=SparseVector(9, {1: 1.0, 4: 4206.84}), features_norm=SparseVector(9, {1: 0.0002, 4: 1.0})),\n",
       " Row(folds=0, step=1, type='PAYMENT', amount=24213.67, nameOrig='C1238616099', oldbalanceOrg=0.0, newbalanceOrig=0.0, nameDest='M70695990', oldbalanceDest=0.0, newbalanceDest=0.0, isFraud=0, isFlaggedFraud=0, hour=1, origNameChar='C', origNameLen=11, destNameChar='M', destNameLen=9, destbalDiff=-24213.67, orgbalDiff=-24213.67, features=SparseVector(9, {1: 1.0, 4: 24213.67}), features_norm=SparseVector(9, {1: 0.0, 4: 1.0}))]"
      ]
     },
     "execution_count": 24,
     "metadata": {},
     "output_type": "execute_result"
    }
   ],
   "source": [
    "transformedData.take(2)"
   ]
  },
  {
   "cell_type": "markdown",
   "metadata": {},
   "source": [
    "### Model definition – Gradient Boosting Trees"
   ]
  },
  {
   "cell_type": "code",
   "execution_count": 26,
   "metadata": {},
   "outputs": [],
   "source": [
    "gbt = GBTClassifier(maxIter=10, maxDepth=3, labelCol=\"isFraud\", featuresCol = \"features_norm\", seed=42)"
   ]
  },
  {
   "cell_type": "markdown",
   "metadata": {},
   "source": [
    "### Model train – Gradient Boosting Trees"
   ]
  },
  {
   "cell_type": "code",
   "execution_count": 27,
   "metadata": {},
   "outputs": [],
   "source": [
    "model_gbt = gbt.fit(transformedData.filter(train_set_ctrl_string))"
   ]
  },
  {
   "cell_type": "markdown",
   "metadata": {},
   "source": [
    "### Model prediction – Gradient Boosting Trees"
   ]
  },
  {
   "cell_type": "markdown",
   "metadata": {},
   "source": [
    "Train set"
   ]
  },
  {
   "cell_type": "code",
   "execution_count": 28,
   "metadata": {},
   "outputs": [
    {
     "name": "stdout",
     "output_type": "stream",
     "text": [
      "+----------+-------+------+\n",
      "|prediction|isFraud| count|\n",
      "+----------+-------+------+\n",
      "|       1.0|      1|    91|\n",
      "|       0.0|      1|    85|\n",
      "|       0.0|      0|152856|\n",
      "+----------+-------+------+\n",
      "\n"
     ]
    }
   ],
   "source": [
    "model_gbt.transform(transformedData.filter(train_set_ctrl_string)).groupBy('prediction','isFraud').count().show()"
   ]
  },
  {
   "cell_type": "markdown",
   "metadata": {},
   "source": [
    "Test set"
   ]
  },
  {
   "cell_type": "code",
   "execution_count": 29,
   "metadata": {},
   "outputs": [
    {
     "name": "stdout",
     "output_type": "stream",
     "text": [
      "+----------+-------+-----+\n",
      "|prediction|isFraud|count|\n",
      "+----------+-------+-----+\n",
      "|       1.0|      1|   49|\n",
      "|       0.0|      1|   43|\n",
      "|       1.0|      0|    1|\n",
      "|       0.0|      0|62812|\n",
      "+----------+-------+-----+\n",
      "\n"
     ]
    }
   ],
   "source": [
    "model_gbt.transform(transformedData.filter(test_set_ctrl_string)).groupBy('prediction','isFraud').count().show()"
   ]
  },
  {
   "cell_type": "markdown",
   "metadata": {},
   "source": [
    "### Model evaluation – Gradient Boosting Trees"
   ]
  },
  {
   "cell_type": "code",
   "execution_count": 149,
   "metadata": {},
   "outputs": [],
   "source": [
    "def displayModelPerformance(tmp_df):\n",
    "    positives = tmp_df[tmp_df.isFraud ==1]['count'].sum()\n",
    "    negatives = tmp_df[tmp_df.isFraud ==0]['count'].sum()\n",
    "    TP = tmp_df.query('(isFraud ==1) & (prediction ==1)')['count'].sum()\n",
    "    TN = tmp_df.query('(isFraud ==0) & (prediction ==0)')['count'].sum()\n",
    "    print(\"Sensitivity: {:6.4f} pct\".format(100*TP/positives) )\n",
    "    print(\"Specificity: {:6.4f} pct\".format(100*TN/negatives) )\n",
    "    print(\"Accuracy: {:6.4f} pct\".format(100*(TN+TP)/(positives+negatives) ))"
   ]
  },
  {
   "cell_type": "code",
   "execution_count": 85,
   "metadata": {},
   "outputs": [],
   "source": [
    "evaluation = MulticlassClassificationEvaluator(predictionCol='prediction', labelCol='isFraud', metricName='accuracy')"
   ]
  },
  {
   "cell_type": "code",
   "execution_count": 86,
   "metadata": {},
   "outputs": [
    {
     "name": "stdout",
     "output_type": "stream",
     "text": [
      "Test set accuracy: 0.9993005325490819\n"
     ]
    }
   ],
   "source": [
    "print (\"Test set accuracy: {}\".format(evaluation.evaluate(model_gbt.transform(transformedData.filter(test_set_ctrl_string)))))"
   ]
  },
  {
   "cell_type": "code",
   "execution_count": 81,
   "metadata": {},
   "outputs": [
    {
     "name": "stdout",
     "output_type": "stream",
     "text": [
      "Sensitivity: 53.2609 pct\n",
      "Specificity: 99.9984 pct\n",
      "Accuracy: 99.9301 pct\n"
     ]
    }
   ],
   "source": [
    "displayModelPerformance(model_gbt.transform(transformedData.filter(test_set_ctrl_string)).groupBy('prediction','isFraud').count().toPandas())"
   ]
  },
  {
   "cell_type": "markdown",
   "metadata": {},
   "source": [
    "### Model definition – RandomForest"
   ]
  },
  {
   "cell_type": "code",
   "execution_count": 83,
   "metadata": {},
   "outputs": [],
   "source": [
    "rf = RandomForestClassifier(numTrees=100, maxDepth=5,  featuresCol = \"features_norm\", labelCol=\"isFraud\", seed=42)"
   ]
  },
  {
   "cell_type": "markdown",
   "metadata": {},
   "source": [
    "### Model train – RandomForest"
   ]
  },
  {
   "cell_type": "code",
   "execution_count": 84,
   "metadata": {},
   "outputs": [],
   "source": [
    "model_rf = rf.fit(transformedData.filter(train_set_ctrl_string))"
   ]
  },
  {
   "cell_type": "markdown",
   "metadata": {},
   "source": [
    "### Model evaluation – RandomForest"
   ]
  },
  {
   "cell_type": "code",
   "execution_count": 87,
   "metadata": {},
   "outputs": [
    {
     "name": "stdout",
     "output_type": "stream",
     "text": [
      "Test set accuracy: 0.9993641204991655\n"
     ]
    }
   ],
   "source": [
    "print (\"Test set accuracy: {}\".format(evaluation.evaluate(model_rf.transform(transformedData.filter(test_set_ctrl_string)))))"
   ]
  },
  {
   "cell_type": "code",
   "execution_count": 88,
   "metadata": {},
   "outputs": [
    {
     "name": "stdout",
     "output_type": "stream",
     "text": [
      "Sensitivity: 56.5217 pct\n",
      "Specificity: 100.0000 pct\n",
      "Accuracy: 99.9364 pct\n"
     ]
    }
   ],
   "source": [
    "displayModelPerformance(model_rf.transform(transformedData.filter(test_set_ctrl_string)).groupBy('prediction','isFraud').count().toPandas())"
   ]
  },
  {
   "cell_type": "markdown",
   "metadata": {},
   "source": [
    "### Parameters tuning and cross-validation - Gradient Boosting Trees"
   ]
  },
  {
   "cell_type": "markdown",
   "metadata": {},
   "source": [
    "Defining parameters grid and cross-validation settings "
   ]
  },
  {
   "cell_type": "code",
   "execution_count": 91,
   "metadata": {},
   "outputs": [],
   "source": [
    "grid_gbt = ParamGridBuilder().addGrid(gbt.maxIter, [ 10 , 20, 25]).build()"
   ]
  },
  {
   "cell_type": "code",
   "execution_count": 92,
   "metadata": {},
   "outputs": [],
   "source": [
    "cv_gbt = CrossValidator(estimator=gbt, estimatorParamMaps=grid_gbt, evaluator=evaluation, seed=747) #default no of folds used"
   ]
  },
  {
   "cell_type": "code",
   "execution_count": 93,
   "metadata": {},
   "outputs": [],
   "source": [
    "cvModel_gbt = cv_gbt.fit(transformedData.filter(train_set_ctrl_string))"
   ]
  },
  {
   "cell_type": "code",
   "execution_count": 96,
   "metadata": {},
   "outputs": [
    {
     "name": "stdout",
     "output_type": "stream",
     "text": [
      "Test set accuracy: 0.9993800174866863\n"
     ]
    }
   ],
   "source": [
    "print (\"Test set accuracy: {}\".format(evaluation.evaluate(cvModel_gbt.transform(transformedData.filter(test_set_ctrl_string)))))"
   ]
  },
  {
   "cell_type": "code",
   "execution_count": 97,
   "metadata": {},
   "outputs": [
    {
     "name": "stdout",
     "output_type": "stream",
     "text": [
      "Sensitivity: 58.6957 pct\n",
      "Specificity: 99.9984 pct\n",
      "Accuracy: 99.9380 pct\n"
     ]
    }
   ],
   "source": [
    "displayModelPerformance(cvModel_gbt.transform(transformedData.filter(test_set_ctrl_string)).groupBy('prediction','isFraud').count().toPandas())"
   ]
  },
  {
   "cell_type": "code",
   "execution_count": 94,
   "metadata": {},
   "outputs": [
    {
     "data": {
      "text/plain": [
       "[0.9993926208820942, 0.9994317208019394, 0.9994382635489771]"
      ]
     },
     "execution_count": 94,
     "metadata": {},
     "output_type": "execute_result"
    }
   ],
   "source": [
    "[ x for x in cvModel_gbt.avgMetrics]"
   ]
  },
  {
   "cell_type": "code",
   "execution_count": 98,
   "metadata": {},
   "outputs": [
    {
     "name": "stdout",
     "output_type": "stream",
     "text": [
      "+----------+-------+-----+\n",
      "|prediction|isFraud|count|\n",
      "+----------+-------+-----+\n",
      "|       1.0|      1|   54|\n",
      "|       0.0|      1|   38|\n",
      "|       1.0|      0|    1|\n",
      "|       0.0|      0|62812|\n",
      "+----------+-------+-----+\n",
      "\n"
     ]
    }
   ],
   "source": [
    "cvModel_gbt.transform(transformedData.filter(test_set_ctrl_string)).groupBy('prediction','isFraud').count().show()"
   ]
  },
  {
   "cell_type": "markdown",
   "metadata": {},
   "source": [
    "### Parameters tuning and cross-validation - RandomForest"
   ]
  },
  {
   "cell_type": "code",
   "execution_count": 100,
   "metadata": {},
   "outputs": [],
   "source": [
    "grid_rf = ParamGridBuilder().addGrid(rf.numTrees, [ 150 , 75]).addGrid(rf.maxDepth, [ 3 , 7]).build()   "
   ]
  },
  {
   "cell_type": "code",
   "execution_count": 101,
   "metadata": {},
   "outputs": [],
   "source": [
    "cv_rf = CrossValidator(estimator=rf, estimatorParamMaps=grid_rf, evaluator=evaluation, seed=747)"
   ]
  },
  {
   "cell_type": "code",
   "execution_count": 102,
   "metadata": {},
   "outputs": [],
   "source": [
    "cvModel_rf = cv_rf.fit(transformedData.filter(train_set_ctrl_string))"
   ]
  },
  {
   "cell_type": "code",
   "execution_count": 103,
   "metadata": {},
   "outputs": [
    {
     "name": "stdout",
     "output_type": "stream",
     "text": [
      "Test set accuracy: 0.999523090374374\n"
     ]
    }
   ],
   "source": [
    "print (\"Test set accuracy: {}\".format(evaluation.evaluate(cvModel_rf.transform(transformedData.filter(test_set_ctrl_string)))))"
   ]
  },
  {
   "cell_type": "code",
   "execution_count": 104,
   "metadata": {},
   "outputs": [
    {
     "name": "stdout",
     "output_type": "stream",
     "text": [
      "Sensitivity: 67.3913 pct\n",
      "Specificity: 100.0000 pct\n",
      "Accuracy: 99.9523 pct\n"
     ]
    }
   ],
   "source": [
    "displayModelPerformance(cvModel_rf.transform(transformedData.filter(test_set_ctrl_string)).groupBy('prediction','isFraud').count().toPandas())"
   ]
  },
  {
   "cell_type": "markdown",
   "metadata": {},
   "source": [
    "### Features engineering  - Spark ETL"
   ]
  },
  {
   "cell_type": "code",
   "execution_count": 106,
   "metadata": {},
   "outputs": [],
   "source": [
    "stringIndexer_destNameChar = StringIndexer(inputCol=\"destNameChar\", outputCol=\"destNameChar_indexed\")\n",
    "ohe_destNameChar = OneHotEncoder(inputCol=\"destNameChar_indexed\", outputCol=\"destNameChar_ohe\")\n",
    "vectorAssemblerFeatEng = VectorAssembler(inputCols=[\"type_ohe\", \"amount\", \"oldbalanceOrg\",\"newbalanceOrig\", \"oldbalanceDest\", \n",
    "                                                    \"newbalanceDest\",\"destNameChar_ohe\",\"hour\",\"origNameLen\",\"destNameLen\", \"destbalDiff\", \"orgbalDiff\"],\n",
    "                                  outputCol=\"features\")"
   ]
  },
  {
   "cell_type": "code",
   "execution_count": 107,
   "metadata": {},
   "outputs": [],
   "source": [
    "pipelineFeatEng = Pipeline(stages=[stringIndexer,stringIndexer_destNameChar, ohe,  ohe_destNameChar, vectorAssemblerFeatEng, normalizer])\n",
    "model_pipelineFeatEng = pipelineFeatEng.fit(spark_df1)"
   ]
  },
  {
   "cell_type": "code",
   "execution_count": 111,
   "metadata": {},
   "outputs": [
    {
     "name": "stdout",
     "output_type": "stream",
     "text": [
      "+-----+----+-------+--------+-------------+--------------+--------------+--------------+-------+----+-----------+------------+-----------+-----------+--------------------+--------------------+--------------------+\n",
      "|folds|step|   type|  amount|oldbalanceOrg|newbalanceOrig|oldbalanceDest|newbalanceDest|isFraud|hour|origNameLen|destNameChar|destNameLen|destbalDiff|          orgbalDiff|            features|       features_norm|\n",
      "+-----+----+-------+--------+-------------+--------------+--------------+--------------+-------+----+-----------+------------+-----------+-----------+--------------------+--------------------+--------------------+\n",
      "|    0|   1|PAYMENT| 4206.84|          0.0|           0.0|           0.0|           0.0|      0|   1|         10|           M|         11|   -4206.84|            -4206.84|(15,[1,4,10,11,12...|(15,[1,4,10,11,12...|\n",
      "|    0|   1|PAYMENT|24213.67|          0.0|           0.0|           0.0|           0.0|      0|   1|         11|           M|          9|  -24213.67|           -24213.67|(15,[1,4,10,11,12...|(15,[1,4,10,11,12...|\n",
      "|    3|   1|PAYMENT| 5086.48|          0.0|           0.0|           0.0|           0.0|      0|   1|         10|           M|         11|   -5086.48|            -5086.48|(15,[1,4,10,11,12...|(15,[1,4,10,11,12...|\n",
      "|    0|   1|PAYMENT|  2875.1|      15443.0|       12567.9|           0.0|           0.0|      0|   1|         11|           M|         11|    -2875.1|4.547473508864641...|[0.0,1.0,0.0,0.0,...|[0.0,4.9208510616...|\n",
      "|    1|   1|PAYMENT| 1203.44|      29941.0|      28737.56|           0.0|           0.0|      0|   1|         10|           M|          9|   -1203.44|-1.36424205265939...|[0.0,1.0,0.0,0.0,...|[0.0,2.4075722248...|\n",
      "+-----+----+-------+--------+-------------+--------------+--------------+--------------+-------+----+-----------+------------+-----------+-----------+--------------------+--------------------+--------------------+\n",
      "only showing top 5 rows\n",
      "\n"
     ]
    }
   ],
   "source": [
    "transformedDataFeatEng  = model_pipelineFeatEng.transform(spark_df1).drop('type_indexed','type_ohe','isFlaggedFraud','destNameChar_indexed','destNameChar_ohe','nameOrig','nameDest','origNameChar')\n",
    "transformedDataFeatEng.show(5)"
   ]
  },
  {
   "cell_type": "code",
   "execution_count": 110,
   "metadata": {},
   "outputs": [
    {
     "data": {
      "text/plain": [
       "[Row(folds=0, step=1, type='PAYMENT', amount=4206.84, oldbalanceOrg=0.0, newbalanceOrig=0.0, oldbalanceDest=0.0, newbalanceDest=0.0, isFraud=0, hour=1, origNameLen=10, destNameChar='M', destNameLen=11, destbalDiff=-4206.84, orgbalDiff=-4206.84, features=SparseVector(15, {1: 1.0, 4: 4206.84, 10: 1.0, 11: 10.0, 12: 11.0, 13: -4206.84, 14: -4206.84}), features_norm=SparseVector(15, {1: 0.0001, 4: 0.5773, 10: 0.0001, 11: 0.0014, 12: 0.0015, 13: -0.5773, 14: -0.5773})),\n",
       " Row(folds=0, step=1, type='PAYMENT', amount=24213.67, oldbalanceOrg=0.0, newbalanceOrig=0.0, oldbalanceDest=0.0, newbalanceDest=0.0, isFraud=0, hour=1, origNameLen=11, destNameChar='M', destNameLen=9, destbalDiff=-24213.67, orgbalDiff=-24213.67, features=SparseVector(15, {1: 1.0, 4: 24213.67, 10: 1.0, 11: 11.0, 12: 9.0, 13: -24213.67, 14: -24213.67}), features_norm=SparseVector(15, {1: 0.0, 4: 0.5774, 10: 0.0, 11: 0.0003, 12: 0.0002, 13: -0.5774, 14: -0.5774}))]"
      ]
     },
     "execution_count": 110,
     "metadata": {},
     "output_type": "execute_result"
    }
   ],
   "source": [
    "transformedDataFeatEng.take(2)"
   ]
  },
  {
   "cell_type": "markdown",
   "metadata": {},
   "source": [
    "### Features engineering  - Gradient Boosting Trees"
   ]
  },
  {
   "cell_type": "code",
   "execution_count": 112,
   "metadata": {},
   "outputs": [],
   "source": [
    "grid_gbt_FeatEng = ParamGridBuilder().addGrid(gbt.maxIter, [ 10 , 20]).build()"
   ]
  },
  {
   "cell_type": "code",
   "execution_count": 113,
   "metadata": {},
   "outputs": [],
   "source": [
    "cv_gbt_FeatEng = CrossValidator(estimator=gbt, estimatorParamMaps=grid_gbt_FeatEng, evaluator=evaluation, seed=747)"
   ]
  },
  {
   "cell_type": "code",
   "execution_count": 114,
   "metadata": {},
   "outputs": [],
   "source": [
    "cvModel_gbt_FeatEng = cv_gbt_FeatEng.fit(transformedDataFeatEng.filter(train_set_ctrl_string))"
   ]
  },
  {
   "cell_type": "code",
   "execution_count": 116,
   "metadata": {},
   "outputs": [
    {
     "name": "stdout",
     "output_type": "stream",
     "text": [
      "Test set accuracy: 0.9999205150623957\n"
     ]
    }
   ],
   "source": [
    "print (\"Test set accuracy: {}\".format(evaluation.evaluate(cvModel_gbt_FeatEng.transform(transformedDataFeatEng.filter(test_set_ctrl_string)))))"
   ]
  },
  {
   "cell_type": "code",
   "execution_count": 118,
   "metadata": {},
   "outputs": [
    {
     "name": "stdout",
     "output_type": "stream",
     "text": [
      "Sensitivity: 94.5652 pct\n",
      "Specificity: 100.0000 pct\n",
      "Accuracy: 99.9921 pct\n"
     ]
    }
   ],
   "source": [
    "displayModelPerformance(cvModel_gbt_FeatEng.transform(transformedDataFeatEng.filter(test_set_ctrl_string)).groupBy('prediction','isFraud').count().toPandas())"
   ]
  },
  {
   "cell_type": "code",
   "execution_count": null,
   "metadata": {},
   "outputs": [],
   "source": []
  },
  {
   "cell_type": "code",
   "execution_count": 119,
   "metadata": {},
   "outputs": [
    {
     "data": {
      "text/plain": [
       "[0.9999608184591238, 0.9999608184591238]"
      ]
     },
     "execution_count": 119,
     "metadata": {},
     "output_type": "execute_result"
    }
   ],
   "source": [
    "[ x for x in cvModel_gbt_FeatEng.avgMetrics]"
   ]
  },
  {
   "cell_type": "code",
   "execution_count": 120,
   "metadata": {},
   "outputs": [
    {
     "name": "stdout",
     "output_type": "stream",
     "text": [
      "+----------+-------+-----+\n",
      "|prediction|isFraud|count|\n",
      "+----------+-------+-----+\n",
      "|       1.0|      1|   87|\n",
      "|       0.0|      1|    5|\n",
      "|       0.0|      0|62813|\n",
      "+----------+-------+-----+\n",
      "\n"
     ]
    }
   ],
   "source": [
    "cvModel_gbt_FeatEng.transform(transformedDataFeatEng.filter(test_set_ctrl_string)).groupBy('prediction','isFraud').count().show()"
   ]
  },
  {
   "cell_type": "markdown",
   "metadata": {},
   "source": [
    "### Features engineering  - RandomForest"
   ]
  },
  {
   "cell_type": "code",
   "execution_count": 121,
   "metadata": {},
   "outputs": [],
   "source": [
    "grid_rf_FeatEng = ParamGridBuilder().addGrid(rf.numTrees, [ 100 , 75]).addGrid(rf.maxDepth, [ 3 , 7]).build()   "
   ]
  },
  {
   "cell_type": "code",
   "execution_count": 122,
   "metadata": {},
   "outputs": [],
   "source": [
    "cv_rf_FeatEng = CrossValidator(estimator=rf, estimatorParamMaps=grid_rf_FeatEng, evaluator=evaluation, seed=747)"
   ]
  },
  {
   "cell_type": "code",
   "execution_count": 123,
   "metadata": {},
   "outputs": [],
   "source": [
    "cvModel_rf_FeatEng = cv_rf_FeatEng.fit(transformedDataFeatEng.filter(train_set_ctrl_string))"
   ]
  },
  {
   "cell_type": "code",
   "execution_count": 124,
   "metadata": {},
   "outputs": [
    {
     "name": "stdout",
     "output_type": "stream",
     "text": [
      "Test set accuracy: 0.9999841030124791\n"
     ]
    }
   ],
   "source": [
    "print (\"Test set accuracy: {}\".format(evaluation.evaluate(cvModel_rf_FeatEng.transform(transformedDataFeatEng.filter(test_set_ctrl_string)))))"
   ]
  },
  {
   "cell_type": "code",
   "execution_count": 125,
   "metadata": {},
   "outputs": [
    {
     "name": "stdout",
     "output_type": "stream",
     "text": [
      "Sensitivity: 98.9130 pct\n",
      "Specificity: 100.0000 pct\n",
      "Accuracy: 99.9984 pct\n"
     ]
    }
   ],
   "source": [
    "displayModelPerformance(cvModel_rf_FeatEng.transform(transformedDataFeatEng.filter(test_set_ctrl_string)).groupBy('prediction','isFraud').count().toPandas())"
   ]
  },
  {
   "cell_type": "code",
   "execution_count": null,
   "metadata": {},
   "outputs": [],
   "source": []
  },
  {
   "cell_type": "code",
   "execution_count": 126,
   "metadata": {},
   "outputs": [
    {
     "data": {
      "text/plain": [
       "[0.9994317208019394,\n",
       " 0.9999803961826967,\n",
       " 0.9994382652188973,\n",
       " 0.9999478129161591]"
      ]
     },
     "execution_count": 126,
     "metadata": {},
     "output_type": "execute_result"
    }
   ],
   "source": [
    "[ x for x in cvModel_rf_FeatEng.avgMetrics]"
   ]
  },
  {
   "cell_type": "code",
   "execution_count": 127,
   "metadata": {},
   "outputs": [
    {
     "name": "stdout",
     "output_type": "stream",
     "text": [
      "+----------+-------+-----+\n",
      "|prediction|isFraud|count|\n",
      "+----------+-------+-----+\n",
      "|       1.0|      1|   91|\n",
      "|       0.0|      1|    1|\n",
      "|       0.0|      0|62813|\n",
      "+----------+-------+-----+\n",
      "\n"
     ]
    }
   ],
   "source": [
    "cvModel_rf_FeatEng.transform(transformedDataFeatEng.filter(test_set_ctrl_string)).groupBy('prediction','isFraud').count().show()"
   ]
  },
  {
   "cell_type": "markdown",
   "metadata": {},
   "source": [
    "### Parameters tuning and cross-validation - Keras"
   ]
  },
  {
   "cell_type": "code",
   "execution_count": 128,
   "metadata": {},
   "outputs": [],
   "source": [
    "def scaleData(data):\n",
    "    # normalize features\n",
    "    scaler = MinMaxScaler(feature_range=(0, 1))\n",
    "    return scaler.fit_transform(data)"
   ]
  },
  {
   "cell_type": "markdown",
   "metadata": {},
   "source": [
    "Structure data in a way suitable for neural network:"
   ]
  },
  {
   "cell_type": "code",
   "execution_count": 133,
   "metadata": {},
   "outputs": [],
   "source": [
    "keras_df = scaleData(np.concatenate(\\\n",
    "    (df_1.query(data_subset_ctr_string)[[\"amount\", \"oldbalanceOrg\",\"newbalanceOrig\", \"oldbalanceDest\", \"newbalanceDest\"]].values,  \\\n",
    "     df_1.query(data_subset_ctr_string)[\"type\"].str.get_dummies().values ), axis=1))\n",
    "\n",
    "keras_df_index = df_1.query(data_subset_ctr_string)[[\"folds\", \"isFraud\"]].reset_index(drop=True)"
   ]
  },
  {
   "cell_type": "markdown",
   "metadata": {},
   "source": [
    "Helper function for tuning neural network’s architecture"
   ]
  },
  {
   "cell_type": "code",
   "execution_count": 136,
   "metadata": {},
   "outputs": [],
   "source": [
    "def create_keras_model(params_dict, input_dim):\n",
    "    model_keras_tmp = Sequential()\n",
    "    model_keras_tmp.add(Dense(params_dict['lay_1'], input_dim=input_dim, activation='relu'))\n",
    "    model_keras_tmp.add(Dropout(params_dict['lay_1_dropout']))\n",
    "    model_keras_tmp.add(Dense(params_dict['lay_2'], activation='relu'))\n",
    "    model_keras_tmp.add(Dropout(params_dict['lay_2_dropout']))\n",
    "    model_keras_tmp.add(Dense(params_dict['lay_3'], activation='relu'))\n",
    "    model_keras_tmp.add(Dropout(params_dict['lay_3_dropout']))\n",
    "    model_keras_tmp.add(Dense(1, activation='sigmoid'))\n",
    "\n",
    "    model_keras_tmp.compile(loss='binary_crossentropy',\n",
    "                  optimizer='rmsprop',\n",
    "                  metrics=['accuracy'])\n",
    "    return model_keras_tmp"
   ]
  },
  {
   "cell_type": "markdown",
   "metadata": {},
   "source": [
    "Grid of neural network’s parameters to search through "
   ]
  },
  {
   "cell_type": "code",
   "execution_count": 139,
   "metadata": {},
   "outputs": [
    {
     "data": {
      "text/plain": [
       "[{'lay_1': 1024,\n",
       "  'lay_1_dropout': 0.1,\n",
       "  'lay_2': 512,\n",
       "  'lay_2_dropout': 0.1,\n",
       "  'lay_3': 256,\n",
       "  'lay_3_dropout': 0.1},\n",
       " {'lay_1': 1024,\n",
       "  'lay_1_dropout': 0.1,\n",
       "  'lay_2': 512,\n",
       "  'lay_2_dropout': 0.1,\n",
       "  'lay_3': 128,\n",
       "  'lay_3_dropout': 0.1}]"
      ]
     },
     "execution_count": 139,
     "metadata": {},
     "output_type": "execute_result"
    }
   ],
   "source": [
    "grid_search_params_keras = pd.DataFrame(list(product([1024],\n",
    "                                    np.linspace(0.1, 0.2,1),\n",
    "                                    [512],\n",
    "                                    np.linspace(0.1, 0.2,1),\n",
    "                                    [256,128],\n",
    "                                    np.linspace(0.1, 0.6,1))), \n",
    "                       columns = ['lay_1','lay_1_dropout', \n",
    "                                  'lay_2', 'lay_2_dropout',\n",
    "                                  'lay_3', 'lay_3_dropout'\n",
    "                                 ]).astype(object).to_dict('records')\n",
    "grid_search_params_keras"
   ]
  },
  {
   "cell_type": "markdown",
   "metadata": {},
   "source": [
    "Train model"
   ]
  },
  {
   "cell_type": "code",
   "execution_count": 156,
   "metadata": {},
   "outputs": [
    {
     "name": "stdout",
     "output_type": "stream",
     "text": [
      "Epoch 1/12\n",
      "100051/100051 [==============================] - 14s - loss: 0.0092 - acc: 0.9990    \n",
      "Epoch 2/12\n",
      "100051/100051 [==============================] - 14s - loss: 0.0074 - acc: 0.9990    \n",
      "Epoch 3/12\n",
      "100051/100051 [==============================] - 14s - loss: 0.0067 - acc: 0.9990    \n",
      "Epoch 4/12\n",
      "100051/100051 [==============================] - 14s - loss: 0.0062 - acc: 0.9990    \n",
      "Epoch 5/12\n",
      "100051/100051 [==============================] - 14s - loss: 0.0063 - acc: 0.9991    \n",
      "Epoch 6/12\n",
      "100051/100051 [==============================] - 14s - loss: 0.0057 - acc: 0.9992    \n",
      "Epoch 7/12\n",
      "100051/100051 [==============================] - 14s - loss: 0.0057 - acc: 0.9992    \n",
      "Epoch 8/12\n",
      "100051/100051 [==============================] - 14s - loss: 0.0056 - acc: 0.9993    \n",
      "Epoch 9/12\n",
      "100051/100051 [==============================] - 14s - loss: 0.0057 - acc: 0.9993    - ETA: 1s - loss: 0.00\n",
      "Epoch 10/12\n",
      "100051/100051 [==============================] - 14s - loss: 0.0061 - acc: 0.9993    \n",
      "Epoch 11/12\n",
      "100051/100051 [==============================] - 14s - loss: 0.0055 - acc: 0.9993    \n",
      "Epoch 12/12\n",
      "100051/100051 [==============================] - 14s - loss: 0.0054 - acc: 0.9993    \n",
      "60544/62905 [===========================>..] - ETA: 0sEpoch 1/12\n",
      "102597/102597 [==============================] - 14s - loss: 0.0105 - acc: 0.9977    \n",
      "Epoch 2/12\n",
      "102597/102597 [==============================] - 14s - loss: 0.0079 - acc: 0.9988    \n",
      "Epoch 3/12\n",
      "102597/102597 [==============================] - 14s - loss: 0.0070 - acc: 0.9989    \n",
      "Epoch 4/12\n",
      "102597/102597 [==============================] - 14s - loss: 0.0062 - acc: 0.9990    \n",
      "Epoch 5/12\n",
      "102597/102597 [==============================] - 14s - loss: 0.0058 - acc: 0.9991    \n",
      "Epoch 6/12\n",
      "102597/102597 [==============================] - 14s - loss: 0.0057 - acc: 0.9992    \n",
      "Epoch 7/12\n",
      "102597/102597 [==============================] - 14s - loss: 0.0056 - acc: 0.9992    \n",
      "Epoch 8/12\n",
      "102597/102597 [==============================] - 14s - loss: 0.0057 - acc: 0.9991    \n",
      "Epoch 9/12\n",
      "102597/102597 [==============================] - 14s - loss: 0.0055 - acc: 0.9992    \n",
      "Epoch 10/12\n",
      "102597/102597 [==============================] - 14s - loss: 0.0055 - acc: 0.9992    \n",
      "Epoch 11/12\n",
      "102597/102597 [==============================] - 14s - loss: 0.0054 - acc: 0.9992    \n",
      "Epoch 12/12\n",
      "102597/102597 [==============================] - 14s - loss: 0.0055 - acc: 0.9992    \n",
      "61312/62905 [============================>.] - ETA: 0sEpoch 1/12\n",
      "103416/103416 [==============================] - 15s - loss: 0.0105 - acc: 0.9976    \n",
      "Epoch 2/12\n",
      "103416/103416 [==============================] - 14s - loss: 0.0081 - acc: 0.9988    \n",
      "Epoch 3/12\n",
      "103416/103416 [==============================] - 14s - loss: 0.0072 - acc: 0.9988    \n",
      "Epoch 4/12\n",
      "103416/103416 [==============================] - 15s - loss: 0.0064 - acc: 0.9990    \n",
      "Epoch 5/12\n",
      "103416/103416 [==============================] - 15s - loss: 0.0057 - acc: 0.9990    \n",
      "Epoch 6/12\n",
      "103416/103416 [==============================] - 15s - loss: 0.0056 - acc: 0.9991    - ETA: 1s - loss: 0.00 - ETA: 0s - loss: 0.0057 - acc: 0.99\n",
      "Epoch 7/12\n",
      "103416/103416 [==============================] - 15s - loss: 0.0057 - acc: 0.9991    \n",
      "Epoch 8/12\n",
      "103416/103416 [==============================] - 15s - loss: 0.0056 - acc: 0.9991    \n",
      "Epoch 9/12\n",
      "103416/103416 [==============================] - 16s - loss: 0.0056 - acc: 0.9991    \n",
      "Epoch 10/12\n",
      "103416/103416 [==============================] - 15s - loss: 0.0056 - acc: 0.9991    \n",
      "Epoch 11/12\n",
      "103416/103416 [==============================] - 16s - loss: 0.0055 - acc: 0.9992    \n",
      "Epoch 12/12\n",
      "103416/103416 [==============================] - 15s - loss: 0.0054 - acc: 0.9991    \n",
      "60416/62905 [===========================>..] - ETA: 0sEpoch 1/12\n",
      "100051/100051 [==============================] - 14s - loss: 0.0095 - acc: 0.9988    - E\n",
      "Epoch 2/12\n",
      "100051/100051 [==============================] - 14s - loss: 0.0074 - acc: 0.9990    \n",
      "Epoch 3/12\n",
      "100051/100051 [==============================] - 13s - loss: 0.0069 - acc: 0.9990    \n",
      "Epoch 4/12\n",
      "100051/100051 [==============================] - 13s - loss: 0.0063 - acc: 0.9990    \n",
      "Epoch 5/12\n",
      "100051/100051 [==============================] - 13s - loss: 0.0060 - acc: 0.9991    \n",
      "Epoch 6/12\n",
      "100051/100051 [==============================] - 13s - loss: 0.0057 - acc: 0.9992    \n",
      "Epoch 7/12\n",
      "100051/100051 [==============================] - 13s - loss: 0.0060 - acc: 0.9992    \n",
      "Epoch 8/12\n",
      "100051/100051 [==============================] - 13s - loss: 0.0056 - acc: 0.9993    \n",
      "Epoch 9/12\n",
      "100051/100051 [==============================] - 13s - loss: 0.0058 - acc: 0.9992    \n",
      "Epoch 10/12\n",
      "100051/100051 [==============================] - 13s - loss: 0.0058 - acc: 0.9993    \n",
      "Epoch 11/12\n",
      "100051/100051 [==============================] - 13s - loss: 0.0059 - acc: 0.9993    \n",
      "Epoch 12/12\n",
      "100051/100051 [==============================] - 13s - loss: 0.0065 - acc: 0.9992    \n",
      "61184/62905 [============================>.] - ETA: 0sEpoch 1/12\n",
      "102597/102597 [==============================] - 13s - loss: 0.0101 - acc: 0.9986    - ETA: 5s - loss: 0.011\n",
      "Epoch 2/12\n",
      "102597/102597 [==============================] - 13s - loss: 0.0079 - acc: 0.9988    \n",
      "Epoch 3/12\n",
      "102597/102597 [==============================] - 13s - loss: 0.0071 - acc: 0.9989    \n",
      "Epoch 4/12\n",
      "102597/102597 [==============================] - 13s - loss: 0.0060 - acc: 0.9991    \n",
      "Epoch 5/12\n",
      "102597/102597 [==============================] - 13s - loss: 0.0060 - acc: 0.9990    \n",
      "Epoch 6/12\n",
      "102597/102597 [==============================] - 13s - loss: 0.0057 - acc: 0.9992    \n",
      "Epoch 7/12\n",
      "102597/102597 [==============================] - 13s - loss: 0.0057 - acc: 0.9992    - ETA: 0s - loss: 0.0058 - acc: 0.\n",
      "Epoch 8/12\n",
      "102597/102597 [==============================] - 13s - loss: 0.0056 - acc: 0.9992    \n",
      "Epoch 9/12\n",
      "102597/102597 [==============================] - 13s - loss: 0.0062 - acc: 0.9990    \n",
      "Epoch 10/12\n",
      "102597/102597 [==============================] - 13s - loss: 0.0056 - acc: 0.9992    \n",
      "Epoch 11/12\n",
      "102597/102597 [==============================] - 13s - loss: 0.0056 - acc: 0.9992    \n",
      "Epoch 12/12\n",
      "102597/102597 [==============================] - 13s - loss: 0.0053 - acc: 0.9992    \n",
      "60800/62905 [===========================>..] - ETA: 0sEpoch 1/12\n",
      "103416/103416 [==============================] - 13s - loss: 0.0105 - acc: 0.9986    \n",
      "Epoch 2/12\n",
      "103416/103416 [==============================] - 13s - loss: 0.0080 - acc: 0.9988    \n",
      "Epoch 3/12\n",
      "103416/103416 [==============================] - 13s - loss: 0.0069 - acc: 0.9989    \n",
      "Epoch 4/12\n",
      "103416/103416 [==============================] - 13s - loss: 0.0061 - acc: 0.9990    \n",
      "Epoch 5/12\n",
      "103416/103416 [==============================] - 13s - loss: 0.0060 - acc: 0.9989    \n",
      "Epoch 6/12\n",
      "103416/103416 [==============================] - 13s - loss: 0.0057 - acc: 0.9990    \n",
      "Epoch 7/12\n",
      "103416/103416 [==============================] - 13s - loss: 0.0055 - acc: 0.9991    \n",
      "Epoch 8/12\n",
      "103416/103416 [==============================] - 13s - loss: 0.0059 - acc: 0.9991    \n",
      "Epoch 9/12\n",
      "103416/103416 [==============================] - 13s - loss: 0.0055 - acc: 0.9991    \n",
      "Epoch 10/12\n",
      "103416/103416 [==============================] - 13s - loss: 0.0055 - acc: 0.9992    - ETA: 0s - loss: 0.0055 - acc\n",
      "Epoch 11/12\n",
      "103416/103416 [==============================] - 13s - loss: 0.0054 - acc: 0.9992    \n",
      "Epoch 12/12\n",
      "103416/103416 [==============================] - 13s - loss: 0.0058 - acc: 0.9992    \n",
      "62336/62905 [============================>.] - ETA: 0s"
     ]
    },
    {
     "data": {
      "text/plain": [
       "[(152911, 121, 62812, 1, 54, 38), (152905, 127, 62813, 0, 53, 39)]"
      ]
     },
     "execution_count": 156,
     "metadata": {},
     "output_type": "execute_result"
    }
   ],
   "source": [
    "results_cv_keras = list()\n",
    "for list_pos, param_set in enumerate(grid_search_params_keras) : #range(1)\n",
    "    tmp_keras_df = pd.DataFrame()\n",
    "    tmp_keras_df_predictions = pd.DataFrame()\n",
    "    tmp_keras_test = np.empty( [len(keras_df_index.query(test_set_ctrl_string)) , 3])\n",
    "    tmp_keras_df_predictions_test = pd.DataFrame()\n",
    "    for fold_cnt in range(3):\n",
    "        tmp_keras_model = create_keras_model(param_set, 10)\n",
    "        tmp_keras_model.fit(keras_df[keras_df_index.query('folds != @fold_cnt and ' + train_set_ctrl_string).index, ], keras_df_index.query('folds != @fold_cnt and '  + train_set_ctrl_string)[[\"isFraud\"]].values,\n",
    "              epochs=12,\n",
    "              batch_size=128)\n",
    "        tmp_keras_df = tmp_keras_df.append( pd.DataFrame(tmp_keras_model.predict(keras_df[keras_df_index.query('folds == @fold_cnt').index, ], batch_size=128, verbose=1) , index = keras_df_index.query('folds == @fold_cnt').index )  ).sort_index()\n",
    "        tmp_keras_test[:, fold_cnt] = tmp_keras_model.predict(keras_df[keras_df_index.query(test_set_ctrl_string).index, ], batch_size=128, verbose=1)[:,0]\n",
    "    tmp_keras_df_predictions = np.array( np.concatenate((keras_df_index.query(train_set_ctrl_string)[[\"isFraud\"]].values ,tmp_keras_df.values) , axis=1 ) >=0.5, dtype = np.int32)\n",
    "    tmp_keras_df_predictions_test = np.array( np.concatenate((keras_df_index.query(test_set_ctrl_string)[[\"isFraud\"]].values ,tmp_keras_test.mean(axis=1).reshape(len(keras_df_index.query(test_set_ctrl_string)),1)) , axis=1 ) >=0.5, dtype = np.int32)\n",
    "    results_cv_keras.insert(list_pos, (sum(tmp_keras_df_predictions[:,0] == tmp_keras_df_predictions[:,1]), \n",
    "                                       sum(tmp_keras_df_predictions[:,0] != tmp_keras_df_predictions[:,1]),\n",
    "                                       sum((tmp_keras_df_predictions_test[:,0] == 0) & (tmp_keras_df_predictions_test[:,1] ==0)),\n",
    "                                       sum((tmp_keras_df_predictions_test[:,0] == 0) & (tmp_keras_df_predictions_test[:,1] ==1)),\n",
    "                                       sum((tmp_keras_df_predictions_test[:,0] == 1) & (tmp_keras_df_predictions_test[:,1] ==0)),\n",
    "                                       sum((tmp_keras_df_predictions_test[:,0] == 1) & (tmp_keras_df_predictions_test[:,1] ==1))\n",
    "                                      ) )\n",
    "results_cv_keras"
   ]
  },
  {
   "cell_type": "code",
   "execution_count": 160,
   "metadata": {},
   "outputs": [],
   "source": [
    "def displayModelPerformanceKeras(tmp_list):\n",
    "    tmp_index = [x[2]+x[5] for x in tmp_list].index(max([x[2]+x[5]  for x in tmp_list]))    \n",
    "    positives = tmp_list[tmp_index][4] + tmp_list[tmp_index][5]\n",
    "    negatives = tmp_list[tmp_index][2] + tmp_list[tmp_index][3]\n",
    "    TP = tmp_list[tmp_index][5]\n",
    "    TN = tmp_list[tmp_index][2]\n",
    "    print(\"Sensitivity: {:6.4f} pct\".format(100*TP/positives) )\n",
    "    print(\"Specificity: {:6.4f} pct\".format(100*TN/negatives) )\n",
    "    print(\"Accuracy: {:6.4f} pct\".format(100*(TN+TP)/(positives+negatives) ))\n",
    "    #return tmp_index"
   ]
  },
  {
   "cell_type": "code",
   "execution_count": 161,
   "metadata": {},
   "outputs": [
    {
     "name": "stdout",
     "output_type": "stream",
     "text": [
      "Sensitivity: 42.3913 pct\n",
      "Specificity: 100.0000 pct\n",
      "Accuracy: 99.9157 pct\n"
     ]
    }
   ],
   "source": [
    "displayModelPerformanceKeras(results_cv_keras)"
   ]
  },
  {
   "cell_type": "markdown",
   "metadata": {},
   "source": [
    "### Features engineering - Keras"
   ]
  },
  {
   "cell_type": "code",
   "execution_count": 165,
   "metadata": {},
   "outputs": [],
   "source": [
    "keras_df_FeatEng = scaleData(np.concatenate(\\\n",
    "    (df_1.query(data_subset_ctr_string)[[\"amount\", \"oldbalanceOrg\",\"newbalanceOrig\", \"oldbalanceDest\", \"newbalanceDest\", \"hour\",\"origNameLen\",\"destNameLen\", \"destbalDiff\", \"orgbalDiff\"]].values,  \\\n",
    "     pd.get_dummies(df_1.query(data_subset_ctr_string)[[\"type\",\"destNameChar\"]]).values ), axis=1))"
   ]
  },
  {
   "cell_type": "code",
   "execution_count": 169,
   "metadata": {},
   "outputs": [
    {
     "data": {
      "text/plain": [
       "[{'lay_1': 1024,\n",
       "  'lay_1_dropout': 0.1,\n",
       "  'lay_2': 512,\n",
       "  'lay_2_dropout': 0.1,\n",
       "  'lay_3': 256,\n",
       "  'lay_3_dropout': 0.1},\n",
       " {'lay_1': 1024,\n",
       "  'lay_1_dropout': 0.1,\n",
       "  'lay_2': 512,\n",
       "  'lay_2_dropout': 0.1,\n",
       "  'lay_3': 128,\n",
       "  'lay_3_dropout': 0.1}]"
      ]
     },
     "execution_count": 169,
     "metadata": {},
     "output_type": "execute_result"
    }
   ],
   "source": [
    "grid_search_params_keras_FeatEng = pd.DataFrame(list(product([1024],\n",
    "                                    np.linspace(0.1, 0.2,1),\n",
    "                                    [512],\n",
    "                                    np.linspace(0.1, 0.2,1),\n",
    "                                    [256, 128],\n",
    "                                    np.linspace(0.1, 0.6,1))), \n",
    "                       columns = ['lay_1','lay_1_dropout', \n",
    "                                  'lay_2', 'lay_2_dropout',\n",
    "                                  'lay_3', 'lay_3_dropout'\n",
    "                                 ]).astype(object).to_dict('records')\n",
    "grid_search_params_keras_FeatEng"
   ]
  },
  {
   "cell_type": "code",
   "execution_count": 170,
   "metadata": {},
   "outputs": [
    {
     "name": "stdout",
     "output_type": "stream",
     "text": [
      "Epoch 1/12\n",
      "100051/100051 [==============================] - 15s - loss: 0.0090 - acc: 0.9979    \n",
      "Epoch 2/12\n",
      "100051/100051 [==============================] - 14s - loss: 0.0072 - acc: 0.9990    \n",
      "Epoch 3/12\n",
      "100051/100051 [==============================] - 14s - loss: 0.0071 - acc: 0.9990    \n",
      "Epoch 4/12\n",
      "100051/100051 [==============================] - 14s - loss: 0.0067 - acc: 0.9990    - ETA: 0s - loss: 0.0067 - acc: 0.999\n",
      "Epoch 5/12\n",
      "100051/100051 [==============================] - 14s - loss: 0.0067 - acc: 0.9990    - ETA: 3s - loss: 0.0066 - ac - ETA: 2s\n",
      "Epoch 6/12\n",
      "100051/100051 [==============================] - 14s - loss: 0.0065 - acc: 0.9990    \n",
      "Epoch 7/12\n",
      "100051/100051 [==============================] - 14s - loss: 0.0064 - acc: 0.9991    \n",
      "Epoch 8/12\n",
      "100051/100051 [==============================] - 14s - loss: 0.0064 - acc: 0.9991    - ETA: 1s - loss: 0.0064\n",
      "Epoch 9/12\n",
      "100051/100051 [==============================] - 14s - loss: 0.0063 - acc: 0.9991    \n",
      "Epoch 10/12\n",
      "100051/100051 [==============================] - 14s - loss: 0.0061 - acc: 0.9991    \n",
      "Epoch 11/12\n",
      "100051/100051 [==============================] - 15s - loss: 0.0062 - acc: 0.9992    \n",
      "Epoch 12/12\n",
      "100051/100051 [==============================] - 15s - loss: 0.0060 - acc: 0.9992    \n",
      "62208/62905 [============================>.] - ETA: 0sEpoch 1/12\n",
      "102597/102597 [==============================] - 16s - loss: 0.0097 - acc: 0.9988    \n",
      "Epoch 2/12\n",
      "102597/102597 [==============================] - 15s - loss: 0.0083 - acc: 0.9988    \n",
      "Epoch 3/12\n",
      "102597/102597 [==============================] - 15s - loss: 0.0076 - acc: 0.9988    \n",
      "Epoch 4/12\n",
      "102597/102597 [==============================] - 15s - loss: 0.0074 - acc: 0.9988    \n",
      "Epoch 5/12\n",
      "102597/102597 [==============================] - 15s - loss: 0.0069 - acc: 0.9988    \n",
      "Epoch 6/12\n",
      "102597/102597 [==============================] - 15s - loss: 0.0068 - acc: 0.9989    \n",
      "Epoch 7/12\n",
      "102597/102597 [==============================] - 15s - loss: 0.0066 - acc: 0.9989    \n",
      "Epoch 8/12\n",
      "102597/102597 [==============================] - 15s - loss: 0.0066 - acc: 0.9990    \n",
      "Epoch 9/12\n",
      "102597/102597 [==============================] - 15s - loss: 0.0064 - acc: 0.9989    \n",
      "Epoch 10/12\n",
      "102597/102597 [==============================] - 15s - loss: 0.0062 - acc: 0.9991    \n",
      "Epoch 11/12\n",
      "102597/102597 [==============================] - 15s - loss: 0.0063 - acc: 0.9990    \n",
      "Epoch 12/12\n",
      "102597/102597 [==============================] - 15s - loss: 0.0061 - acc: 0.9991    \n",
      "62592/62905 [============================>.] - ETA: 0sEpoch 1/12\n",
      "103416/103416 [==============================] - 15s - loss: 0.0101 - acc: 0.9975    - ETA: 1s - loss: 0.0104\n",
      "Epoch 2/12\n",
      "103416/103416 [==============================] - 15s - loss: 0.0081 - acc: 0.9988    \n",
      "Epoch 3/12\n",
      "103416/103416 [==============================] - 15s - loss: 0.0077 - acc: 0.9988    \n",
      "Epoch 4/12\n",
      "103416/103416 [==============================] - 15s - loss: 0.0072 - acc: 0.9988    \n",
      "Epoch 5/12\n",
      "103416/103416 [==============================] - 15s - loss: 0.0070 - acc: 0.9988    \n",
      "Epoch 6/12\n",
      "103416/103416 [==============================] - 15s - loss: 0.0067 - acc: 0.9988    \n",
      "Epoch 7/12\n",
      "103416/103416 [==============================] - 15s - loss: 0.0065 - acc: 0.9989    \n",
      "Epoch 8/12\n",
      "103416/103416 [==============================] - 15s - loss: 0.0064 - acc: 0.9989    \n",
      "Epoch 9/12\n",
      "103416/103416 [==============================] - 15s - loss: 0.0063 - acc: 0.9989    \n",
      "Epoch 10/12\n",
      "103416/103416 [==============================] - 15s - loss: 0.0063 - acc: 0.9990    \n",
      "Epoch 11/12\n",
      "103416/103416 [==============================] - 15s - loss: 0.0063 - acc: 0.9989    \n",
      "Epoch 12/12\n",
      "103416/103416 [==============================] - 15s - loss: 0.0060 - acc: 0.9990    \n",
      "62720/62905 [============================>.] - ETA: 0sEpoch 1/12\n",
      "100051/100051 [==============================] - 13s - loss: 0.0089 - acc: 0.9983    \n",
      "Epoch 2/12\n",
      "100051/100051 [==============================] - 13s - loss: 0.0073 - acc: 0.9990    \n",
      "Epoch 3/12\n",
      "100051/100051 [==============================] - 13s - loss: 0.0071 - acc: 0.9990    \n",
      "Epoch 4/12\n",
      "100051/100051 [==============================] - 13s - loss: 0.0068 - acc: 0.9990    \n",
      "Epoch 5/12\n",
      "100051/100051 [==============================] - 13s - loss: 0.0067 - acc: 0.9990    \n",
      "Epoch 6/12\n",
      "100051/100051 [==============================] - 13s - loss: 0.0066 - acc: 0.9990    \n",
      "Epoch 7/12\n",
      "100051/100051 [==============================] - 13s - loss: 0.0063 - acc: 0.9990    \n",
      "Epoch 8/12\n",
      "100051/100051 [==============================] - 13s - loss: 0.0064 - acc: 0.9991    \n",
      "Epoch 9/12\n",
      "100051/100051 [==============================] - 13s - loss: 0.0063 - acc: 0.9991    \n",
      "Epoch 10/12\n",
      "100051/100051 [==============================] - 13s - loss: 0.0063 - acc: 0.9991    \n",
      "Epoch 11/12\n",
      "100051/100051 [==============================] - 13s - loss: 0.0061 - acc: 0.9992    - ETA:\n",
      "Epoch 12/12\n",
      "100051/100051 [==============================] - 13s - loss: 0.0061 - acc: 0.9991    \n",
      "61440/62905 [============================>.] - ETA: 0sEpoch 1/12\n",
      "102597/102597 [==============================] - 14s - loss: 0.0101 - acc: 0.9976    \n",
      "Epoch 2/12\n",
      "102597/102597 [==============================] - 14s - loss: 0.0081 - acc: 0.9988    \n",
      "Epoch 3/12\n",
      "102597/102597 [==============================] - 14s - loss: 0.0077 - acc: 0.9988    - ETA: 4s - loss: 0.0076 - acc\n",
      "Epoch 4/12\n",
      "102597/102597 [==============================] - 14s - loss: 0.0072 - acc: 0.9988    \n",
      "Epoch 5/12\n",
      "102597/102597 [==============================] - 14s - loss: 0.0071 - acc: 0.9989    \n",
      "Epoch 6/12\n",
      "102597/102597 [==============================] - 14s - loss: 0.0069 - acc: 0.9989    \n",
      "Epoch 7/12\n",
      "102597/102597 [==============================] - 14s - loss: 0.0066 - acc: 0.9989    \n",
      "Epoch 8/12\n",
      "102597/102597 [==============================] - 14s - loss: 0.0065 - acc: 0.9990    \n",
      "Epoch 9/12\n",
      "102597/102597 [==============================] - 14s - loss: 0.0064 - acc: 0.9990    \n",
      "Epoch 10/12\n",
      "102597/102597 [==============================] - 14s - loss: 0.0063 - acc: 0.9989    \n",
      "Epoch 11/12\n",
      "102597/102597 [==============================] - 14s - loss: 0.0062 - acc: 0.9990    \n",
      "Epoch 12/12\n",
      "102597/102597 [==============================] - 14s - loss: 0.0060 - acc: 0.9990    \n",
      "60032/62905 [===========================>..] - ETA: 0sEpoch 1/12\n",
      "103416/103416 [==============================] - 14s - loss: 0.0100 - acc: 0.9977    \n",
      "Epoch 2/12\n",
      "103416/103416 [==============================] - 14s - loss: 0.0079 - acc: 0.9988    \n",
      "Epoch 3/12\n",
      "103416/103416 [==============================] - 14s - loss: 0.0076 - acc: 0.9988    \n",
      "Epoch 4/12\n",
      "103416/103416 [==============================] - 14s - loss: 0.0072 - acc: 0.9988    \n",
      "Epoch 5/12\n",
      "103416/103416 [==============================] - 14s - loss: 0.0069 - acc: 0.9988    \n",
      "Epoch 6/12\n",
      "103416/103416 [==============================] - 14s - loss: 0.0069 - acc: 0.9988    \n",
      "Epoch 7/12\n",
      "103416/103416 [==============================] - 14s - loss: 0.0067 - acc: 0.9989    \n",
      "Epoch 8/12\n",
      "103416/103416 [==============================] - 14s - loss: 0.0064 - acc: 0.9989    - ETA: 1s - loss: 0.0063 -\n",
      "Epoch 9/12\n",
      "103416/103416 [==============================] - 14s - loss: 0.0063 - acc: 0.9989    \n",
      "Epoch 10/12\n",
      "103416/103416 [==============================] - 14s - loss: 0.0063 - acc: 0.9989    \n",
      "Epoch 11/12\n",
      "103416/103416 [==============================] - 14s - loss: 0.0062 - acc: 0.9990    \n",
      "Epoch 12/12\n",
      "103416/103416 [==============================] - 14s - loss: 0.0059 - acc: 0.9989    \n",
      "60416/62905 [===========================>..] - ETA: 0s"
     ]
    },
    {
     "data": {
      "text/plain": [
       "[(152885, 147, 62813, 0, 69, 23), (152884, 148, 62813, 0, 68, 24)]"
      ]
     },
     "execution_count": 170,
     "metadata": {},
     "output_type": "execute_result"
    }
   ],
   "source": [
    "results_cv_keras_FeatEng = list()\n",
    "for list_pos, param_set in enumerate(grid_search_params_keras_FeatEng) : #range(1)\n",
    "    tmp_keras_df = pd.DataFrame()\n",
    "    tmp_keras_df_predictions = pd.DataFrame()\n",
    "    tmp_keras_test = np.empty( [len(keras_df_index.query(test_set_ctrl_string)) , 3])\n",
    "    tmp_keras_df_predictions_test = pd.DataFrame()\n",
    "    for fold_cnt in range(3):\n",
    "        tmp_keras_model = create_keras_model(param_set, 17)\n",
    "        tmp_keras_model.fit(keras_df_FeatEng[keras_df_index.query('folds != @fold_cnt and ' + train_set_ctrl_string).index, ], keras_df_index.query('folds != @fold_cnt and '  + train_set_ctrl_string)[[\"isFraud\"]].values,\n",
    "              epochs=12,\n",
    "              batch_size=128)\n",
    "        tmp_keras_df = tmp_keras_df.append( pd.DataFrame(tmp_keras_model.predict(keras_df_FeatEng[keras_df_index.query('folds == @fold_cnt').index, ], batch_size=128, verbose=1) , index = keras_df_index.query('folds == @fold_cnt').index )  ).sort_index()\n",
    "        tmp_keras_test[:, fold_cnt] = tmp_keras_model.predict(keras_df_FeatEng[keras_df_index.query(test_set_ctrl_string).index, ], batch_size=128, verbose=1)[:,0]\n",
    "    tmp_keras_df_predictions = np.array( np.concatenate((keras_df_index.query(train_set_ctrl_string)[[\"isFraud\"]].values ,tmp_keras_df.values) , axis=1 ) >=0.5, dtype = np.int32)\n",
    "    tmp_keras_df_predictions_test = np.array( np.concatenate((keras_df_index.query(test_set_ctrl_string)[[\"isFraud\"]].values ,tmp_keras_test.mean(axis=1).reshape(len(keras_df_index.query(test_set_ctrl_string)),1)) , axis=1 ) >=0.5, dtype = np.int32)\n",
    "    results_cv_keras_FeatEng.insert(list_pos, (sum(tmp_keras_df_predictions[:,0] == tmp_keras_df_predictions[:,1]), \n",
    "                                       sum(tmp_keras_df_predictions[:,0] != tmp_keras_df_predictions[:,1]),\n",
    "                                       sum((tmp_keras_df_predictions_test[:,0] == 0) & (tmp_keras_df_predictions_test[:,1] ==0)),\n",
    "                                       sum((tmp_keras_df_predictions_test[:,0] == 0) & (tmp_keras_df_predictions_test[:,1] ==1)),\n",
    "                                       sum((tmp_keras_df_predictions_test[:,0] == 1) & (tmp_keras_df_predictions_test[:,1] ==0)),\n",
    "                                       sum((tmp_keras_df_predictions_test[:,0] == 1) & (tmp_keras_df_predictions_test[:,1] ==1))\n",
    "                                      ) )\n",
    "results_cv_keras_FeatEng"
   ]
  },
  {
   "cell_type": "code",
   "execution_count": 171,
   "metadata": {},
   "outputs": [
    {
     "name": "stdout",
     "output_type": "stream",
     "text": [
      "Sensitivity: 26.0870 pct\n",
      "Specificity: 100.0000 pct\n",
      "Accuracy: 99.8919 pct\n"
     ]
    }
   ],
   "source": [
    "displayModelPerformanceKeras(results_cv_keras_FeatEng)"
   ]
  },
  {
   "cell_type": "markdown",
   "metadata": {},
   "source": [
    "### Publishing model"
   ]
  },
  {
   "cell_type": "markdown",
   "metadata": {},
   "source": [
    "Save data for scoring to Object Store"
   ]
  },
  {
   "cell_type": "code",
   "execution_count": 173,
   "metadata": {},
   "outputs": [],
   "source": [
    "# @hidden_cell\n",
    "cos_credentials = {\n",
    "  \"apikey\": \"by2MqrK_KQvvFwNryGGaF3vMKnyHEoqf4zXj4I2RfBHs\",\n",
    "  \"cos_hmac_keys\": {\n",
    "    \"access_key_id\": \"ce23d1002c6645cb8fc17b5dbb477e33\",\n",
    "    \"secret_access_key\": \"3a200e8fb87ba25cbc3a534d75a5eb6256c2ac15c12411d7\"\n",
    "  },\n",
    "  \"endpoints\": \"https://cos-service.bluemix.net/endpoints\",\n",
    "  \"iam_apikey_description\": \"Auto generated apikey during resource-key operation for Instance - crn:v1:bluemix:public:cloud-object-storage:global:a/a25876fc4dfd4284aa7fa16810798644:0a0616e2-2cbf-43fc-8905-08e39898d3e7::\",\n",
    "  \"iam_apikey_name\": \"auto-generated-apikey-ce23d100-2c66-45cb-8fc1-7b5dbb477e33\",\n",
    "  \"iam_role_crn\": \"crn:v1:bluemix:public:iam::::serviceRole:Writer\",\n",
    "  \"iam_serviceid_crn\": \"crn:v1:bluemix:public:iam-identity::a/a25876fc4dfd4284aa7fa16810798644::serviceid:ServiceId-2725cd4a-70f1-44fb-b9d5-1bffe97559aa\",\n",
    "  \"resource_instance_id\": \"crn:v1:bluemix:public:cloud-object-storage:global:a/a25876fc4dfd4284aa7fa16810798644:0a0616e2-2cbf-43fc-8905-08e39898d3e7::\"\n",
    "}"
   ]
  },
  {
   "cell_type": "code",
   "execution_count": 174,
   "metadata": {},
   "outputs": [],
   "source": [
    "auth_endpoint = 'https://iam.bluemix.net/oidc/token'\n",
    "service_endpoint = 'https://s3-api.us-geo.objectstorage.softlayer.net'\n",
    "cos = ibm_boto3.client('s3',\n",
    "                         ibm_api_key_id=cos_credentials['apikey'],\n",
    "                         ibm_service_instance_id=cos_credentials['resource_instance_id'],\n",
    "                         ibm_auth_endpoint=auth_endpoint,\n",
    "                         config=Config(signature_version='oauth'),\n",
    "                         endpoint_url=service_endpoint)"
   ]
  },
  {
   "cell_type": "code",
   "execution_count": 175,
   "metadata": {},
   "outputs": [],
   "source": [
    "connection_apikey = cos_credentials['apikey']\n",
    "connection_resource_instance_id = cos_credentials[\"resource_instance_id\"]\n",
    "connection_access_key_id = cos_credentials['cos_hmac_keys']['access_key_id']\n",
    "connection_secret_access_key = cos_credentials['cos_hmac_keys']['secret_access_key']"
   ]
  },
  {
   "cell_type": "code",
   "execution_count": 239,
   "metadata": {},
   "outputs": [],
   "source": [
    "df_1.query(test_set_ctrl_string).iloc[:400,].to_csv('data_to_score.csv', index=False)"
   ]
  },
  {
   "cell_type": "code",
   "execution_count": null,
   "metadata": {},
   "outputs": [],
   "source": [
    "cos.upload_file('data_to_score.csv','modelscorebucket','data_to_score.csv')"
   ]
  },
  {
   "cell_type": "code",
   "execution_count": 181,
   "metadata": {},
   "outputs": [],
   "source": [
    "#for bucket in cos.list_buckets(IBMServiceInstanceId=cos_credentials['resource_instance_id'])['Buckets']:#\n",
    " #   print(bucket)"
   ]
  },
  {
   "cell_type": "code",
   "execution_count": 182,
   "metadata": {},
   "outputs": [],
   "source": [
    "#cos.list_objects(\n",
    " #   Bucket='wertreyrtuuu-donotdelete-pr-quohl4uchw7jmz')"
   ]
  },
  {
   "cell_type": "code",
   "execution_count": null,
   "metadata": {},
   "outputs": [],
   "source": [
    "#cos.download_file(Bucket='wertreyrtuuu-donotdelete-pr-quohl4uchw7jmz',Key='WA_Fn-UseC_-Telco-Customer-Churn.csv',Filename='telco.csv')"
   ]
  },
  {
   "cell_type": "markdown",
   "metadata": {},
   "source": [
    "Publish model"
   ]
  },
  {
   "cell_type": "code",
   "execution_count": 183,
   "metadata": {},
   "outputs": [],
   "source": [
    "# @hidden_cell\n",
    "wml_credentials = {\n",
    "  \"apikey\": \"RTClG03LkiAX5Smoi2JChk31vEYd6hKfwiz3bbsilBGK\",\n",
    "  \"iam_apikey_description\": \"Auto generated apikey during resource-key operation for Instance - crn:v1:bluemix:public:pm-20:us-south:a/a25876fc4dfd4284aa7fa16810798644:ad345490-866c-4fcd-bbbc-a4d81c00b8bf::\",\n",
    "  \"iam_apikey_name\": \"auto-generated-apikey-989e787a-6cd2-4d3f-93b9-891ca7239b8e\",\n",
    "  \"iam_role_crn\": \"crn:v1:bluemix:public:iam::::serviceRole:Writer\",\n",
    "  \"iam_serviceid_crn\": \"crn:v1:bluemix:public:iam-identity::a/a25876fc4dfd4284aa7fa16810798644::serviceid:ServiceId-a3c740ff-ceb5-41e4-8e27-48540cfd6d8a\",\n",
    "  \"instance_id\": \"ad345490-866c-4fcd-bbbc-a4d81c00b8bf\",\n",
    "  \"password\": \"5efdcb6d-a110-40ae-b068-58bc7e2ca421\",\n",
    "  \"url\": \"https://us-south.ml.cloud.ibm.com\",\n",
    "  \"username\": \"989e787a-6cd2-4d3f-93b9-891ca7239b8e\"\n",
    "}"
   ]
  },
  {
   "cell_type": "code",
   "execution_count": 184,
   "metadata": {},
   "outputs": [],
   "source": [
    "ml_repository_client = MLRepositoryClient(wml_credentials['url'])"
   ]
  },
  {
   "cell_type": "code",
   "execution_count": 185,
   "metadata": {},
   "outputs": [],
   "source": [
    "ml_repository_client.authorize(wml_credentials['username'], wml_credentials['password'])"
   ]
  },
  {
   "cell_type": "code",
   "execution_count": 193,
   "metadata": {},
   "outputs": [],
   "source": [
    "pipeline_to_repository = Pipeline(stages=[stringIndexer,stringIndexer_destNameChar, ohe,  ohe_destNameChar, vectorAssemblerFeatEng, normalizer, rf])"
   ]
  },
  {
   "cell_type": "code",
   "execution_count": 194,
   "metadata": {},
   "outputs": [],
   "source": [
    "model_pipeline_to_repository = pipeline_to_repository.fit(spark_df1.filter(train_set_ctrl_string))"
   ]
  },
  {
   "cell_type": "code",
   "execution_count": 195,
   "metadata": {},
   "outputs": [],
   "source": [
    "pipeline_artifact = MLRepositoryArtifact(pipeline_to_repository, name=\"pipeline\")"
   ]
  },
  {
   "cell_type": "code",
   "execution_count": 196,
   "metadata": {},
   "outputs": [],
   "source": [
    "model_artifact = MLRepositoryArtifact(model_pipeline_to_repository, training_data=spark_df1.filter(train_set_ctrl_string), name=\"Fraudalent elec transactions\", pipeline_artifact=pipeline_artifact)"
   ]
  },
  {
   "cell_type": "code",
   "execution_count": null,
   "metadata": {},
   "outputs": [],
   "source": []
  },
  {
   "cell_type": "code",
   "execution_count": 197,
   "metadata": {},
   "outputs": [],
   "source": [
    "saved_model = ml_repository_client.models.save(model_artifact)"
   ]
  },
  {
   "cell_type": "code",
   "execution_count": 198,
   "metadata": {},
   "outputs": [
    {
     "name": "stdout",
     "output_type": "stream",
     "text": [
      "dict_keys(['trainingDataSchema', 'lastUpdated', 'inputDataSchema', 'evaluationMetrics', 'version', 'pipelineType', 'modelVersionHref', 'evaluationMethod', 'trainingDataRef', 'label', 'pipelineVersionHref', 'authorEmail', 'creationTime', 'modelType', 'authorName', 'runtime'])\n"
     ]
    }
   ],
   "source": [
    "print(saved_model.meta.available_props())"
   ]
  },
  {
   "cell_type": "code",
   "execution_count": 199,
   "metadata": {},
   "outputs": [
    {
     "name": "stdout",
     "output_type": "stream",
     "text": [
      "creationTime: 2018-09-01 09:39:22.776000+00:00\n",
      "modelType: sparkml-model-2.1\n",
      "pipelineType: sparkml-pipeline-2.1\n",
      "runtime: spark-2.1\n",
      "label: isFraud\n",
      "modelVersionHref: https://us-south.ml.cloud.ibm.com/v2/artifacts/models/34b10bb0-108b-4d20-961b-188fb56f51b1/versions/04f5d336-61cc-4dab-9b77-b2c7b64f1661\n"
     ]
    }
   ],
   "source": [
    "print(\"creationTime: \" + str(saved_model.meta.prop(\"creationTime\")))\n",
    "print(\"modelType: \" + saved_model.meta.prop(\"modelType\"))\n",
    "print(\"pipelineType: \" + saved_model.meta.prop(\"pipelineType\"))\n",
    "print(\"runtime: \" + str(saved_model.meta.prop(\"runtime\")))\n",
    "print(\"label: \" + saved_model.meta.prop(\"label\"))\n",
    "print(\"modelVersionHref: \" + saved_model.meta.prop(\"modelVersionHref\"))"
   ]
  },
  {
   "cell_type": "code",
   "execution_count": 200,
   "metadata": {},
   "outputs": [
    {
     "name": "stdout",
     "output_type": "stream",
     "text": [
      "{'type': 'struct', 'fields': [{'metadata': {}, 'nullable': True, 'type': 'long', 'name': 'folds'}, {'metadata': {}, 'nullable': True, 'type': 'long', 'name': 'step'}, {'metadata': {}, 'nullable': True, 'type': 'string', 'name': 'type'}, {'metadata': {}, 'nullable': True, 'type': 'double', 'name': 'amount'}, {'metadata': {}, 'nullable': True, 'type': 'string', 'name': 'nameOrig'}, {'metadata': {}, 'nullable': True, 'type': 'double', 'name': 'oldbalanceOrg'}, {'metadata': {}, 'nullable': True, 'type': 'double', 'name': 'newbalanceOrig'}, {'metadata': {}, 'nullable': True, 'type': 'string', 'name': 'nameDest'}, {'metadata': {}, 'nullable': True, 'type': 'double', 'name': 'oldbalanceDest'}, {'metadata': {}, 'nullable': True, 'type': 'double', 'name': 'newbalanceDest'}, {'metadata': {}, 'nullable': True, 'type': 'long', 'name': 'isFraud'}, {'metadata': {}, 'nullable': True, 'type': 'long', 'name': 'isFlaggedFraud'}, {'metadata': {}, 'nullable': True, 'type': 'long', 'name': 'hour'}, {'metadata': {}, 'nullable': True, 'type': 'string', 'name': 'origNameChar'}, {'metadata': {}, 'nullable': True, 'type': 'long', 'name': 'origNameLen'}, {'metadata': {}, 'nullable': True, 'type': 'string', 'name': 'destNameChar'}, {'metadata': {}, 'nullable': True, 'type': 'long', 'name': 'destNameLen'}, {'metadata': {}, 'nullable': True, 'type': 'double', 'name': 'destbalDiff'}, {'metadata': {}, 'nullable': True, 'type': 'double', 'name': 'orgbalDiff'}]}\n"
     ]
    }
   ],
   "source": [
    "print(saved_model.meta.prop(\"trainingDataSchema\"))"
   ]
  },
  {
   "cell_type": "code",
   "execution_count": 201,
   "metadata": {},
   "outputs": [
    {
     "name": "stdout",
     "output_type": "stream",
     "text": [
      "Model Id: 34b10bb0-108b-4d20-961b-188fb56f51b1\n"
     ]
    }
   ],
   "source": [
    "published_model_ID = saved_model.uid\n",
    "\n",
    "print(\"Model Id: \" + str(published_model_ID))"
   ]
  },
  {
   "cell_type": "code",
   "execution_count": 202,
   "metadata": {},
   "outputs": [],
   "source": [
    "loadedModelArtifact = ml_repository_client.models.get(saved_model.uid)"
   ]
  },
  {
   "cell_type": "code",
   "execution_count": 203,
   "metadata": {},
   "outputs": [
    {
     "name": "stdout",
     "output_type": "stream",
     "text": [
      "Fraudalent elec transactions\n"
     ]
    }
   ],
   "source": [
    "print(str(loadedModelArtifact.name))"
   ]
  },
  {
   "cell_type": "markdown",
   "metadata": {},
   "source": [
    "Model deployment"
   ]
  },
  {
   "cell_type": "code",
   "execution_count": 204,
   "metadata": {},
   "outputs": [],
   "source": [
    "headers = urllib3.util.make_headers(basic_auth='{username}:{password}'.format(username=wml_credentials['username'], password=wml_credentials['password']))\n",
    "url = '{url}/v3/identity/token'.format(url=wml_credentials['url'])\n",
    "response = requests.get(url, headers=headers)\n",
    "mltoken = json.loads(response.text).get('token')"
   ]
  },
  {
   "cell_type": "code",
   "execution_count": 205,
   "metadata": {},
   "outputs": [
    {
     "name": "stdout",
     "output_type": "stream",
     "text": [
      "<Response [200]>\n",
      "\"{\\n  \\\"metadata\\\": {\\n    \\\"guid\\\": \\\"ad345490-866c-4fcd-bbbc-a4d81c00b8bf\\\",\\n    \\\"url\\\": \\\"https://us-south.ml.cloud.ibm.com/v3/wml_instances/ad345490-866c-4fcd-bbbc-a4d81c00b8bf\\\",\\n    \\\"created_at\\\": \\\"2018-08-31T15:35:40.038Z\\\",\\n    \\\"modified_at\\\": \\\"2018-09-01T09:39:23.808Z\\\"\\n  },\\n  \\\"entity\\\": {\\n    \\\"source\\\": \\\"Bluemix\\\",\\n    \\\"published_models\\\": {\\n      \\\"url\\\": \\\"https://us-south.ml.cloud.ibm.com/v3/wml_instances/ad345490-866c-4fcd-bbbc-a4d81c00b8bf/published_models\\\"\\n    },\\n    \\\"usage\\\": {\\n      \\\"expiration_date\\\": \\\"2018-10-01T00:00:00.000Z\\\",\\n      \\\"computation_time\\\": {\\n        \\\"limit\\\": 180000,\\n        \\\"current\\\": 0\\n      },\\n      \\\"model_count\\\": {\\n        \\\"limit\\\": 200,\\n        \\\"current\\\": 2\\n      },\\n      \\\"prediction_count\\\": {\\n        \\\"limit\\\": 5000,\\n        \\\"current\\\": 0\\n      },\\n      \\\"gpu_count\\\": {\\n        \\\"limit\\\": 8,\\n        \\\"current\\\": 0\\n      },\\n      \\\"capacity_units\\\": {\\n        \\\"limit\\\": 180000000,\\n        \\\"current\\\": 0\\n      },\\n      \\\"deployment_count\\\": {\\n        \\\"limit\\\": 5,\\n        \\\"current\\\": 1\\n      }\\n    },\\n    \\\"plan_id\\\": \\\"3f6acf43-ede8-413a-ac69-f8af3bb0cbfe\\\",\\n    \\\"status\\\": \\\"Active\\\",\\n    \\\"organization_guid\\\": \\\"N/A\\\",\\n    \\\"region\\\": \\\"us-south\\\",\\n    \\\"account\\\": {\\n      \\\"id\\\": \\\"a25876fc4dfd4284aa7fa16810798644\\\",\\n      \\\"name\\\": \\\"piotr.wacholski@gmail.com piotr.wacholski@gmail.com's Account\\\",\\n      \\\"type\\\": \\\"TRIAL\\\"\\n    },\\n    \\\"owner\\\": {\\n      \\\"ibm_id\\\": \\\"550000G154\\\",\\n      \\\"email\\\": \\\"piotr.wacholski@gmail.com\\\",\\n      \\\"user_id\\\": \\\"c6e0ac8c-410d-4184-945d-31f130bb367f\\\",\\n      \\\"country_code\\\": \\\"USA\\\",\\n      \\\"beta_user\\\": false\\n    },\\n    \\\"deployments\\\": {\\n      \\\"url\\\": \\\"https://us-south.ml.cloud.ibm.com/v3/wml_instances/ad345490-866c-4fcd-bbbc-a4d81c00b8bf/deployments\\\"\\n    },\\n    \\\"space_guid\\\": \\\"N/A\\\",\\n    \\\"plan\\\": \\\"lite\\\"\\n  }\\n}\"\n"
     ]
    }
   ],
   "source": [
    "endpoint_instance = wml_credentials['url'] + \"/v3/wml_instances/\" + wml_credentials['instance_id']\n",
    "header = {'Content-Type': 'application/json', 'Authorization': 'Bearer ' + mltoken}\n",
    "\n",
    "response_get_instance = requests.get(endpoint_instance, headers=header)\n",
    "\n",
    "print(response_get_instance)\n",
    "print(json.dumps(response_get_instance.text, indent=2))"
   ]
  },
  {
   "cell_type": "code",
   "execution_count": 206,
   "metadata": {},
   "outputs": [
    {
     "name": "stdout",
     "output_type": "stream",
     "text": [
      "https://us-south.ml.cloud.ibm.com/v3/wml_instances/ad345490-866c-4fcd-bbbc-a4d81c00b8bf/published_models\n"
     ]
    }
   ],
   "source": [
    "endpoint_published_models = json.loads(response_get_instance.text).get('entity').get('published_models').get('url')\n",
    "\n",
    "print(endpoint_published_models)"
   ]
  },
  {
   "cell_type": "code",
   "execution_count": 207,
   "metadata": {},
   "outputs": [
    {
     "data": {
      "text/plain": [
       "'https://us-south.ml.cloud.ibm.com/v3/wml_instances/ad345490-866c-4fcd-bbbc-a4d81c00b8bf/deployments'"
      ]
     },
     "execution_count": 207,
     "metadata": {},
     "output_type": "execute_result"
    }
   ],
   "source": [
    "json.loads(response_get_instance.text).get('entity').get('deployments').get('url')"
   ]
  },
  {
   "cell_type": "code",
   "execution_count": null,
   "metadata": {},
   "outputs": [],
   "source": [
    "#######################\n",
    "header = {'Content-Type': 'application/json', 'Authorization': 'Bearer ' + mltoken}\n",
    "response_get_dep = requests.get(\"https://us-south.ml.cloud.ibm.com/v3/wml_instances/03442d9b-1e0e-4d6d-a4ae-a133ce579e1f/published_models/b714ce13-801b-4a9f-8c69-ab68de94ab9c/deployments\", headers=header)\n",
    "\n",
    "print(response_get_dep)\n",
    "print(json.dumps(response_get_dep.text, indent=2))"
   ]
  },
  {
   "cell_type": "code",
   "execution_count": null,
   "metadata": {},
   "outputs": [],
   "source": [
    "################\n",
    "response_get_depdel = requests.delete(\"https://us-south.ml.cloud.ibm.com/v3/wml_instances/03442d9b-1e0e-4d6d-a4ae-a133ce579e1f/deployments/c7b06e46-d0d2-4ff3-9aaf-d58e43dea89d\", headers=header)\n",
    "\n"
   ]
  },
  {
   "cell_type": "code",
   "execution_count": null,
   "metadata": {},
   "outputs": [],
   "source": [
    "############\n",
    "print(response_get_depdel)\n",
    "print(json.dumps(response_get_depdel.text, indent=2))"
   ]
  },
  {
   "cell_type": "code",
   "execution_count": null,
   "metadata": {},
   "outputs": [],
   "source": []
  },
  {
   "cell_type": "code",
   "execution_count": 208,
   "metadata": {},
   "outputs": [
    {
     "name": "stdout",
     "output_type": "stream",
     "text": [
      "<Response [200]>\n",
      "\"{\\n  \\\"limit\\\": 1000,\\n  \\\"resources\\\": [{\\n    \\\"metadata\\\": {\\n      \\\"guid\\\": \\\"ffa62ad1-8721-4d93-a49c-7f5df33d6e5c\\\",\\n      \\\"url\\\": \\\"https://us-south.ml.cloud.ibm.com/v3/wml_instances/ad345490-866c-4fcd-bbbc-a4d81c00b8bf/published_models/ffa62ad1-8721-4d93-a49c-7f5df33d6e5c\\\",\\n      \\\"created_at\\\": \\\"2018-08-31T15:38:29.041Z\\\",\\n      \\\"modified_at\\\": \\\"2018-08-31T15:45:02.698Z\\\"\\n    },\\n    \\\"entity\\\": {\\n      \\\"runtime_environment\\\": \\\"spark-2.1\\\",\\n      \\\"learning_configuration_url\\\": \\\"https://us-south.ml.cloud.ibm.com/v3/wml_instances/ad345490-866c-4fcd-bbbc-a4d81c00b8bf/published_models/ffa62ad1-8721-4d93-a49c-7f5df33d6e5c/learning_configuration\\\",\\n      \\\"name\\\": \\\"Fraudalent elec transactions\\\",\\n      \\\"label_col\\\": \\\"isFraud\\\",\\n      \\\"learning_iterations_url\\\": \\\"https://us-south.ml.cloud.ibm.com/v3/wml_instances/ad345490-866c-4fcd-bbbc-a4d81c00b8bf/published_models/ffa62ad1-8721-4d93-a49c-7f5df33d6e5c/learning_iterations\\\",\\n      \\\"training_data_schema\\\": {\\n        \\\"fields\\\": [{\\n          \\\"metadata\\\": {\\n\\n          },\\n          \\\"nullable\\\": true,\\n          \\\"type\\\": \\\"long\\\",\\n          \\\"name\\\": \\\"folds\\\"\\n        }, {\\n          \\\"metadata\\\": {\\n\\n          },\\n          \\\"nullable\\\": true,\\n          \\\"type\\\": \\\"long\\\",\\n          \\\"name\\\": \\\"step\\\"\\n        }, {\\n          \\\"metadata\\\": {\\n\\n          },\\n          \\\"nullable\\\": true,\\n          \\\"type\\\": \\\"string\\\",\\n          \\\"name\\\": \\\"type\\\"\\n        }, {\\n          \\\"metadata\\\": {\\n\\n          },\\n          \\\"nullable\\\": true,\\n          \\\"type\\\": \\\"double\\\",\\n          \\\"name\\\": \\\"amount\\\"\\n        }, {\\n          \\\"metadata\\\": {\\n\\n          },\\n          \\\"nullable\\\": true,\\n          \\\"type\\\": \\\"string\\\",\\n          \\\"name\\\": \\\"nameOrig\\\"\\n        }, {\\n          \\\"metadata\\\": {\\n\\n          },\\n          \\\"nullable\\\": true,\\n          \\\"type\\\": \\\"double\\\",\\n          \\\"name\\\": \\\"oldbalanceOrg\\\"\\n        }, {\\n          \\\"metadata\\\": {\\n\\n          },\\n          \\\"nullable\\\": true,\\n          \\\"type\\\": \\\"double\\\",\\n          \\\"name\\\": \\\"newbalanceOrig\\\"\\n        }, {\\n          \\\"metadata\\\": {\\n\\n          },\\n          \\\"nullable\\\": true,\\n          \\\"type\\\": \\\"string\\\",\\n          \\\"name\\\": \\\"nameDest\\\"\\n        }, {\\n          \\\"metadata\\\": {\\n\\n          },\\n          \\\"nullable\\\": true,\\n          \\\"type\\\": \\\"double\\\",\\n          \\\"name\\\": \\\"oldbalanceDest\\\"\\n        }, {\\n          \\\"metadata\\\": {\\n\\n          },\\n          \\\"nullable\\\": true,\\n          \\\"type\\\": \\\"double\\\",\\n          \\\"name\\\": \\\"newbalanceDest\\\"\\n        }, {\\n          \\\"metadata\\\": {\\n\\n          },\\n          \\\"nullable\\\": true,\\n          \\\"type\\\": \\\"long\\\",\\n          \\\"name\\\": \\\"isFraud\\\"\\n        }, {\\n          \\\"metadata\\\": {\\n\\n          },\\n          \\\"nullable\\\": true,\\n          \\\"type\\\": \\\"long\\\",\\n          \\\"name\\\": \\\"isFlaggedFraud\\\"\\n        }, {\\n          \\\"metadata\\\": {\\n\\n          },\\n          \\\"nullable\\\": true,\\n          \\\"type\\\": \\\"long\\\",\\n          \\\"name\\\": \\\"hour\\\"\\n        }, {\\n          \\\"metadata\\\": {\\n\\n          },\\n          \\\"nullable\\\": true,\\n          \\\"type\\\": \\\"string\\\",\\n          \\\"name\\\": \\\"origNameChar\\\"\\n        }, {\\n          \\\"metadata\\\": {\\n\\n          },\\n          \\\"nullable\\\": true,\\n          \\\"type\\\": \\\"long\\\",\\n          \\\"name\\\": \\\"origNameLen\\\"\\n        }, {\\n          \\\"metadata\\\": {\\n\\n          },\\n          \\\"nullable\\\": true,\\n          \\\"type\\\": \\\"string\\\",\\n          \\\"name\\\": \\\"destNameChar\\\"\\n        }, {\\n          \\\"metadata\\\": {\\n\\n          },\\n          \\\"nullable\\\": true,\\n          \\\"type\\\": \\\"long\\\",\\n          \\\"name\\\": \\\"destNameLen\\\"\\n        }, {\\n          \\\"metadata\\\": {\\n\\n          },\\n          \\\"nullable\\\": true,\\n          \\\"type\\\": \\\"double\\\",\\n          \\\"name\\\": \\\"destbalDiff\\\"\\n        }, {\\n          \\\"metadata\\\": {\\n\\n          },\\n          \\\"nullable\\\": true,\\n          \\\"type\\\": \\\"double\\\",\\n          \\\"name\\\": \\\"orgbalDiff\\\"\\n        }],\\n        \\\"type\\\": \\\"struct\\\"\\n      },\\n      \\\"feedback_url\\\": \\\"https://us-south.ml.cloud.ibm.com/v3/wml_instances/ad345490-866c-4fcd-bbbc-a4d81c00b8bf/published_models/ffa62ad1-8721-4d93-a49c-7f5df33d6e5c/feedback\\\",\\n      \\\"latest_version\\\": {\\n        \\\"url\\\": \\\"https://us-south.ml.cloud.ibm.com/v3/ml_assets/models/ffa62ad1-8721-4d93-a49c-7f5df33d6e5c/versions/ebe91fd0-6056-41d3-8ab1-c22b0514d512\\\",\\n        \\\"guid\\\": \\\"ebe91fd0-6056-41d3-8ab1-c22b0514d512\\\",\\n        \\\"created_at\\\": \\\"2018-08-31T15:38:29.120Z\\\"\\n      },\\n      \\\"model_type\\\": \\\"mllib-2.1\\\",\\n      \\\"deployments\\\": {\\n        \\\"count\\\": 1,\\n        \\\"url\\\": \\\"https://us-south.ml.cloud.ibm.com/v3/wml_instances/ad345490-866c-4fcd-bbbc-a4d81c00b8bf/published_models/ffa62ad1-8721-4d93-a49c-7f5df33d6e5c/deployments\\\"\\n      },\\n      \\\"deployed_version\\\": {\\n        \\\"url\\\": \\\"https://us-south.ml.cloud.ibm.com/v3/ml_assets/models/ffa62ad1-8721-4d93-a49c-7f5df33d6e5c/versions/ebe91fd0-6056-41d3-8ab1-c22b0514d512\\\",\\n        \\\"guid\\\": \\\"ebe91fd0-6056-41d3-8ab1-c22b0514d512\\\"\\n      },\\n      \\\"evaluation_metrics_url\\\": \\\"https://us-south.ml.cloud.ibm.com/v3/wml_instances/ad345490-866c-4fcd-bbbc-a4d81c00b8bf/published_models/ffa62ad1-8721-4d93-a49c-7f5df33d6e5c/evaluation_metrics\\\",\\n      \\\"input_data_schema\\\": {\\n        \\\"fields\\\": [{\\n          \\\"metadata\\\": {\\n\\n          },\\n          \\\"nullable\\\": true,\\n          \\\"type\\\": \\\"long\\\",\\n          \\\"name\\\": \\\"folds\\\"\\n        }, {\\n          \\\"metadata\\\": {\\n\\n          },\\n          \\\"nullable\\\": true,\\n          \\\"type\\\": \\\"long\\\",\\n          \\\"name\\\": \\\"step\\\"\\n        }, {\\n          \\\"metadata\\\": {\\n\\n          },\\n          \\\"nullable\\\": true,\\n          \\\"type\\\": \\\"string\\\",\\n          \\\"name\\\": \\\"type\\\"\\n        }, {\\n          \\\"metadata\\\": {\\n\\n          },\\n          \\\"nullable\\\": true,\\n          \\\"type\\\": \\\"double\\\",\\n          \\\"name\\\": \\\"amount\\\"\\n        }, {\\n          \\\"metadata\\\": {\\n\\n          },\\n          \\\"nullable\\\": true,\\n          \\\"type\\\": \\\"string\\\",\\n          \\\"name\\\": \\\"nameOrig\\\"\\n        }, {\\n          \\\"metadata\\\": {\\n\\n          },\\n          \\\"nullable\\\": true,\\n          \\\"type\\\": \\\"double\\\",\\n          \\\"name\\\": \\\"oldbalanceOrg\\\"\\n        }, {\\n          \\\"metadata\\\": {\\n\\n          },\\n          \\\"nullable\\\": true,\\n          \\\"type\\\": \\\"double\\\",\\n          \\\"name\\\": \\\"newbalanceOrig\\\"\\n        }, {\\n          \\\"metadata\\\": {\\n\\n          },\\n          \\\"nullable\\\": true,\\n          \\\"type\\\": \\\"string\\\",\\n          \\\"name\\\": \\\"nameDest\\\"\\n        }, {\\n          \\\"metadata\\\": {\\n\\n          },\\n          \\\"nullable\\\": true,\\n          \\\"type\\\": \\\"double\\\",\\n          \\\"name\\\": \\\"oldbalanceDest\\\"\\n        }, {\\n          \\\"metadata\\\": {\\n\\n          },\\n          \\\"nullable\\\": true,\\n          \\\"type\\\": \\\"double\\\",\\n          \\\"name\\\": \\\"newbalanceDest\\\"\\n        }, {\\n          \\\"metadata\\\": {\\n\\n          },\\n          \\\"nullable\\\": true,\\n          \\\"type\\\": \\\"long\\\",\\n          \\\"name\\\": \\\"isFlaggedFraud\\\"\\n        }, {\\n          \\\"metadata\\\": {\\n\\n          },\\n          \\\"nullable\\\": true,\\n          \\\"type\\\": \\\"long\\\",\\n          \\\"name\\\": \\\"hour\\\"\\n        }, {\\n          \\\"metadata\\\": {\\n\\n          },\\n          \\\"nullable\\\": true,\\n          \\\"type\\\": \\\"string\\\",\\n          \\\"name\\\": \\\"origNameChar\\\"\\n        }, {\\n          \\\"metadata\\\": {\\n\\n          },\\n          \\\"nullable\\\": true,\\n          \\\"type\\\": \\\"long\\\",\\n          \\\"name\\\": \\\"origNameLen\\\"\\n        }, {\\n          \\\"metadata\\\": {\\n\\n          },\\n          \\\"nullable\\\": true,\\n          \\\"type\\\": \\\"string\\\",\\n          \\\"name\\\": \\\"destNameChar\\\"\\n        }, {\\n          \\\"metadata\\\": {\\n\\n          },\\n          \\\"nullable\\\": true,\\n          \\\"type\\\": \\\"long\\\",\\n          \\\"name\\\": \\\"destNameLen\\\"\\n        }, {\\n          \\\"metadata\\\": {\\n\\n          },\\n          \\\"nullable\\\": true,\\n          \\\"type\\\": \\\"double\\\",\\n          \\\"name\\\": \\\"destbalDiff\\\"\\n        }, {\\n          \\\"metadata\\\": {\\n\\n          },\\n          \\\"nullable\\\": true,\\n          \\\"type\\\": \\\"double\\\",\\n          \\\"name\\\": \\\"orgbalDiff\\\"\\n        }],\\n        \\\"type\\\": \\\"struct\\\"\\n      }\\n    }\\n  }, {\\n    \\\"metadata\\\": {\\n      \\\"guid\\\": \\\"34b10bb0-108b-4d20-961b-188fb56f51b1\\\",\\n      \\\"url\\\": \\\"https://us-south.ml.cloud.ibm.com/v3/wml_instances/ad345490-866c-4fcd-bbbc-a4d81c00b8bf/published_models/34b10bb0-108b-4d20-961b-188fb56f51b1\\\",\\n      \\\"created_at\\\": \\\"2018-09-01T09:39:22.776Z\\\",\\n      \\\"modified_at\\\": \\\"2018-09-01T09:39:22.870Z\\\"\\n    },\\n    \\\"entity\\\": {\\n      \\\"runtime_environment\\\": \\\"spark-2.1\\\",\\n      \\\"learning_configuration_url\\\": \\\"https://us-south.ml.cloud.ibm.com/v3/wml_instances/ad345490-866c-4fcd-bbbc-a4d81c00b8bf/published_models/34b10bb0-108b-4d20-961b-188fb56f51b1/learning_configuration\\\",\\n      \\\"name\\\": \\\"Fraudalent elec transactions\\\",\\n      \\\"label_col\\\": \\\"isFraud\\\",\\n      \\\"learning_iterations_url\\\": \\\"https://us-south.ml.cloud.ibm.com/v3/wml_instances/ad345490-866c-4fcd-bbbc-a4d81c00b8bf/published_models/34b10bb0-108b-4d20-961b-188fb56f51b1/learning_iterations\\\",\\n      \\\"training_data_schema\\\": {\\n        \\\"fields\\\": [{\\n          \\\"metadata\\\": {\\n\\n          },\\n          \\\"nullable\\\": true,\\n          \\\"type\\\": \\\"long\\\",\\n          \\\"name\\\": \\\"folds\\\"\\n        }, {\\n          \\\"metadata\\\": {\\n\\n          },\\n          \\\"nullable\\\": true,\\n          \\\"type\\\": \\\"long\\\",\\n          \\\"name\\\": \\\"step\\\"\\n        }, {\\n          \\\"metadata\\\": {\\n\\n          },\\n          \\\"nullable\\\": true,\\n          \\\"type\\\": \\\"string\\\",\\n          \\\"name\\\": \\\"type\\\"\\n        }, {\\n          \\\"metadata\\\": {\\n\\n          },\\n          \\\"nullable\\\": true,\\n          \\\"type\\\": \\\"double\\\",\\n          \\\"name\\\": \\\"amount\\\"\\n        }, {\\n          \\\"metadata\\\": {\\n\\n          },\\n          \\\"nullable\\\": true,\\n          \\\"type\\\": \\\"string\\\",\\n          \\\"name\\\": \\\"nameOrig\\\"\\n        }, {\\n          \\\"metadata\\\": {\\n\\n          },\\n          \\\"nullable\\\": true,\\n          \\\"type\\\": \\\"double\\\",\\n          \\\"name\\\": \\\"oldbalanceOrg\\\"\\n        }, {\\n          \\\"metadata\\\": {\\n\\n          },\\n          \\\"nullable\\\": true,\\n          \\\"type\\\": \\\"double\\\",\\n          \\\"name\\\": \\\"newbalanceOrig\\\"\\n        }, {\\n          \\\"metadata\\\": {\\n\\n          },\\n          \\\"nullable\\\": true,\\n          \\\"type\\\": \\\"string\\\",\\n          \\\"name\\\": \\\"nameDest\\\"\\n        }, {\\n          \\\"metadata\\\": {\\n\\n          },\\n          \\\"nullable\\\": true,\\n          \\\"type\\\": \\\"double\\\",\\n          \\\"name\\\": \\\"oldbalanceDest\\\"\\n        }, {\\n          \\\"metadata\\\": {\\n\\n          },\\n          \\\"nullable\\\": true,\\n          \\\"type\\\": \\\"double\\\",\\n          \\\"name\\\": \\\"newbalanceDest\\\"\\n        }, {\\n          \\\"metadata\\\": {\\n\\n          },\\n          \\\"nullable\\\": true,\\n          \\\"type\\\": \\\"long\\\",\\n          \\\"name\\\": \\\"isFraud\\\"\\n        }, {\\n          \\\"metadata\\\": {\\n\\n          },\\n          \\\"nullable\\\": true,\\n          \\\"type\\\": \\\"long\\\",\\n          \\\"name\\\": \\\"isFlaggedFraud\\\"\\n        }, {\\n          \\\"metadata\\\": {\\n\\n          },\\n          \\\"nullable\\\": true,\\n          \\\"type\\\": \\\"long\\\",\\n          \\\"name\\\": \\\"hour\\\"\\n        }, {\\n          \\\"metadata\\\": {\\n\\n          },\\n          \\\"nullable\\\": true,\\n          \\\"type\\\": \\\"string\\\",\\n          \\\"name\\\": \\\"origNameChar\\\"\\n        }, {\\n          \\\"metadata\\\": {\\n\\n          },\\n          \\\"nullable\\\": true,\\n          \\\"type\\\": \\\"long\\\",\\n          \\\"name\\\": \\\"origNameLen\\\"\\n        }, {\\n          \\\"metadata\\\": {\\n\\n          },\\n          \\\"nullable\\\": true,\\n          \\\"type\\\": \\\"string\\\",\\n          \\\"name\\\": \\\"destNameChar\\\"\\n        }, {\\n          \\\"metadata\\\": {\\n\\n          },\\n          \\\"nullable\\\": true,\\n          \\\"type\\\": \\\"long\\\",\\n          \\\"name\\\": \\\"destNameLen\\\"\\n        }, {\\n          \\\"metadata\\\": {\\n\\n          },\\n          \\\"nullable\\\": true,\\n          \\\"type\\\": \\\"double\\\",\\n          \\\"name\\\": \\\"destbalDiff\\\"\\n        }, {\\n          \\\"metadata\\\": {\\n\\n          },\\n          \\\"nullable\\\": true,\\n          \\\"type\\\": \\\"double\\\",\\n          \\\"name\\\": \\\"orgbalDiff\\\"\\n        }],\\n        \\\"type\\\": \\\"struct\\\"\\n      },\\n      \\\"feedback_url\\\": \\\"https://us-south.ml.cloud.ibm.com/v3/wml_instances/ad345490-866c-4fcd-bbbc-a4d81c00b8bf/published_models/34b10bb0-108b-4d20-961b-188fb56f51b1/feedback\\\",\\n      \\\"latest_version\\\": {\\n        \\\"url\\\": \\\"https://us-south.ml.cloud.ibm.com/v3/ml_assets/models/34b10bb0-108b-4d20-961b-188fb56f51b1/versions/04f5d336-61cc-4dab-9b77-b2c7b64f1661\\\",\\n        \\\"guid\\\": \\\"04f5d336-61cc-4dab-9b77-b2c7b64f1661\\\",\\n        \\\"created_at\\\": \\\"2018-09-01T09:39:22.870Z\\\"\\n      },\\n      \\\"model_type\\\": \\\"mllib-2.1\\\",\\n      \\\"deployments\\\": {\\n        \\\"count\\\": 0,\\n        \\\"url\\\": \\\"https://us-south.ml.cloud.ibm.com/v3/wml_instances/ad345490-866c-4fcd-bbbc-a4d81c00b8bf/published_models/34b10bb0-108b-4d20-961b-188fb56f51b1/deployments\\\"\\n      },\\n      \\\"evaluation_metrics_url\\\": \\\"https://us-south.ml.cloud.ibm.com/v3/wml_instances/ad345490-866c-4fcd-bbbc-a4d81c00b8bf/published_models/34b10bb0-108b-4d20-961b-188fb56f51b1/evaluation_metrics\\\",\\n      \\\"input_data_schema\\\": {\\n        \\\"fields\\\": [{\\n          \\\"metadata\\\": {\\n\\n          },\\n          \\\"nullable\\\": true,\\n          \\\"type\\\": \\\"long\\\",\\n          \\\"name\\\": \\\"folds\\\"\\n        }, {\\n          \\\"metadata\\\": {\\n\\n          },\\n          \\\"nullable\\\": true,\\n          \\\"type\\\": \\\"long\\\",\\n          \\\"name\\\": \\\"step\\\"\\n        }, {\\n          \\\"metadata\\\": {\\n\\n          },\\n          \\\"nullable\\\": true,\\n          \\\"type\\\": \\\"string\\\",\\n          \\\"name\\\": \\\"type\\\"\\n        }, {\\n          \\\"metadata\\\": {\\n\\n          },\\n          \\\"nullable\\\": true,\\n          \\\"type\\\": \\\"double\\\",\\n          \\\"name\\\": \\\"amount\\\"\\n        }, {\\n          \\\"metadata\\\": {\\n\\n          },\\n          \\\"nullable\\\": true,\\n          \\\"type\\\": \\\"string\\\",\\n          \\\"name\\\": \\\"nameOrig\\\"\\n        }, {\\n          \\\"metadata\\\": {\\n\\n          },\\n          \\\"nullable\\\": true,\\n          \\\"type\\\": \\\"double\\\",\\n          \\\"name\\\": \\\"oldbalanceOrg\\\"\\n        }, {\\n          \\\"metadata\\\": {\\n\\n          },\\n          \\\"nullable\\\": true,\\n          \\\"type\\\": \\\"double\\\",\\n          \\\"name\\\": \\\"newbalanceOrig\\\"\\n        }, {\\n          \\\"metadata\\\": {\\n\\n          },\\n          \\\"nullable\\\": true,\\n          \\\"type\\\": \\\"string\\\",\\n          \\\"name\\\": \\\"nameDest\\\"\\n        }, {\\n          \\\"metadata\\\": {\\n\\n          },\\n          \\\"nullable\\\": true,\\n          \\\"type\\\": \\\"double\\\",\\n          \\\"name\\\": \\\"oldbalanceDest\\\"\\n        }, {\\n          \\\"metadata\\\": {\\n\\n          },\\n          \\\"nullable\\\": true,\\n          \\\"type\\\": \\\"double\\\",\\n          \\\"name\\\": \\\"newbalanceDest\\\"\\n        }, {\\n          \\\"metadata\\\": {\\n\\n          },\\n          \\\"nullable\\\": true,\\n          \\\"type\\\": \\\"long\\\",\\n          \\\"name\\\": \\\"isFlaggedFraud\\\"\\n        }, {\\n          \\\"metadata\\\": {\\n\\n          },\\n          \\\"nullable\\\": true,\\n          \\\"type\\\": \\\"long\\\",\\n          \\\"name\\\": \\\"hour\\\"\\n        }, {\\n          \\\"metadata\\\": {\\n\\n          },\\n          \\\"nullable\\\": true,\\n          \\\"type\\\": \\\"string\\\",\\n          \\\"name\\\": \\\"origNameChar\\\"\\n        }, {\\n          \\\"metadata\\\": {\\n\\n          },\\n          \\\"nullable\\\": true,\\n          \\\"type\\\": \\\"long\\\",\\n          \\\"name\\\": \\\"origNameLen\\\"\\n        }, {\\n          \\\"metadata\\\": {\\n\\n          },\\n          \\\"nullable\\\": true,\\n          \\\"type\\\": \\\"string\\\",\\n          \\\"name\\\": \\\"destNameChar\\\"\\n        }, {\\n          \\\"metadata\\\": {\\n\\n          },\\n          \\\"nullable\\\": true,\\n          \\\"type\\\": \\\"long\\\",\\n          \\\"name\\\": \\\"destNameLen\\\"\\n        }, {\\n          \\\"metadata\\\": {\\n\\n          },\\n          \\\"nullable\\\": true,\\n          \\\"type\\\": \\\"double\\\",\\n          \\\"name\\\": \\\"destbalDiff\\\"\\n        }, {\\n          \\\"metadata\\\": {\\n\\n          },\\n          \\\"nullable\\\": true,\\n          \\\"type\\\": \\\"double\\\",\\n          \\\"name\\\": \\\"orgbalDiff\\\"\\n        }],\\n        \\\"type\\\": \\\"struct\\\"\\n      }\\n    }\\n  }],\\n  \\\"first\\\": {\\n    \\\"url\\\": \\\"https://us-south.ml.cloud.ibm.com/v3/wml_instances/ad345490-866c-4fcd-bbbc-a4d81c00b8bf/published_models?limit=1000\\\"\\n  }\\n}\"\n"
     ]
    }
   ],
   "source": [
    "header = {'Content-Type': 'application/json', 'Authorization': 'Bearer ' + mltoken}\n",
    "response_get = requests.get(endpoint_published_models, headers=header)\n",
    "\n",
    "print(response_get)\n",
    "print(json.dumps(response_get.text, indent=2))"
   ]
  },
  {
   "cell_type": "code",
   "execution_count": 209,
   "metadata": {},
   "outputs": [
    {
     "data": {
      "text/plain": [
       "['https://us-south.ml.cloud.ibm.com/v3/wml_instances/ad345490-866c-4fcd-bbbc-a4d81c00b8bf/published_models/ffa62ad1-8721-4d93-a49c-7f5df33d6e5c/deployments',\n",
       " 'https://us-south.ml.cloud.ibm.com/v3/wml_instances/ad345490-866c-4fcd-bbbc-a4d81c00b8bf/published_models/34b10bb0-108b-4d20-961b-188fb56f51b1/deployments']"
      ]
     },
     "execution_count": 209,
     "metadata": {},
     "output_type": "execute_result"
    }
   ],
   "source": [
    "[x.get('entity').get('deployments').get('url') for x in json.loads(response_get.text).get('resources')]# if x.get('metadata').get('guid') == saved_model.uid]\n"
   ]
  },
  {
   "cell_type": "code",
   "execution_count": 221,
   "metadata": {},
   "outputs": [],
   "source": [
    "saved_model_uid = 'https://us-south.ml.cloud.ibm.com/v3/wml_instances/ad345490-866c-4fcd-bbbc-a4d81c00b8bf/published_models/34b10bb0-108b-4d20-961b-188fb56f51b1'"
   ]
  },
  {
   "cell_type": "code",
   "execution_count": 222,
   "metadata": {},
   "outputs": [
    {
     "name": "stdout",
     "output_type": "stream",
     "text": [
      "https://us-south.ml.cloud.ibm.com/v3/wml_instances/ad345490-866c-4fcd-bbbc-a4d81c00b8bf/published_models/34b10bb0-108b-4d20-961b-188fb56f51b1/deployments\n"
     ]
    }
   ],
   "source": [
    "[endpoint_deployments] = [x.get('entity').get('deployments').get('url') for x in json.loads(response_get.text).get('resources') if x.get('metadata').get('url') == saved_model_uid]\n",
    "\n",
    "print(endpoint_deployments)"
   ]
  },
  {
   "cell_type": "code",
   "execution_count": 212,
   "metadata": {},
   "outputs": [
    {
     "data": {
      "text/plain": [
       "[1, 0]"
      ]
     },
     "execution_count": 212,
     "metadata": {},
     "output_type": "execute_result"
    }
   ],
   "source": [
    "[x.get('entity').get('deployments').get('count') for x in json.loads(response_get.text).get('resources')]# if x.get('metadata').get('guid') == saved_model.uid]\n"
   ]
  },
  {
   "cell_type": "markdown",
   "metadata": {},
   "source": [
    "Create batch deployment for published model"
   ]
  },
  {
   "cell_type": "code",
   "execution_count": 213,
   "metadata": {},
   "outputs": [],
   "source": [
    "# @hidden_cell\n",
    "spark_credentials = {\"tenant_id\": \"s895-0265e0bc4ba2c2-7809e8a30329\",\n",
    "  \"tenant_id_full\": \"9d7fe4b3-df43-47eb-8895-0265e0bc4ba2_9e5cbf9c-ee75-4d56-80c2-7809e8a30329\",\n",
    "  \"cluster_master_url\": \"https://spark.bluemix.net\",\n",
    "  \"tenant_secret\": \"b87c64ae-3cbe-43e4-8c2e-f404fc5ff37d\",\n",
    "  \"instance_id\": \"9d7fe4b3-df43-47eb-8895-0265e0bc4ba2\",\n",
    "  \"plan\": \"ibm.SparkService.PayGoPersonal\"}"
   ]
  },
  {
   "cell_type": "code",
   "execution_count": 216,
   "metadata": {},
   "outputs": [],
   "source": [
    "encoded_spark_credentials_header = base64.b64encode(json.dumps({'credentials': spark_credentials, 'version': \"2.1\"}).encode())\n",
    "result_filename = \"scores.csv\""
   ]
  },
  {
   "cell_type": "code",
   "execution_count": 217,
   "metadata": {},
   "outputs": [],
   "source": [
    "header_batch = {'Content-Type': 'application/json', 'Authorization': \"Bearer \" + mltoken, 'X-Spark-Service-Instance': encoded_spark_credentials_header}"
   ]
  },
  {
   "cell_type": "code",
   "execution_count": 218,
   "metadata": {},
   "outputs": [],
   "source": [
    "payload_batch = {\"type\":\"batch\", \"name\": \"Fraudalent Transactions Prediction\", \"description\": \"Batch Deployment\", \"input\": {\"source\": { \"bucket\": \"modelscorebucket\", \\\n",
    "\"filename\": \"data_to_score.csv\", \"inferschema\":1,  \"fileformat\": \"csv\", \"type\": \"cloudobjectstorage\"}, \\\n",
    "\"connection\": {\"access_key\": connection_access_key_id, \"secret_key\": connection_secret_access_key, \"url\": service_endpoint}}, \\\n",
    "                 \"output\": { \"target\": { \"bucket\": \"modelscorebucket\", \"filename\": result_filename, \"fileformat\": \"csv\", \"firstlineheader\":\"true\", \\\n",
    "            \"type\": \"cloudobjectstorage\"}, \"connection\": {\"access_key\": connection_access_key_id, \"secret_key\": connection_secret_access_key, \"url\": service_endpoint}}}\n"
   ]
  },
  {
   "cell_type": "code",
   "execution_count": 223,
   "metadata": {},
   "outputs": [
    {
     "name": "stdout",
     "output_type": "stream",
     "text": [
      "<Response [201]>\n",
      "INITIALIZING\n"
     ]
    }
   ],
   "source": [
    "response_batch = requests.post(endpoint_deployments, json=payload_batch, headers=header_batch)\n",
    "\n",
    "print(response_batch)\n",
    "print(json.loads(response_batch.text).get(\"entity\").get(\"status\"))"
   ]
  },
  {
   "cell_type": "code",
   "execution_count": 268,
   "metadata": {},
   "outputs": [
    {
     "name": "stdout",
     "output_type": "stream",
     "text": [
      "<Response [200]>\n"
     ]
    },
    {
     "data": {
      "text/plain": [
       "{'completionCode': '200',\n",
       " 'logFile': 'SubmissionID = driver-20180901044652-0488-a1c508b5-e683-449b-a014-0f457af921e5',\n",
       " 'message': 'SUCCESS',\n",
       " 'queueDateTime': '2018-09-01T09:46:52Z',\n",
       " 'startDateTime': '2018-09-01T09:46:52Z',\n",
       " 'status': 'COMPLETED'}"
      ]
     },
     "execution_count": 268,
     "metadata": {},
     "output_type": "execute_result"
    }
   ],
   "source": [
    "header_monitor_job = {'Content-Type': 'application/json', 'Authorization': \"Bearer \" + mltoken, 'X-Spark-Service-Instance': encoded_spark_credentials_header}\n",
    "\n",
    "response_monitor_job = requests.get(endpoint_deployments, headers=header_monitor_job)\n",
    "\n",
    "print(response_monitor_job)\n",
    "json.loads(response_monitor_job.text).get(\"resources\")[0]['entity']['status_details']\n",
    "#print(json.dumps(response_monitor_job.text, indent=2))"
   ]
  },
  {
   "cell_type": "code",
   "execution_count": null,
   "metadata": {},
   "outputs": [],
   "source": []
  }
 ],
 "metadata": {
  "kernelspec": {
   "display_name": "Python 3.5 with Spark 2.1",
   "language": "python",
   "name": "python3-spark21"
  },
  "language_info": {
   "codemirror_mode": {
    "name": "ipython",
    "version": 3
   },
   "file_extension": ".py",
   "mimetype": "text/x-python",
   "name": "python",
   "nbconvert_exporter": "python",
   "pygments_lexer": "ipython3",
   "version": "3.5.4"
  }
 },
 "nbformat": 4,
 "nbformat_minor": 1
}
