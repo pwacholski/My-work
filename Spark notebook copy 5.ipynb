{
 "cells": [
  {
   "cell_type": "markdown",
   "metadata": {},
   "source": [
    "# Deploying published model"
   ]
  },
  {
   "cell_type": "code",
   "execution_count": 36,
   "metadata": {},
   "outputs": [],
   "source": [
    "import pandas as pd\n",
    "import numpy as np\n",
    "import matplotlib.pyplot as plt\n",
    "from itertools import product\n",
    "import pyspark.sql.functions as psqlf\n",
    "from pyspark.ml.feature import VectorAssembler, Normalizer, StringIndexer, OneHotEncoder\n",
    "from pyspark.ml import Pipeline\n",
    "from pyspark.ml.classification import GBTClassifier, RandomForestClassifier\n",
    "from pyspark.ml.evaluation import MulticlassClassificationEvaluator\n",
    "from pyspark.ml.tuning import ParamGridBuilder, CrossValidator\n",
    "from keras.models import Sequential\n",
    "from keras.layers import Dense, Dropout\n",
    "from sklearn.preprocessing import MinMaxScaler\n",
    "from repository.mlrepositoryclient import MLRepositoryClient\n",
    "from repository.mlrepositoryartifact import MLRepositoryArtifact\n",
    "from repository.mlrepository import MetaProps\n",
    "import urllib3, requests, json, base64, ibm_boto3\n",
    "from ibm_botocore.client import Config "
   ]
  },
  {
   "cell_type": "markdown",
   "metadata": {},
   "source": [
    "### Information about published models from Watson ML instance"
   ]
  },
  {
   "cell_type": "code",
   "execution_count": 39,
   "metadata": {},
   "outputs": [],
   "source": [
    "# @hidden_cell\n",
    "#hide credentials\n",
    "wml_credentials = {\n",
    "  \"apikey\": \"RTClG03LkiAX5Smoi2JChk31vEYd6hKfwiz3bbsilBGK\",\n",
    "  \"iam_apikey_description\": \"Auto generated apikey during resource-key operation for Instance - crn:v1:bluemix:public:pm-20:us-south:a/a25876fc4dfd4284aa7fa16810798644:ad345490-866c-4fcd-bbbc-a4d81c00b8bf::\",\n",
    "  \"iam_apikey_name\": \"auto-generated-apikey-989e787a-6cd2-4d3f-93b9-891ca7239b8e\",\n",
    "  \"iam_role_crn\": \"crn:v1:bluemix:public:iam::::serviceRole:Writer\",\n",
    "  \"iam_serviceid_crn\": \"crn:v1:bluemix:public:iam-identity::a/a25876fc4dfd4284aa7fa16810798644::serviceid:ServiceId-a3c740ff-ceb5-41e4-8e27-48540cfd6d8a\",\n",
    "  \"instance_id\": \"ad345490-866c-4fcd-bbbc-a4d81c00b8bf\",\n",
    "  \"password\": \"5efdcb6d-a110-40ae-b068-58bc7e2ca421\",\n",
    "  \"url\": \"https://us-south.ml.cloud.ibm.com\",\n",
    "  \"username\": \"989e787a-6cd2-4d3f-93b9-891ca7239b8e\"\n",
    "}"
   ]
  },
  {
   "cell_type": "code",
   "execution_count": 26,
   "metadata": {},
   "outputs": [],
   "source": [
    "headers = urllib3.util.make_headers(basic_auth='{username}:{password}'.format(username=wml_credentials['username'], password=wml_credentials['password']))\n",
    "url = '{url}/v3/identity/token'.format(url=wml_credentials['url'])\n",
    "response = requests.get(url, headers=headers)\n",
    "mltoken = json.loads(response.text).get('token')"
   ]
  },
  {
   "cell_type": "markdown",
   "metadata": {},
   "source": [
    "Get info about Watson ML instance"
   ]
  },
  {
   "cell_type": "code",
   "execution_count": 27,
   "metadata": {},
   "outputs": [
    {
     "name": "stdout",
     "output_type": "stream",
     "text": [
      "<Response [200]>\n"
     ]
    }
   ],
   "source": [
    "endpoint_instance = wml_credentials['url'] + \"/v3/wml_instances/\" + wml_credentials['instance_id']\n",
    "header = {'Content-Type': 'application/json', 'Authorization': 'Bearer ' + mltoken}\n",
    "\n",
    "response_get_instance = requests.get(endpoint_instance, headers=header)\n",
    "\n",
    "print(response_get_instance)\n",
    "#print(json.dumps(response_get_instance.text, indent=2))"
   ]
  },
  {
   "cell_type": "markdown",
   "metadata": {},
   "source": [
    "Get URL of published models"
   ]
  },
  {
   "cell_type": "code",
   "execution_count": 28,
   "metadata": {},
   "outputs": [
    {
     "name": "stdout",
     "output_type": "stream",
     "text": [
      "https://us-south.ml.cloud.ibm.com/v3/wml_instances/ad345490-866c-4fcd-bbbc-a4d81c00b8bf/published_models\n"
     ]
    }
   ],
   "source": [
    "endpoint_published_models = json.loads(response_get_instance.text).get('entity').get('published_models').get('url')\n",
    "print(endpoint_published_models)"
   ]
  },
  {
   "cell_type": "code",
   "execution_count": 29,
   "metadata": {},
   "outputs": [
    {
     "name": "stdout",
     "output_type": "stream",
     "text": [
      "<Response [200]>\n"
     ]
    }
   ],
   "source": [
    "header = {'Content-Type': 'application/json', 'Authorization': 'Bearer ' + mltoken}\n",
    "response_get = requests.get(endpoint_published_models, headers=header)\n",
    "print(response_get)\n",
    "#print(json.dumps(response_get.text, indent=2))"
   ]
  },
  {
   "cell_type": "markdown",
   "metadata": {},
   "source": [
    "List of published models"
   ]
  },
  {
   "cell_type": "code",
   "execution_count": 30,
   "metadata": {},
   "outputs": [
    {
     "data": {
      "text/plain": [
       "['https://us-south.ml.cloud.ibm.com/v3/wml_instances/ad345490-866c-4fcd-bbbc-a4d81c00b8bf/published_models/ffa62ad1-8721-4d93-a49c-7f5df33d6e5c',\n",
       " 'https://us-south.ml.cloud.ibm.com/v3/wml_instances/ad345490-866c-4fcd-bbbc-a4d81c00b8bf/published_models/34b10bb0-108b-4d20-961b-188fb56f51b1']"
      ]
     },
     "execution_count": 30,
     "metadata": {},
     "output_type": "execute_result"
    }
   ],
   "source": [
    "list_of_published_models = [x.get('metadata').get('url') for x in json.loads(response_get.text).get('resources')]\n",
    "list_of_published_models"
   ]
  },
  {
   "cell_type": "markdown",
   "metadata": {},
   "source": [
    "Deployment URL for latest model"
   ]
  },
  {
   "cell_type": "code",
   "execution_count": 31,
   "metadata": {},
   "outputs": [
    {
     "name": "stdout",
     "output_type": "stream",
     "text": [
      "https://us-south.ml.cloud.ibm.com/v3/wml_instances/ad345490-866c-4fcd-bbbc-a4d81c00b8bf/published_models/34b10bb0-108b-4d20-961b-188fb56f51b1/deployments\n"
     ]
    }
   ],
   "source": [
    "[endpoint_deployments] = [x.get('entity').get('deployments').get('url') for x in json.loads(response_get.text).get('resources') if x.get('metadata').get('url') == list_of_published_models[len(list_of_published_models)-1]]\n",
    "print(endpoint_deployments)"
   ]
  },
  {
   "cell_type": "markdown",
   "metadata": {},
   "source": [
    "No of deployments per model"
   ]
  },
  {
   "cell_type": "code",
   "execution_count": 32,
   "metadata": {},
   "outputs": [
    {
     "data": {
      "text/plain": [
       "[1, 2]"
      ]
     },
     "execution_count": 32,
     "metadata": {},
     "output_type": "execute_result"
    }
   ],
   "source": [
    "[x.get('entity').get('deployments').get('count') for x in json.loads(response_get.text).get('resources')]"
   ]
  },
  {
   "cell_type": "markdown",
   "metadata": {},
   "source": [
    "### Configure deployment"
   ]
  },
  {
   "cell_type": "code",
   "execution_count": 10,
   "metadata": {},
   "outputs": [],
   "source": [
    "# @hidden_cell\n",
    "spark_credentials = {\"tenant_id\": \"s895-0265e0bc4ba2c2-7809e8a30329\",\n",
    "  \"tenant_id_full\": \"9d7fe4b3-df43-47eb-8895-0265e0bc4ba2_9e5cbf9c-ee75-4d56-80c2-7809e8a30329\",\n",
    "  \"cluster_master_url\": \"https://spark.bluemix.net\",\n",
    "  \"tenant_secret\": \"b87c64ae-3cbe-43e4-8c2e-f404fc5ff37d\",\n",
    "  \"instance_id\": \"9d7fe4b3-df43-47eb-8895-0265e0bc4ba2\",\n",
    "  \"plan\": \"ibm.SparkService.PayGoPersonal\"}"
   ]
  },
  {
   "cell_type": "code",
   "execution_count": 11,
   "metadata": {},
   "outputs": [],
   "source": [
    "# @hidden_cell\n",
    "cos_credentials = {\n",
    "  \"apikey\": \"by2MqrK_KQvvFwNryGGaF3vMKnyHEoqf4zXj4I2RfBHs\",\n",
    "  \"cos_hmac_keys\": {\n",
    "    \"access_key_id\": \"ce23d1002c6645cb8fc17b5dbb477e33\",\n",
    "    \"secret_access_key\": \"3a200e8fb87ba25cbc3a534d75a5eb6256c2ac15c12411d7\"\n",
    "  },\n",
    "  \"endpoints\": \"https://cos-service.bluemix.net/endpoints\",\n",
    "  \"iam_apikey_description\": \"Auto generated apikey during resource-key operation for Instance - crn:v1:bluemix:public:cloud-object-storage:global:a/a25876fc4dfd4284aa7fa16810798644:0a0616e2-2cbf-43fc-8905-08e39898d3e7::\",\n",
    "  \"iam_apikey_name\": \"auto-generated-apikey-ce23d100-2c66-45cb-8fc1-7b5dbb477e33\",\n",
    "  \"iam_role_crn\": \"crn:v1:bluemix:public:iam::::serviceRole:Writer\",\n",
    "  \"iam_serviceid_crn\": \"crn:v1:bluemix:public:iam-identity::a/a25876fc4dfd4284aa7fa16810798644::serviceid:ServiceId-2725cd4a-70f1-44fb-b9d5-1bffe97559aa\",\n",
    "  \"resource_instance_id\": \"crn:v1:bluemix:public:cloud-object-storage:global:a/a25876fc4dfd4284aa7fa16810798644:0a0616e2-2cbf-43fc-8905-08e39898d3e7::\"\n",
    "}"
   ]
  },
  {
   "cell_type": "code",
   "execution_count": 12,
   "metadata": {},
   "outputs": [],
   "source": [
    "auth_endpoint = 'https://iam.bluemix.net/oidc/token'\n",
    "service_endpoint = 'https://s3-api.us-geo.objectstorage.softlayer.net'\n",
    "cos = ibm_boto3.client('s3',\n",
    "                         ibm_api_key_id=cos_credentials['apikey'],\n",
    "                         ibm_service_instance_id=cos_credentials['resource_instance_id'],\n",
    "                         ibm_auth_endpoint=auth_endpoint,\n",
    "                         config=Config(signature_version='oauth'),\n",
    "                         endpoint_url=service_endpoint)"
   ]
  },
  {
   "cell_type": "code",
   "execution_count": 13,
   "metadata": {},
   "outputs": [],
   "source": [
    "connection_apikey = cos_credentials['apikey']\n",
    "connection_resource_instance_id = cos_credentials[\"resource_instance_id\"]\n",
    "connection_access_key_id = cos_credentials['cos_hmac_keys']['access_key_id']\n",
    "connection_secret_access_key = cos_credentials['cos_hmac_keys']['secret_access_key']"
   ]
  },
  {
   "cell_type": "code",
   "execution_count": 14,
   "metadata": {},
   "outputs": [],
   "source": [
    "encoded_spark_credentials_header = base64.b64encode(json.dumps({'credentials': spark_credentials, 'version': \"2.1\"}).encode())\n",
    "result_filename = \"scores.csv\""
   ]
  },
  {
   "cell_type": "code",
   "execution_count": 15,
   "metadata": {},
   "outputs": [],
   "source": [
    "header_batch = {'Content-Type': 'application/json', 'Authorization': \"Bearer \" + mltoken, 'X-Spark-Service-Instance': encoded_spark_credentials_header}"
   ]
  },
  {
   "cell_type": "code",
   "execution_count": 16,
   "metadata": {},
   "outputs": [],
   "source": [
    "payload_batch = {\"type\":\"batch\", \"name\": \"Fraudalent Transactions Prediction\", \"description\": \"Batch Deployment\", \"input\": {\"source\": { \"bucket\": \"modelscorebucket\", \\\n",
    "\"filename\": \"data_to_score.csv\", \"inferschema\":1,  \"fileformat\": \"csv\", \"type\": \"cloudobjectstorage\"}, \\\n",
    "\"connection\": {\"access_key\": connection_access_key_id, \"secret_key\": connection_secret_access_key, \"url\": service_endpoint}}, \\\n",
    "                 \"output\": { \"target\": { \"bucket\": \"modelscorebucket\", \"filename\": result_filename, \"fileformat\": \"csv\", \"firstlineheader\":\"true\", \\\n",
    "            \"type\": \"cloudobjectstorage\"}, \"connection\": {\"access_key\": connection_access_key_id, \"secret_key\": connection_secret_access_key, \"url\": service_endpoint}}}\n"
   ]
  },
  {
   "cell_type": "markdown",
   "metadata": {},
   "source": [
    "### Create batch deployment for published model"
   ]
  },
  {
   "cell_type": "code",
   "execution_count": 17,
   "metadata": {},
   "outputs": [
    {
     "name": "stdout",
     "output_type": "stream",
     "text": [
      "<Response [201]>\n",
      "INITIALIZING\n"
     ]
    }
   ],
   "source": [
    "response_batch = requests.post(endpoint_deployments, json=payload_batch, headers=header_batch)\n",
    "\n",
    "print(response_batch)\n",
    "print(json.loads(response_batch.text).get(\"entity\").get(\"status\"))"
   ]
  },
  {
   "cell_type": "code",
   "execution_count": 20,
   "metadata": {},
   "outputs": [
    {
     "name": "stdout",
     "output_type": "stream",
     "text": [
      "<Response [200]>\n"
     ]
    },
    {
     "data": {
      "text/plain": [
       "{'completionCode': '200',\n",
       " 'logFile': 'SubmissionID = driver-20180901044652-0488-a1c508b5-e683-449b-a014-0f457af921e5',\n",
       " 'message': 'SUCCESS',\n",
       " 'queueDateTime': '2018-09-01T09:46:52Z',\n",
       " 'startDateTime': '2018-09-01T09:46:52Z',\n",
       " 'status': 'COMPLETED'}"
      ]
     },
     "execution_count": 20,
     "metadata": {},
     "output_type": "execute_result"
    }
   ],
   "source": [
    "header_monitor_job = {'Content-Type': 'application/json', 'Authorization': \"Bearer \" + mltoken, 'X-Spark-Service-Instance': encoded_spark_credentials_header}\n",
    "\n",
    "response_monitor_job = requests.get(endpoint_deployments, headers=header_monitor_job)\n",
    "\n",
    "print(response_monitor_job)\n",
    "json.loads(response_monitor_job.text).get(\"resources\")[0]['entity']['status_details']\n",
    "#print(json.dumps(response_monitor_job.text, indent=2))"
   ]
  },
  {
   "cell_type": "markdown",
   "metadata": {},
   "source": [
    "### Check scored data"
   ]
  },
  {
   "cell_type": "code",
   "execution_count": 23,
   "metadata": {},
   "outputs": [],
   "source": [
    "cos.download_file(Key=\"scores.csv\",Bucket=\"modelscorebucket\", Filename=\"scores_local.csv\")"
   ]
  },
  {
   "cell_type": "code",
   "execution_count": 24,
   "metadata": {},
   "outputs": [
    {
     "data": {
      "text/html": [
       "<div>\n",
       "<style scoped>\n",
       "    .dataframe tbody tr th:only-of-type {\n",
       "        vertical-align: middle;\n",
       "    }\n",
       "\n",
       "    .dataframe tbody tr th {\n",
       "        vertical-align: top;\n",
       "    }\n",
       "\n",
       "    .dataframe thead th {\n",
       "        text-align: right;\n",
       "    }\n",
       "</style>\n",
       "<table border=\"1\" class=\"dataframe\">\n",
       "  <thead>\n",
       "    <tr style=\"text-align: right;\">\n",
       "      <th></th>\n",
       "      <th>folds</th>\n",
       "      <th>step</th>\n",
       "      <th>type</th>\n",
       "      <th>amount</th>\n",
       "      <th>nameOrig</th>\n",
       "      <th>oldbalanceOrg</th>\n",
       "      <th>newbalanceOrig</th>\n",
       "      <th>nameDest</th>\n",
       "      <th>oldbalanceDest</th>\n",
       "      <th>newbalanceDest</th>\n",
       "      <th>...</th>\n",
       "      <th>orgbalDiff</th>\n",
       "      <th>type_indexed</th>\n",
       "      <th>destNameChar_indexed</th>\n",
       "      <th>type_ohe</th>\n",
       "      <th>destNameChar_ohe</th>\n",
       "      <th>features</th>\n",
       "      <th>features_norm</th>\n",
       "      <th>rawPrediction</th>\n",
       "      <th>probability</th>\n",
       "      <th>prediction</th>\n",
       "    </tr>\n",
       "  </thead>\n",
       "  <tbody>\n",
       "    <tr>\n",
       "      <th>0</th>\n",
       "      <td>3</td>\n",
       "      <td>1</td>\n",
       "      <td>PAYMENT</td>\n",
       "      <td>5086.48</td>\n",
       "      <td>C598357562</td>\n",
       "      <td>0.00</td>\n",
       "      <td>0.00</td>\n",
       "      <td>M1593224710</td>\n",
       "      <td>0.00</td>\n",
       "      <td>0.00</td>\n",
       "      <td>...</td>\n",
       "      <td>-5086.48</td>\n",
       "      <td>1.0</td>\n",
       "      <td>1.0</td>\n",
       "      <td>(4,[1],[1.0])</td>\n",
       "      <td>(1,[],[])</td>\n",
       "      <td>(15,[1,4,10,11,12,13,14],[1.0,5086.48,1.0,10.0...</td>\n",
       "      <td>(15,[1,4,10,11,12,13,14],[1.1350667648400314E-...</td>\n",
       "      <td>[99.99956526608419,4.3473391580797283E-4]</td>\n",
       "      <td>[0.9999956526608419,4.3473391580797285E-6]</td>\n",
       "      <td>0.0</td>\n",
       "    </tr>\n",
       "    <tr>\n",
       "      <th>1</th>\n",
       "      <td>3</td>\n",
       "      <td>1</td>\n",
       "      <td>PAYMENT</td>\n",
       "      <td>1718.29</td>\n",
       "      <td>C603658030</td>\n",
       "      <td>117811.00</td>\n",
       "      <td>116092.71</td>\n",
       "      <td>M1689924104</td>\n",
       "      <td>0.00</td>\n",
       "      <td>0.00</td>\n",
       "      <td>...</td>\n",
       "      <td>0.00</td>\n",
       "      <td>1.0</td>\n",
       "      <td>1.0</td>\n",
       "      <td>(4,[1],[1.0])</td>\n",
       "      <td>(1,[],[])</td>\n",
       "      <td>(15,[1,4,5,6,10,11,12,13],[1.0,1718.29,117811....</td>\n",
       "      <td>(15,[1,4,5,6,10,11,12,13],[6.0453200903120725E...</td>\n",
       "      <td>[99.97988904170549,0.02011095829451225]</td>\n",
       "      <td>[0.9997988904170549,2.011095829451225E-4]</td>\n",
       "      <td>0.0</td>\n",
       "    </tr>\n",
       "    <tr>\n",
       "      <th>2</th>\n",
       "      <td>3</td>\n",
       "      <td>1</td>\n",
       "      <td>PAYMENT</td>\n",
       "      <td>2803.83</td>\n",
       "      <td>C1129433283</td>\n",
       "      <td>0.00</td>\n",
       "      <td>0.00</td>\n",
       "      <td>M864138492</td>\n",
       "      <td>0.00</td>\n",
       "      <td>0.00</td>\n",
       "      <td>...</td>\n",
       "      <td>-2803.83</td>\n",
       "      <td>1.0</td>\n",
       "      <td>1.0</td>\n",
       "      <td>(4,[1],[1.0])</td>\n",
       "      <td>(1,[],[])</td>\n",
       "      <td>(15,[1,4,10,11,12,13,14],[1.0,2803.83,1.0,11.0...</td>\n",
       "      <td>(15,[1,4,10,11,12,13,14],[2.0591388909739188E-...</td>\n",
       "      <td>[99.99956526608419,4.3473391580797283E-4]</td>\n",
       "      <td>[0.9999956526608419,4.3473391580797285E-6]</td>\n",
       "      <td>0.0</td>\n",
       "    </tr>\n",
       "    <tr>\n",
       "      <th>3</th>\n",
       "      <td>3</td>\n",
       "      <td>1</td>\n",
       "      <td>TRANSFER</td>\n",
       "      <td>2061082.82</td>\n",
       "      <td>C2007599722</td>\n",
       "      <td>0.00</td>\n",
       "      <td>0.00</td>\n",
       "      <td>C1590550415</td>\n",
       "      <td>14939915.42</td>\n",
       "      <td>19169204.93</td>\n",
       "      <td>...</td>\n",
       "      <td>-2061082.82</td>\n",
       "      <td>3.0</td>\n",
       "      <td>0.0</td>\n",
       "      <td>(4,[3],[1.0])</td>\n",
       "      <td>(1,[0],[1.0])</td>\n",
       "      <td>[0.0,0.0,0.0,1.0,2061082.82,0.0,0.0,1.49399154...</td>\n",
       "      <td>[0.0,0.0,0.0,4.0694249420001595E-8,0.083874218...</td>\n",
       "      <td>[99.96101501074776,0.03898498925224239]</td>\n",
       "      <td>[0.9996101501074776,3.898498925224239E-4]</td>\n",
       "      <td>0.0</td>\n",
       "    </tr>\n",
       "    <tr>\n",
       "      <th>4</th>\n",
       "      <td>3</td>\n",
       "      <td>1</td>\n",
       "      <td>CASH_IN</td>\n",
       "      <td>35902.49</td>\n",
       "      <td>C839771540</td>\n",
       "      <td>371688.15</td>\n",
       "      <td>407590.65</td>\n",
       "      <td>C2001112025</td>\n",
       "      <td>49003.30</td>\n",
       "      <td>0.00</td>\n",
       "      <td>...</td>\n",
       "      <td>-71804.99</td>\n",
       "      <td>2.0</td>\n",
       "      <td>0.0</td>\n",
       "      <td>(4,[2],[1.0])</td>\n",
       "      <td>(1,[0],[1.0])</td>\n",
       "      <td>[0.0,0.0,1.0,0.0,35902.49,371688.15,407590.65,...</td>\n",
       "      <td>[0.0,0.0,1.766835521248905E-6,0.0,0.0634337946...</td>\n",
       "      <td>[99.99593086002912,0.004069139970885306]</td>\n",
       "      <td>[0.9999593086002911,4.069139970885305E-5]</td>\n",
       "      <td>0.0</td>\n",
       "    </tr>\n",
       "  </tbody>\n",
       "</table>\n",
       "<p>5 rows × 28 columns</p>\n",
       "</div>"
      ],
      "text/plain": [
       "   folds  step      type      amount     nameOrig  oldbalanceOrg  \\\n",
       "0      3     1   PAYMENT     5086.48   C598357562           0.00   \n",
       "1      3     1   PAYMENT     1718.29   C603658030      117811.00   \n",
       "2      3     1   PAYMENT     2803.83  C1129433283           0.00   \n",
       "3      3     1  TRANSFER  2061082.82  C2007599722           0.00   \n",
       "4      3     1   CASH_IN    35902.49   C839771540      371688.15   \n",
       "\n",
       "   newbalanceOrig     nameDest  oldbalanceDest  newbalanceDest     ...      \\\n",
       "0            0.00  M1593224710            0.00            0.00     ...       \n",
       "1       116092.71  M1689924104            0.00            0.00     ...       \n",
       "2            0.00   M864138492            0.00            0.00     ...       \n",
       "3            0.00  C1590550415     14939915.42     19169204.93     ...       \n",
       "4       407590.65  C2001112025        49003.30            0.00     ...       \n",
       "\n",
       "   orgbalDiff  type_indexed  destNameChar_indexed       type_ohe  \\\n",
       "0    -5086.48           1.0                   1.0  (4,[1],[1.0])   \n",
       "1        0.00           1.0                   1.0  (4,[1],[1.0])   \n",
       "2    -2803.83           1.0                   1.0  (4,[1],[1.0])   \n",
       "3 -2061082.82           3.0                   0.0  (4,[3],[1.0])   \n",
       "4   -71804.99           2.0                   0.0  (4,[2],[1.0])   \n",
       "\n",
       "   destNameChar_ohe                                           features  \\\n",
       "0         (1,[],[])  (15,[1,4,10,11,12,13,14],[1.0,5086.48,1.0,10.0...   \n",
       "1         (1,[],[])  (15,[1,4,5,6,10,11,12,13],[1.0,1718.29,117811....   \n",
       "2         (1,[],[])  (15,[1,4,10,11,12,13,14],[1.0,2803.83,1.0,11.0...   \n",
       "3     (1,[0],[1.0])  [0.0,0.0,0.0,1.0,2061082.82,0.0,0.0,1.49399154...   \n",
       "4     (1,[0],[1.0])  [0.0,0.0,1.0,0.0,35902.49,371688.15,407590.65,...   \n",
       "\n",
       "                                       features_norm  \\\n",
       "0  (15,[1,4,10,11,12,13,14],[1.1350667648400314E-...   \n",
       "1  (15,[1,4,5,6,10,11,12,13],[6.0453200903120725E...   \n",
       "2  (15,[1,4,10,11,12,13,14],[2.0591388909739188E-...   \n",
       "3  [0.0,0.0,0.0,4.0694249420001595E-8,0.083874218...   \n",
       "4  [0.0,0.0,1.766835521248905E-6,0.0,0.0634337946...   \n",
       "\n",
       "                               rawPrediction  \\\n",
       "0  [99.99956526608419,4.3473391580797283E-4]   \n",
       "1    [99.97988904170549,0.02011095829451225]   \n",
       "2  [99.99956526608419,4.3473391580797283E-4]   \n",
       "3    [99.96101501074776,0.03898498925224239]   \n",
       "4   [99.99593086002912,0.004069139970885306]   \n",
       "\n",
       "                                  probability  prediction  \n",
       "0  [0.9999956526608419,4.3473391580797285E-6]         0.0  \n",
       "1   [0.9997988904170549,2.011095829451225E-4]         0.0  \n",
       "2  [0.9999956526608419,4.3473391580797285E-6]         0.0  \n",
       "3   [0.9996101501074776,3.898498925224239E-4]         0.0  \n",
       "4   [0.9999593086002911,4.069139970885305E-5]         0.0  \n",
       "\n",
       "[5 rows x 28 columns]"
      ]
     },
     "execution_count": 24,
     "metadata": {},
     "output_type": "execute_result"
    }
   ],
   "source": [
    "scores_df = pd.read_csv('scores_local.csv')\n",
    "scores_df.head(5)"
   ]
  },
  {
   "cell_type": "code",
   "execution_count": 25,
   "metadata": {},
   "outputs": [
    {
     "name": "stdout",
     "output_type": "stream",
     "text": [
      "Confusion matrix\n"
     ]
    },
    {
     "data": {
      "text/html": [
       "<div>\n",
       "<style scoped>\n",
       "    .dataframe tbody tr th:only-of-type {\n",
       "        vertical-align: middle;\n",
       "    }\n",
       "\n",
       "    .dataframe tbody tr th {\n",
       "        vertical-align: top;\n",
       "    }\n",
       "\n",
       "    .dataframe thead th {\n",
       "        text-align: right;\n",
       "    }\n",
       "</style>\n",
       "<table border=\"1\" class=\"dataframe\">\n",
       "  <thead>\n",
       "    <tr style=\"text-align: right;\">\n",
       "      <th>isFraud</th>\n",
       "      <th>0</th>\n",
       "    </tr>\n",
       "    <tr>\n",
       "      <th>prediction</th>\n",
       "      <th></th>\n",
       "    </tr>\n",
       "  </thead>\n",
       "  <tbody>\n",
       "    <tr>\n",
       "      <th>0.0</th>\n",
       "      <td>400</td>\n",
       "    </tr>\n",
       "  </tbody>\n",
       "</table>\n",
       "</div>"
      ],
      "text/plain": [
       "isFraud       0\n",
       "prediction     \n",
       "0.0         400"
      ]
     },
     "execution_count": 25,
     "metadata": {},
     "output_type": "execute_result"
    }
   ],
   "source": [
    "print(\"Confusion matrix\")\n",
    "pd.crosstab(index= scores_df['prediction'], columns=scores_df['isFraud'])"
   ]
  },
  {
   "cell_type": "code",
   "execution_count": null,
   "metadata": {},
   "outputs": [],
   "source": []
  }
 ],
 "metadata": {
  "kernelspec": {
   "display_name": "Python 3.5 with Spark 2.1",
   "language": "python",
   "name": "python3-spark21"
  },
  "language_info": {
   "codemirror_mode": {
    "name": "ipython",
    "version": 3
   },
   "file_extension": ".py",
   "mimetype": "text/x-python",
   "name": "python",
   "nbconvert_exporter": "python",
   "pygments_lexer": "ipython3",
   "version": "3.5.4"
  }
 },
 "nbformat": 4,
 "nbformat_minor": 1
}
