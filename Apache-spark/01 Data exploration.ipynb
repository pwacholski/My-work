{
 "cells": [
  {
   "cell_type": "markdown",
   "metadata": {},
   "source": [
    "# Data exploration\n",
    "\n"
   ]
  },
  {
   "cell_type": "code",
   "execution_count": 8,
   "metadata": {},
   "outputs": [],
   "source": [
    "import pandas as pd\n",
    "import numpy as np\n",
    "import matplotlib.pyplot as plt\n",
    "import pyspark.sql.functions as psqlf"
   ]
  },
  {
   "cell_type": "code",
   "execution_count": 3,
   "metadata": {},
   "outputs": [],
   "source": [
    "df_1 = pd.read_csv('~/notebook/work/PS_20174392719_1491204439457_log.csv')"
   ]
  },
  {
   "cell_type": "markdown",
   "metadata": {},
   "source": [
    "Function for stratified down sampling of the dataset (which is too big for free tier of IBM cloud, therefore down sampling)"
   ]
  },
  {
   "cell_type": "code",
   "execution_count": 4,
   "metadata": {},
   "outputs": [],
   "source": [
    "def fold_ctrl (fun_df, folds_no):\n",
    "    fun_no_of_rows = len(fun_df)\n",
    "    np.random.seed(23434)\n",
    "    vect = np.random.choice(range(folds_no), size = fun_no_of_rows , p=np.full((1, folds_no), 1/folds_no)[0])\n",
    "    return pd.DataFrame(vect)"
   ]
  },
  {
   "cell_type": "code",
   "execution_count": 5,
   "metadata": {},
   "outputs": [],
   "source": [
    "df_1 = pd.concat([df_1.groupby(['isFraud', 'step' , 'type']).apply(lambda x:fold_ctrl (x , 120  ) ).reset_index(drop=True).rename({0:'folds'}, axis=1) ,\n",
    "    df_1], axis=1)"
   ]
  },
  {
   "cell_type": "markdown",
   "metadata": {},
   "source": [
    "Let’s have a look at the data"
   ]
  },
  {
   "cell_type": "code",
   "execution_count": 6,
   "metadata": {},
   "outputs": [
    {
     "data": {
      "text/html": [
       "<div>\n",
       "<style scoped>\n",
       "    .dataframe tbody tr th:only-of-type {\n",
       "        vertical-align: middle;\n",
       "    }\n",
       "\n",
       "    .dataframe tbody tr th {\n",
       "        vertical-align: top;\n",
       "    }\n",
       "\n",
       "    .dataframe thead th {\n",
       "        text-align: right;\n",
       "    }\n",
       "</style>\n",
       "<table border=\"1\" class=\"dataframe\">\n",
       "  <thead>\n",
       "    <tr style=\"text-align: right;\">\n",
       "      <th></th>\n",
       "      <th>folds</th>\n",
       "      <th>step</th>\n",
       "      <th>type</th>\n",
       "      <th>amount</th>\n",
       "      <th>nameOrig</th>\n",
       "      <th>oldbalanceOrg</th>\n",
       "      <th>newbalanceOrig</th>\n",
       "      <th>nameDest</th>\n",
       "      <th>oldbalanceDest</th>\n",
       "      <th>newbalanceDest</th>\n",
       "      <th>isFraud</th>\n",
       "      <th>isFlaggedFraud</th>\n",
       "    </tr>\n",
       "  </thead>\n",
       "  <tbody>\n",
       "    <tr>\n",
       "      <th>0</th>\n",
       "      <td>110</td>\n",
       "      <td>1</td>\n",
       "      <td>PAYMENT</td>\n",
       "      <td>9839.64</td>\n",
       "      <td>C1231006815</td>\n",
       "      <td>170136.0</td>\n",
       "      <td>160296.36</td>\n",
       "      <td>M1979787155</td>\n",
       "      <td>0.0</td>\n",
       "      <td>0.0</td>\n",
       "      <td>0</td>\n",
       "      <td>0</td>\n",
       "    </tr>\n",
       "    <tr>\n",
       "      <th>1</th>\n",
       "      <td>88</td>\n",
       "      <td>1</td>\n",
       "      <td>PAYMENT</td>\n",
       "      <td>1864.28</td>\n",
       "      <td>C1666544295</td>\n",
       "      <td>21249.0</td>\n",
       "      <td>19384.72</td>\n",
       "      <td>M2044282225</td>\n",
       "      <td>0.0</td>\n",
       "      <td>0.0</td>\n",
       "      <td>0</td>\n",
       "      <td>0</td>\n",
       "    </tr>\n",
       "    <tr>\n",
       "      <th>2</th>\n",
       "      <td>20</td>\n",
       "      <td>1</td>\n",
       "      <td>TRANSFER</td>\n",
       "      <td>181.00</td>\n",
       "      <td>C1305486145</td>\n",
       "      <td>181.0</td>\n",
       "      <td>0.00</td>\n",
       "      <td>C553264065</td>\n",
       "      <td>0.0</td>\n",
       "      <td>0.0</td>\n",
       "      <td>1</td>\n",
       "      <td>0</td>\n",
       "    </tr>\n",
       "    <tr>\n",
       "      <th>3</th>\n",
       "      <td>110</td>\n",
       "      <td>1</td>\n",
       "      <td>CASH_OUT</td>\n",
       "      <td>181.00</td>\n",
       "      <td>C840083671</td>\n",
       "      <td>181.0</td>\n",
       "      <td>0.00</td>\n",
       "      <td>C38997010</td>\n",
       "      <td>21182.0</td>\n",
       "      <td>0.0</td>\n",
       "      <td>1</td>\n",
       "      <td>0</td>\n",
       "    </tr>\n",
       "    <tr>\n",
       "      <th>4</th>\n",
       "      <td>6</td>\n",
       "      <td>1</td>\n",
       "      <td>PAYMENT</td>\n",
       "      <td>11668.14</td>\n",
       "      <td>C2048537720</td>\n",
       "      <td>41554.0</td>\n",
       "      <td>29885.86</td>\n",
       "      <td>M1230701703</td>\n",
       "      <td>0.0</td>\n",
       "      <td>0.0</td>\n",
       "      <td>0</td>\n",
       "      <td>0</td>\n",
       "    </tr>\n",
       "  </tbody>\n",
       "</table>\n",
       "</div>"
      ],
      "text/plain": [
       "   folds  step      type    amount     nameOrig  oldbalanceOrg  \\\n",
       "0    110     1   PAYMENT   9839.64  C1231006815       170136.0   \n",
       "1     88     1   PAYMENT   1864.28  C1666544295        21249.0   \n",
       "2     20     1  TRANSFER    181.00  C1305486145          181.0   \n",
       "3    110     1  CASH_OUT    181.00   C840083671          181.0   \n",
       "4      6     1   PAYMENT  11668.14  C2048537720        41554.0   \n",
       "\n",
       "   newbalanceOrig     nameDest  oldbalanceDest  newbalanceDest  isFraud  \\\n",
       "0       160296.36  M1979787155             0.0             0.0        0   \n",
       "1        19384.72  M2044282225             0.0             0.0        0   \n",
       "2            0.00   C553264065             0.0             0.0        1   \n",
       "3            0.00    C38997010         21182.0             0.0        1   \n",
       "4        29885.86  M1230701703             0.0             0.0        0   \n",
       "\n",
       "   isFlaggedFraud  \n",
       "0               0  \n",
       "1               0  \n",
       "2               0  \n",
       "3               0  \n",
       "4               0  "
      ]
     },
     "execution_count": 6,
     "metadata": {},
     "output_type": "execute_result"
    }
   ],
   "source": [
    "df_1.head()"
   ]
  },
  {
   "cell_type": "code",
   "execution_count": 7,
   "metadata": {},
   "outputs": [
    {
     "data": {
      "text/plain": [
       "6362620"
      ]
     },
     "execution_count": 7,
     "metadata": {},
     "output_type": "execute_result"
    }
   ],
   "source": [
    "len(df_1)"
   ]
  },
  {
   "cell_type": "markdown",
   "metadata": {},
   "source": [
    "Let’s create Spark session and load data"
   ]
  },
  {
   "cell_type": "code",
   "execution_count": 9,
   "metadata": {},
   "outputs": [],
   "source": [
    "spark = SparkSession\\\n",
    "    .builder\\\n",
    "    .getOrCreate()"
   ]
  },
  {
   "cell_type": "code",
   "execution_count": 10,
   "metadata": {},
   "outputs": [
    {
     "data": {
      "text/plain": [
       "<pyspark.sql.session.SparkSession at 0x7fa7e46bf940>"
      ]
     },
     "execution_count": 10,
     "metadata": {},
     "output_type": "execute_result"
    }
   ],
   "source": [
    "spark"
   ]
  },
  {
   "cell_type": "code",
   "execution_count": 29,
   "metadata": {},
   "outputs": [],
   "source": [
    "spark_df1 = spark.createDataFrame(df_1.query('folds<25'))"
   ]
  },
  {
   "cell_type": "code",
   "execution_count": 30,
   "metadata": {},
   "outputs": [
    {
     "data": {
      "text/plain": [
       "DataFrame[folds: bigint, step: bigint, type: string, amount: double, nameOrig: string, oldbalanceOrg: double, newbalanceOrig: double, nameDest: string, oldbalanceDest: double, newbalanceDest: double, isFraud: bigint, isFlaggedFraud: bigint]"
      ]
     },
     "execution_count": 30,
     "metadata": {},
     "output_type": "execute_result"
    }
   ],
   "source": [
    "spark_df1"
   ]
  },
  {
   "cell_type": "code",
   "execution_count": 31,
   "metadata": {},
   "outputs": [
    {
     "data": {
      "text/plain": [
       "[Row(folds=20, step=1, type='TRANSFER', amount=181.0, nameOrig='C1305486145', oldbalanceOrg=181.0, newbalanceOrig=0.0, nameDest='C553264065', oldbalanceDest=0.0, newbalanceDest=0.0, isFraud=1, isFlaggedFraud=0),\n",
       " Row(folds=6, step=1, type='PAYMENT', amount=11668.14, nameOrig='C2048537720', oldbalanceOrg=41554.0, newbalanceOrig=29885.86, nameDest='M1230701703', oldbalanceDest=0.0, newbalanceDest=0.0, isFraud=0, isFlaggedFraud=0)]"
      ]
     },
     "execution_count": 31,
     "metadata": {},
     "output_type": "execute_result"
    }
   ],
   "source": [
    "spark_df1.take(2)"
   ]
  },
  {
   "cell_type": "markdown",
   "metadata": {},
   "source": [
    "Let’s check datatypes of the columns"
   ]
  },
  {
   "cell_type": "code",
   "execution_count": 32,
   "metadata": {},
   "outputs": [
    {
     "data": {
      "text/plain": [
       "float64    5\n",
       "int64      4\n",
       "object     3\n",
       "dtype: int64"
      ]
     },
     "execution_count": 32,
     "metadata": {},
     "output_type": "execute_result"
    }
   ],
   "source": [
    "df_1.get_dtype_counts()"
   ]
  },
  {
   "cell_type": "code",
   "execution_count": 33,
   "metadata": {},
   "outputs": [
    {
     "data": {
      "text/plain": [
       "folds               int64\n",
       "step                int64\n",
       "type               object\n",
       "amount            float64\n",
       "nameOrig           object\n",
       "oldbalanceOrg     float64\n",
       "newbalanceOrig    float64\n",
       "nameDest           object\n",
       "oldbalanceDest    float64\n",
       "newbalanceDest    float64\n",
       "isFraud             int64\n",
       "isFlaggedFraud      int64\n",
       "dtype: object"
      ]
     },
     "execution_count": 33,
     "metadata": {},
     "output_type": "execute_result"
    }
   ],
   "source": [
    "df_1.dtypes"
   ]
  },
  {
   "cell_type": "code",
   "execution_count": 34,
   "metadata": {},
   "outputs": [
    {
     "data": {
      "text/plain": [
       "Index(['folds', 'step', 'amount', 'oldbalanceOrg', 'newbalanceOrig',\n",
       "       'oldbalanceDest', 'newbalanceDest', 'isFraud', 'isFlaggedFraud'],\n",
       "      dtype='object')"
      ]
     },
     "execution_count": 34,
     "metadata": {},
     "output_type": "execute_result"
    }
   ],
   "source": [
    "numericCols = df_1.select_dtypes(include=['float64', 'int64']).columns\n",
    "numericCols"
   ]
  },
  {
   "cell_type": "code",
   "execution_count": 35,
   "metadata": {},
   "outputs": [
    {
     "data": {
      "text/plain": [
       "Index(['type', 'nameOrig', 'nameDest'], dtype='object')"
      ]
     },
     "execution_count": 35,
     "metadata": {},
     "output_type": "execute_result"
    }
   ],
   "source": [
    "charCols = df_1.select_dtypes(include=['object']).columns\n",
    "charCols"
   ]
  },
  {
   "cell_type": "markdown",
   "metadata": {},
   "source": [
    "### Check for missing values\n",
    "\n",
    "\n",
    "\n",
    "   \n",
    " \n",
    "\n",
    "\n",
    "\n"
   ]
  },
  {
   "cell_type": "code",
   "execution_count": 36,
   "metadata": {},
   "outputs": [
    {
     "data": {
      "text/plain": [
       "{'amount': 0,\n",
       " 'folds': 0,\n",
       " 'isFlaggedFraud': 0,\n",
       " 'isFraud': 0,\n",
       " 'nameDest': 0,\n",
       " 'nameOrig': 0,\n",
       " 'newbalanceDest': 0,\n",
       " 'newbalanceOrig': 0,\n",
       " 'oldbalanceDest': 0,\n",
       " 'oldbalanceOrg': 0,\n",
       " 'step': 0,\n",
       " 'type': 0}"
      ]
     },
     "execution_count": 36,
     "metadata": {},
     "output_type": "execute_result"
    }
   ],
   "source": [
    "{ x: spark_df1.select(psqlf.when(psqlf.isnull(x),1).otherwise(0).alias(\"r1\")).agg(psqlf.sum('r1').alias(\"No_of_nulls\")).collect()[0][\"No_of_nulls\"]  for x in df_1.columns}"
   ]
  },
  {
   "cell_type": "markdown",
   "metadata": {},
   "source": [
    "Luckily there are none"
   ]
  },
  {
   "cell_type": "markdown",
   "metadata": {},
   "source": [
    "### Let’s check metrics describing distributions of numeric columns"
   ]
  },
  {
   "cell_type": "code",
   "execution_count": 37,
   "metadata": {},
   "outputs": [
    {
     "name": "stdout",
     "output_type": "stream",
     "text": [
      "+-------+------------------+------------------+------------------+-----------------+------------------+------------------+------------------+--------------------+--------------------+\n",
      "|summary|             folds|              step|            amount|    oldbalanceOrg|    newbalanceOrig|    oldbalanceDest|    newbalanceDest|             isFraud|      isFlaggedFraud|\n",
      "+-------+------------------+------------------+------------------+-----------------+------------------+------------------+------------------+--------------------+--------------------+\n",
      "|  count|           1321313|           1321313|           1321313|          1321313|           1321313|           1321313|           1321313|             1321313|             1321313|\n",
      "|   mean|12.132573432638596|243.36235471837483|180162.11258198577|832537.8160940136| 853746.6354102041|1103761.4812853439|1228437.1842058613|0.001282814897000181|3.027291792330810...|\n",
      "| stddev| 7.270607982569034| 142.0173477507629| 598686.9929991994| 2881825.98356426|2917402.2339135334|3434490.5809456753| 3703681.573526562| 0.03579343868028402|0.001739909457113767|\n",
      "|    min|                 0|                 1|               0.0|              0.0|               0.0|               0.0|               0.0|                   0|                   0|\n",
      "|    max|                24|               743|     6.096527564E7|    5.039904508E7|     4.039904508E7|     3.555534163E8|     3.555534163E8|                   1|                   1|\n",
      "+-------+------------------+------------------+------------------+-----------------+------------------+------------------+------------------+--------------------+--------------------+\n",
      "\n"
     ]
    }
   ],
   "source": [
    "spark_df1.describe(numericCols.tolist()).show()"
   ]
  },
  {
   "cell_type": "code",
   "execution_count": 38,
   "metadata": {},
   "outputs": [
    {
     "data": {
      "text/html": [
       "<div>\n",
       "<style scoped>\n",
       "    .dataframe tbody tr th:only-of-type {\n",
       "        vertical-align: middle;\n",
       "    }\n",
       "\n",
       "    .dataframe tbody tr th {\n",
       "        vertical-align: top;\n",
       "    }\n",
       "\n",
       "    .dataframe thead th {\n",
       "        text-align: right;\n",
       "    }\n",
       "</style>\n",
       "<table border=\"1\" class=\"dataframe\">\n",
       "  <thead>\n",
       "    <tr style=\"text-align: right;\">\n",
       "      <th></th>\n",
       "      <th>skewness(amount)</th>\n",
       "      <th>kurtosis(amount)</th>\n",
       "      <th>skewness(oldbalanceOrg)</th>\n",
       "      <th>kurtosis(oldbalanceOrg)</th>\n",
       "      <th>skewness(newbalanceOrig)</th>\n",
       "      <th>kurtosis(newbalanceOrig)</th>\n",
       "      <th>skewness(oldbalanceDest)</th>\n",
       "      <th>kurtosis(oldbalanceDest)</th>\n",
       "      <th>skewness(newbalanceDest)</th>\n",
       "      <th>kurtosis(newbalanceDest)</th>\n",
       "    </tr>\n",
       "  </thead>\n",
       "  <tbody>\n",
       "    <tr>\n",
       "      <th>0</th>\n",
       "      <td>29.8872</td>\n",
       "      <td>1654.078958</td>\n",
       "      <td>5.238133</td>\n",
       "      <td>32.800878</td>\n",
       "      <td>5.165532</td>\n",
       "      <td>31.900688</td>\n",
       "      <td>20.639054</td>\n",
       "      <td>1009.337718</td>\n",
       "      <td>19.643684</td>\n",
       "      <td>887.418184</td>\n",
       "    </tr>\n",
       "  </tbody>\n",
       "</table>\n",
       "</div>"
      ],
      "text/plain": [
       "   skewness(amount)  kurtosis(amount)  skewness(oldbalanceOrg)  \\\n",
       "0           29.8872       1654.078958                 5.238133   \n",
       "\n",
       "   kurtosis(oldbalanceOrg)  skewness(newbalanceOrig)  \\\n",
       "0                32.800878                  5.165532   \n",
       "\n",
       "   kurtosis(newbalanceOrig)  skewness(oldbalanceDest)  \\\n",
       "0                 31.900688                 20.639054   \n",
       "\n",
       "   kurtosis(oldbalanceDest)  skewness(newbalanceDest)  \\\n",
       "0               1009.337718                 19.643684   \n",
       "\n",
       "   kurtosis(newbalanceDest)  \n",
       "0                887.418184  "
      ]
     },
     "execution_count": 38,
     "metadata": {},
     "output_type": "execute_result"
    }
   ],
   "source": [
    "spark_df1.agg(psqlf.skewness(spark_df1.amount) , psqlf.kurtosis(spark_df1.amount) ,\n",
    "             psqlf.skewness(spark_df1.oldbalanceOrg) , psqlf.kurtosis(spark_df1.oldbalanceOrg),\n",
    "             psqlf.skewness(spark_df1.newbalanceOrig) , psqlf.kurtosis(spark_df1.newbalanceOrig),\n",
    "             psqlf.skewness(spark_df1.oldbalanceDest) , psqlf.kurtosis(spark_df1.oldbalanceDest),\n",
    "             psqlf.skewness(spark_df1.newbalanceDest) , psqlf.kurtosis(spark_df1.newbalanceDest)).toPandas()"
   ]
  },
  {
   "cell_type": "markdown",
   "metadata": {},
   "source": [
    "### Let’s check character columns"
   ]
  },
  {
   "cell_type": "code",
   "execution_count": 39,
   "metadata": {},
   "outputs": [
    {
     "name": "stdout",
     "output_type": "stream",
     "text": [
      "+-------+--------+-----------+-----------+\n",
      "|summary|    type|   nameOrig|   nameDest|\n",
      "+-------+--------+-----------+-----------+\n",
      "|  count| 1321313|    1321313|    1321313|\n",
      "|   mean|    null|       null|       null|\n",
      "| stddev|    null|       null|       null|\n",
      "|    min| CASH_IN|C1000001725|C1000004082|\n",
      "|    max|TRANSFER|  C99999367| M999999543|\n",
      "+-------+--------+-----------+-----------+\n",
      "\n"
     ]
    }
   ],
   "source": [
    "spark_df1.describe(charCols.tolist()).show()"
   ]
  },
  {
   "cell_type": "markdown",
   "metadata": {},
   "source": [
    "### Let’s explore values in the columns\n",
    "\n",
    "Let’s summarize data in Spark and then operate in Pandas\n",
    "\n",
    " "
   ]
  },
  {
   "cell_type": "code",
   "execution_count": 40,
   "metadata": {},
   "outputs": [
    {
     "data": {
      "text/html": [
       "<div>\n",
       "<style scoped>\n",
       "    .dataframe tbody tr th:only-of-type {\n",
       "        vertical-align: middle;\n",
       "    }\n",
       "\n",
       "    .dataframe tbody tr th {\n",
       "        vertical-align: top;\n",
       "    }\n",
       "\n",
       "    .dataframe thead th {\n",
       "        text-align: right;\n",
       "    }\n",
       "</style>\n",
       "<table border=\"1\" class=\"dataframe\">\n",
       "  <thead>\n",
       "    <tr style=\"text-align: right;\">\n",
       "      <th></th>\n",
       "      <th>type</th>\n",
       "      <th>isFraud</th>\n",
       "      <th>step</th>\n",
       "      <th>count</th>\n",
       "    </tr>\n",
       "  </thead>\n",
       "  <tbody>\n",
       "    <tr>\n",
       "      <th>0</th>\n",
       "      <td>TRANSFER</td>\n",
       "      <td>1</td>\n",
       "      <td>454</td>\n",
       "      <td>2</td>\n",
       "    </tr>\n",
       "    <tr>\n",
       "      <th>1</th>\n",
       "      <td>CASH_OUT</td>\n",
       "      <td>0</td>\n",
       "      <td>570</td>\n",
       "      <td>134</td>\n",
       "    </tr>\n",
       "    <tr>\n",
       "      <th>2</th>\n",
       "      <td>PAYMENT</td>\n",
       "      <td>0</td>\n",
       "      <td>673</td>\n",
       "      <td>37</td>\n",
       "    </tr>\n",
       "    <tr>\n",
       "      <th>3</th>\n",
       "      <td>DEBIT</td>\n",
       "      <td>0</td>\n",
       "      <td>684</td>\n",
       "      <td>4</td>\n",
       "    </tr>\n",
       "    <tr>\n",
       "      <th>4</th>\n",
       "      <td>CASH_IN</td>\n",
       "      <td>0</td>\n",
       "      <td>686</td>\n",
       "      <td>227</td>\n",
       "    </tr>\n",
       "  </tbody>\n",
       "</table>\n",
       "</div>"
      ],
      "text/plain": [
       "       type  isFraud  step  count\n",
       "0  TRANSFER        1   454      2\n",
       "1  CASH_OUT        0   570    134\n",
       "2   PAYMENT        0   673     37\n",
       "3     DEBIT        0   684      4\n",
       "4   CASH_IN        0   686    227"
      ]
     },
     "execution_count": 40,
     "metadata": {},
     "output_type": "execute_result"
    }
   ],
   "source": [
    "viz_df1 = spark_df1.groupBy('type', 'isFraud', 'step').count().toPandas()\n",
    "viz_df1.head()"
   ]
  },
  {
   "cell_type": "markdown",
   "metadata": {},
   "source": [
    "### Target value\n",
    " \n",
    "  "
   ]
  },
  {
   "cell_type": "code",
   "execution_count": 42,
   "metadata": {},
   "outputs": [
    {
     "data": {
      "text/html": [
       "<div>\n",
       "<style scoped>\n",
       "    .dataframe tbody tr th:only-of-type {\n",
       "        vertical-align: middle;\n",
       "    }\n",
       "\n",
       "    .dataframe tbody tr th {\n",
       "        vertical-align: top;\n",
       "    }\n",
       "\n",
       "    .dataframe thead th {\n",
       "        text-align: right;\n",
       "    }\n",
       "</style>\n",
       "<table border=\"1\" class=\"dataframe\">\n",
       "  <thead>\n",
       "    <tr style=\"text-align: right;\">\n",
       "      <th></th>\n",
       "      <th>count</th>\n",
       "    </tr>\n",
       "    <tr>\n",
       "      <th>isFraud</th>\n",
       "      <th></th>\n",
       "    </tr>\n",
       "  </thead>\n",
       "  <tbody>\n",
       "    <tr>\n",
       "      <th>0</th>\n",
       "      <td>1319618</td>\n",
       "    </tr>\n",
       "    <tr>\n",
       "      <th>1</th>\n",
       "      <td>1695</td>\n",
       "    </tr>\n",
       "  </tbody>\n",
       "</table>\n",
       "</div>"
      ],
      "text/plain": [
       "           count\n",
       "isFraud         \n",
       "0        1319618\n",
       "1           1695"
      ]
     },
     "execution_count": 42,
     "metadata": {},
     "output_type": "execute_result"
    }
   ],
   "source": [
    "viz_df1.groupby('isFraud').agg({'count': sum})"
   ]
  },
  {
   "cell_type": "code",
   "execution_count": 44,
   "metadata": {},
   "outputs": [
    {
     "data": {
      "text/plain": [
       "<matplotlib.axes._subplots.AxesSubplot at 0x7fa7aeb89438>"
      ]
     },
     "execution_count": 44,
     "metadata": {},
     "output_type": "execute_result"
    },
    {
     "data": {
      "image/png": "[encoded data removed]",
      "text/plain": [
       "<matplotlib.figure.Figure at 0x7fa7aea9a978>"
      ]
     },
     "metadata": {},
     "output_type": "display_data"
    }
   ],
   "source": [
    "viz_df1.groupby('isFraud').agg({'count': sum}).plot.bar(title = \"Target value\")"
   ]
  },
  {
   "cell_type": "markdown",
   "metadata": {},
   "source": [
    "##### As we can see from table and graph above, there is a very significant imbalance between the two classes"
   ]
  },
  {
   "cell_type": "markdown",
   "metadata": {},
   "source": [
    "### Transaction types"
   ]
  },
  {
   "cell_type": "code",
   "execution_count": 46,
   "metadata": {},
   "outputs": [
    {
     "data": {
      "text/plain": [
       "<matplotlib.axes._subplots.AxesSubplot at 0x7fa7aeb30e48>"
      ]
     },
     "execution_count": 46,
     "metadata": {},
     "output_type": "execute_result"
    },
    {
     "data": {
      "image/png": "[encoded data removed]",
      "text/plain": [
       "<matplotlib.figure.Figure at 0x7fa7aeb29588>"
      ]
     },
     "metadata": {},
     "output_type": "display_data"
    }
   ],
   "source": [
    "viz_df1.groupby('type').agg({'count': sum}).plot.bar(title = 'Distribution of transaction types')"
   ]
  },
  {
   "cell_type": "markdown",
   "metadata": {},
   "source": [
    "Distribution of transaction types by target value"
   ]
  },
  {
   "cell_type": "code",
   "execution_count": 47,
   "metadata": {},
   "outputs": [
    {
     "data": {
      "text/html": [
       "<div>\n",
       "<style scoped>\n",
       "    .dataframe tbody tr th:only-of-type {\n",
       "        vertical-align: middle;\n",
       "    }\n",
       "\n",
       "    .dataframe tbody tr th {\n",
       "        vertical-align: top;\n",
       "    }\n",
       "\n",
       "    .dataframe thead th {\n",
       "        text-align: right;\n",
       "    }\n",
       "</style>\n",
       "<table border=\"1\" class=\"dataframe\">\n",
       "  <thead>\n",
       "    <tr style=\"text-align: right;\">\n",
       "      <th>isFraud</th>\n",
       "      <th>0</th>\n",
       "      <th>1</th>\n",
       "    </tr>\n",
       "    <tr>\n",
       "      <th>type</th>\n",
       "      <th></th>\n",
       "      <th></th>\n",
       "    </tr>\n",
       "  </thead>\n",
       "  <tbody>\n",
       "    <tr>\n",
       "      <th>CASH_IN</th>\n",
       "      <td>290552.0</td>\n",
       "      <td>0.0</td>\n",
       "    </tr>\n",
       "    <tr>\n",
       "      <th>CASH_OUT</th>\n",
       "      <td>464182.0</td>\n",
       "      <td>841.0</td>\n",
       "    </tr>\n",
       "    <tr>\n",
       "      <th>DEBIT</th>\n",
       "      <td>8496.0</td>\n",
       "      <td>0.0</td>\n",
       "    </tr>\n",
       "    <tr>\n",
       "      <th>PAYMENT</th>\n",
       "      <td>446191.0</td>\n",
       "      <td>0.0</td>\n",
       "    </tr>\n",
       "    <tr>\n",
       "      <th>TRANSFER</th>\n",
       "      <td>110197.0</td>\n",
       "      <td>854.0</td>\n",
       "    </tr>\n",
       "  </tbody>\n",
       "</table>\n",
       "</div>"
      ],
      "text/plain": [
       "isFraud          0      1\n",
       "type                     \n",
       "CASH_IN   290552.0    0.0\n",
       "CASH_OUT  464182.0  841.0\n",
       "DEBIT       8496.0    0.0\n",
       "PAYMENT   446191.0    0.0\n",
       "TRANSFER  110197.0  854.0"
      ]
     },
     "execution_count": 47,
     "metadata": {},
     "output_type": "execute_result"
    }
   ],
   "source": [
    "viz_df2 = viz_df1[['type', 'isFraud' , 'count']].groupby(['type', 'isFraud']).agg({'count': sum}).reset_index(drop =False).pivot(index='type', columns='isFraud' , values='count').fillna(0)\n",
    "viz_df2"
   ]
  },
  {
   "cell_type": "markdown",
   "metadata": {},
   "source": [
    "As we can see from table and graph above, fraudulent transactions occur only on types ‘CASH_OUT’ and ‘TRANSFER’"
   ]
  },
  {
   "cell_type": "code",
   "execution_count": 54,
   "metadata": {},
   "outputs": [
    {
     "data": {
      "image/png": "[encoded data removed]",
      "text/plain": [
       "<matplotlib.figure.Figure at 0x7fa7aef32390>"
      ]
     },
     "metadata": {},
     "output_type": "display_data"
    }
   ],
   "source": [
    "plt.title('Distribution of transaction types by target value')\n",
    "p1 = plt.bar(viz_df2.index, viz_df2.iloc[:,0], width = 0.35  )\n",
    "p2 = plt.bar(viz_df2.index, viz_df2.iloc[:,1], width = 0.35  ,\n",
    "            bottom= viz_df2.iloc[:, 0])\n",
    "plt.show()"
   ]
  },
  {
   "cell_type": "markdown",
   "metadata": {},
   "source": [
    "### Transaction types over time"
   ]
  },
  {
   "cell_type": "code",
   "execution_count": 74,
   "metadata": {},
   "outputs": [
    {
     "data": {
      "text/plain": [
       "<matplotlib.axes._subplots.AxesSubplot at 0x7fa77223ef28>"
      ]
     },
     "execution_count": 74,
     "metadata": {},
     "output_type": "execute_result"
    },
    {
     "data": {
      "image/png": "[encoded data removed]",
      "text/plain": [
       "<matplotlib.figure.Figure at 0x7fa772293dd8>"
      ]
     },
     "metadata": {},
     "output_type": "display_data"
    }
   ],
   "source": [
    "viz_df1.query('isFraud == 0 ').groupby('step').agg({'count' :sum}).plot.bar(title = 'Non-fraudulent transactions over time')"
   ]
  },
  {
   "cell_type": "code",
   "execution_count": 75,
   "metadata": {},
   "outputs": [
    {
     "data": {
      "text/plain": [
       "<matplotlib.axes._subplots.AxesSubplot at 0x7fa772177da0>"
      ]
     },
     "execution_count": 75,
     "metadata": {},
     "output_type": "execute_result"
    },
    {
     "data": {
      "image/png": "[encoded data removed]",
      "text/plain": [
       "<matplotlib.figure.Figure at 0x7fa77223e898>"
      ]
     },
     "metadata": {},
     "output_type": "display_data"
    }
   ],
   "source": [
    "viz_df1.query('isFraud == 1').groupby('step').agg({'count' :sum}).plot.bar(title = 'Fraudulent transactions over time')"
   ]
  },
  {
   "cell_type": "code",
   "execution_count": 76,
   "metadata": {},
   "outputs": [
    {
     "data": {
      "text/plain": [
       "<matplotlib.axes._subplots.AxesSubplot at 0x7fa771c7aef0>"
      ]
     },
     "execution_count": 76,
     "metadata": {},
     "output_type": "execute_result"
    },
    {
     "data": {
      "image/png": "[encoded data removed]",
      "text/plain": [
       "<matplotlib.figure.Figure at 0x7fa7714d3fd0>"
      ]
     },
     "metadata": {},
     "output_type": "display_data"
    }
   ],
   "source": [
    "viz_df1.query('isFraud == 0 and step <48').groupby('step').agg({'count' :sum}).plot.bar(title = 'Non-fraudulent transactions over time (two days)')"
   ]
  },
  {
   "cell_type": "code",
   "execution_count": 77,
   "metadata": {},
   "outputs": [
    {
     "data": {
      "text/plain": [
       "<matplotlib.axes._subplots.AxesSubplot at 0x7fa7716f8898>"
      ]
     },
     "execution_count": 77,
     "metadata": {},
     "output_type": "execute_result"
    },
    {
     "data": {
      "image/png": "[encoded data removed]",
      "text/plain": [
       "<matplotlib.figure.Figure at 0x7fa771526518>"
      ]
     },
     "metadata": {},
     "output_type": "display_data"
    }
   ],
   "source": [
    "viz_df1.query('isFraud == 1 and step <48').groupby('step').agg({'count' :sum}).plot.bar(title = 'Fraudulent transactions over time (two days)')"
   ]
  },
  {
   "cell_type": "markdown",
   "metadata": {},
   "source": [
    "##### Looks like there is a weak correlation between overall number of transactions and number of fraudulent transactions"
   ]
  },
  {
   "cell_type": "code",
   "execution_count": 84,
   "metadata": {},
   "outputs": [
    {
     "data": {
      "text/plain": [
       "<matplotlib.axes._subplots.AxesSubplot at 0x7fa76fcdaba8>"
      ]
     },
     "execution_count": 84,
     "metadata": {},
     "output_type": "execute_result"
    },
    {
     "data": {
      "image/png": "[encoded data removed]",
      "text/plain": [
       "<matplotlib.figure.Figure at 0x7fa76fc133c8>"
      ]
     },
     "metadata": {},
     "output_type": "display_data"
    }
   ],
   "source": [
    "viz_df1.query('type == \"CASH_IN\"').groupby('step').agg({'count' :sum}).plot.bar(title = 'CASH_IN transactions over time')"
   ]
  },
  {
   "cell_type": "code",
   "execution_count": 85,
   "metadata": {},
   "outputs": [
    {
     "data": {
      "text/plain": [
       "<matplotlib.axes._subplots.AxesSubplot at 0x7fa76f7c0160>"
      ]
     },
     "execution_count": 85,
     "metadata": {},
     "output_type": "execute_result"
    },
    {
     "data": {
      "image/png": "[encoded data removed]",
      "text/plain": [
       "<matplotlib.figure.Figure at 0x7fa76ef7ad68>"
      ]
     },
     "metadata": {},
     "output_type": "display_data"
    }
   ],
   "source": [
    "viz_df1.query('type == \"CASH_OUT\"').groupby('step').agg({'count' :sum}).plot.bar(title = 'CASH_OUT transactions over time')"
   ]
  },
  {
   "cell_type": "code",
   "execution_count": 86,
   "metadata": {},
   "outputs": [
    {
     "data": {
      "text/plain": [
       "<matplotlib.axes._subplots.AxesSubplot at 0x7fa76ecdbc88>"
      ]
     },
     "execution_count": 86,
     "metadata": {},
     "output_type": "execute_result"
    },
    {
     "data": {
      "image/png": "[encoded data removed]",
      "text/plain": [
       "<matplotlib.figure.Figure at 0x7fa76f033ef0>"
      ]
     },
     "metadata": {},
     "output_type": "display_data"
    }
   ],
   "source": [
    "viz_df1.query('type == \"DEBIT\"').groupby('step').agg({'count' :sum}).plot.bar(title = 'DEBIT transactions over time')"
   ]
  },
  {
   "cell_type": "code",
   "execution_count": 87,
   "metadata": {},
   "outputs": [
    {
     "data": {
      "text/plain": [
       "<matplotlib.axes._subplots.AxesSubplot at 0x7fa76e8e05f8>"
      ]
     },
     "execution_count": 87,
     "metadata": {},
     "output_type": "execute_result"
    },
    {
     "data": {
      "image/png": "[encoded data removed]",
      "text/plain": [
       "<matplotlib.figure.Figure at 0x7fa76a3135f8>"
      ]
     },
     "metadata": {},
     "output_type": "display_data"
    }
   ],
   "source": [
    "viz_df1.query('type == \"PAYMENT\"').groupby('step').agg({'count' :sum}).plot.bar(title = 'PAYMENT transactions over time')"
   ]
  },
  {
   "cell_type": "code",
   "execution_count": 88,
   "metadata": {},
   "outputs": [
    {
     "data": {
      "text/plain": [
       "<matplotlib.axes._subplots.AxesSubplot at 0x7fa769b10828>"
      ]
     },
     "execution_count": 88,
     "metadata": {},
     "output_type": "execute_result"
    },
    {
     "data": {
      "image/png": "[encoded data removed]",
      "text/plain": [
       "<matplotlib.figure.Figure at 0x7fa769dcbc88>"
      ]
     },
     "metadata": {},
     "output_type": "display_data"
    }
   ],
   "source": [
    "viz_df1.query('type == \"TRANSFER\"').groupby('step').agg({'count' :sum}).plot.bar(title = 'TRANSFER transactions over time')"
   ]
  },
  {
   "cell_type": "markdown",
   "metadata": {},
   "source": [
    "### Parties involved in transactions"
   ]
  },
  {
   "cell_type": "code",
   "execution_count": 89,
   "metadata": {},
   "outputs": [
    {
     "data": {
      "text/html": [
       "<div>\n",
       "<style scoped>\n",
       "    .dataframe tbody tr th:only-of-type {\n",
       "        vertical-align: middle;\n",
       "    }\n",
       "\n",
       "    .dataframe tbody tr th {\n",
       "        vertical-align: top;\n",
       "    }\n",
       "\n",
       "    .dataframe thead th {\n",
       "        text-align: right;\n",
       "    }\n",
       "</style>\n",
       "<table border=\"1\" class=\"dataframe\">\n",
       "  <thead>\n",
       "    <tr style=\"text-align: right;\">\n",
       "      <th></th>\n",
       "      <th>nameOrig</th>\n",
       "      <th>count</th>\n",
       "    </tr>\n",
       "  </thead>\n",
       "  <tbody>\n",
       "    <tr>\n",
       "      <th>382819</th>\n",
       "      <td>C2066844248</td>\n",
       "      <td>2</td>\n",
       "    </tr>\n",
       "    <tr>\n",
       "      <th>112925</th>\n",
       "      <td>C1022299134</td>\n",
       "      <td>2</td>\n",
       "    </tr>\n",
       "    <tr>\n",
       "      <th>325658</th>\n",
       "      <td>C1410151632</td>\n",
       "      <td>2</td>\n",
       "    </tr>\n",
       "    <tr>\n",
       "      <th>641868</th>\n",
       "      <td>C1599036327</td>\n",
       "      <td>2</td>\n",
       "    </tr>\n",
       "    <tr>\n",
       "      <th>702700</th>\n",
       "      <td>C1623366178</td>\n",
       "      <td>2</td>\n",
       "    </tr>\n",
       "  </tbody>\n",
       "</table>\n",
       "</div>"
      ],
      "text/plain": [
       "           nameOrig  count\n",
       "382819  C2066844248      2\n",
       "112925  C1022299134      2\n",
       "325658  C1410151632      2\n",
       "641868  C1599036327      2\n",
       "702700  C1623366178      2"
      ]
     },
     "execution_count": 89,
     "metadata": {},
     "output_type": "execute_result"
    }
   ],
   "source": [
    "viz_df3 = spark_df1.groupBy('nameOrig').count().toPandas().sort_values(by='count' , ascending = False)\n",
    "viz_df3.head()"
   ]
  },
  {
   "cell_type": "code",
   "execution_count": 90,
   "metadata": {},
   "outputs": [
    {
     "data": {
      "text/html": [
       "<div>\n",
       "<style scoped>\n",
       "    .dataframe tbody tr th:only-of-type {\n",
       "        vertical-align: middle;\n",
       "    }\n",
       "\n",
       "    .dataframe tbody tr th {\n",
       "        vertical-align: top;\n",
       "    }\n",
       "\n",
       "    .dataframe thead th {\n",
       "        text-align: right;\n",
       "    }\n",
       "</style>\n",
       "<table border=\"1\" class=\"dataframe\">\n",
       "  <thead>\n",
       "    <tr style=\"text-align: right;\">\n",
       "      <th></th>\n",
       "      <th>nameDest</th>\n",
       "      <th>count</th>\n",
       "    </tr>\n",
       "  </thead>\n",
       "  <tbody>\n",
       "    <tr>\n",
       "      <th>120228</th>\n",
       "      <td>C248609774</td>\n",
       "      <td>31</td>\n",
       "    </tr>\n",
       "    <tr>\n",
       "      <th>257447</th>\n",
       "      <td>C985934102</td>\n",
       "      <td>30</td>\n",
       "    </tr>\n",
       "    <tr>\n",
       "      <th>175861</th>\n",
       "      <td>C665576141</td>\n",
       "      <td>28</td>\n",
       "    </tr>\n",
       "    <tr>\n",
       "      <th>767614</th>\n",
       "      <td>C1234776885</td>\n",
       "      <td>27</td>\n",
       "    </tr>\n",
       "    <tr>\n",
       "      <th>715823</th>\n",
       "      <td>C2083562754</td>\n",
       "      <td>24</td>\n",
       "    </tr>\n",
       "  </tbody>\n",
       "</table>\n",
       "</div>"
      ],
      "text/plain": [
       "           nameDest  count\n",
       "120228   C248609774     31\n",
       "257447   C985934102     30\n",
       "175861   C665576141     28\n",
       "767614  C1234776885     27\n",
       "715823  C2083562754     24"
      ]
     },
     "execution_count": 90,
     "metadata": {},
     "output_type": "execute_result"
    }
   ],
   "source": [
    "viz_df4 = spark_df1.groupBy('nameDest').count().toPandas().sort_values(by='count' , ascending = False)\n",
    "viz_df4.head()"
   ]
  },
  {
   "cell_type": "markdown",
   "metadata": {},
   "source": [
    "Looks like only destination accounts appear in the data numerous times (more than two)"
   ]
  },
  {
   "cell_type": "code",
   "execution_count": 91,
   "metadata": {},
   "outputs": [
    {
     "data": {
      "text/plain": [
       "1320892"
      ]
     },
     "execution_count": 91,
     "metadata": {},
     "output_type": "execute_result"
    }
   ],
   "source": [
    "len(viz_df3)"
   ]
  },
  {
   "cell_type": "markdown",
   "metadata": {},
   "source": [
    "### Accounts balance consistency"
   ]
  },
  {
   "cell_type": "code",
   "execution_count": 114,
   "metadata": {},
   "outputs": [],
   "source": [
    "spark_df1 = spark_df1.withColumn('destbalDiff', spark_df1.newbalanceDest - spark_df1.oldbalanceDest - spark_df1.amount) \\\n",
    "            .withColumn('orgbalDiff', spark_df1.oldbalanceOrg - spark_df1.newbalanceOrig - spark_df1.amount) \\\n",
    "            .withColumn('hour', spark_df1.step % 24) \\\n",
    "            .withColumn('day', psqlf.floor(spark_df1.step / 24))"
   ]
  },
  {
   "cell_type": "code",
   "execution_count": 106,
   "metadata": {},
   "outputs": [
    {
     "data": {
      "text/plain": [
       "1229936"
      ]
     },
     "execution_count": 106,
     "metadata": {},
     "output_type": "execute_result"
    }
   ],
   "source": [
    "spark_df1.filter('orgbalDiff != 0').count()"
   ]
  },
  {
   "cell_type": "code",
   "execution_count": 107,
   "metadata": {},
   "outputs": [
    {
     "data": {
      "text/plain": [
       "1163074"
      ]
     },
     "execution_count": 107,
     "metadata": {},
     "output_type": "execute_result"
    }
   ],
   "source": [
    "spark_df1.filter('destbalDiff != 0').count()"
   ]
  },
  {
   "cell_type": "markdown",
   "metadata": {},
   "source": [
    "Looks like balances of accounts are not always consistent (they don’t change by amount of transaction)"
   ]
  },
  {
   "cell_type": "markdown",
   "metadata": {},
   "source": [
    "### Correlation matrix"
   ]
  },
  {
   "cell_type": "code",
   "execution_count": 108,
   "metadata": {},
   "outputs": [],
   "source": [
    "def corr_matrix (spark_df , cor_list):\n",
    "    cor_mat = np.zeros( ( len(cor_list) , len(cor_list)) )\n",
    "    for i in range(len(cor_list)):\n",
    "        for k in range(len(cor_list)):\n",
    "            if (k>i):\n",
    "                cor_mat[i,k] = spark_df.corr( cor_list[i] , cor_list[k])\n",
    "    return pd.DataFrame(cor_mat, index = cor_list, columns =cor_list)"
   ]
  },
  {
   "cell_type": "code",
   "execution_count": 115,
   "metadata": {},
   "outputs": [
    {
     "data": {
      "text/html": [
       "<div>\n",
       "<style scoped>\n",
       "    .dataframe tbody tr th:only-of-type {\n",
       "        vertical-align: middle;\n",
       "    }\n",
       "\n",
       "    .dataframe tbody tr th {\n",
       "        vertical-align: top;\n",
       "    }\n",
       "\n",
       "    .dataframe thead th {\n",
       "        text-align: right;\n",
       "    }\n",
       "</style>\n",
       "<table border=\"1\" class=\"dataframe\">\n",
       "  <thead>\n",
       "    <tr style=\"text-align: right;\">\n",
       "      <th></th>\n",
       "      <th>hour</th>\n",
       "      <th>day</th>\n",
       "      <th>amount</th>\n",
       "      <th>oldbalanceOrg</th>\n",
       "      <th>newbalanceOrig</th>\n",
       "      <th>oldbalanceDest</th>\n",
       "      <th>newbalanceDest</th>\n",
       "      <th>destbalDiff</th>\n",
       "      <th>orgbalDiff</th>\n",
       "      <th>isFraud</th>\n",
       "    </tr>\n",
       "  </thead>\n",
       "  <tbody>\n",
       "    <tr>\n",
       "      <th>hour</th>\n",
       "      <td>0.0</td>\n",
       "      <td>0.030181</td>\n",
       "      <td>-0.029711</td>\n",
       "      <td>-0.001055</td>\n",
       "      <td>-0.000922</td>\n",
       "      <td>-0.000738</td>\n",
       "      <td>-0.005842</td>\n",
       "      <td>-0.002873</td>\n",
       "      <td>0.028998</td>\n",
       "      <td>-0.029731</td>\n",
       "    </tr>\n",
       "    <tr>\n",
       "      <th>day</th>\n",
       "      <td>0.0</td>\n",
       "      <td>0.000000</td>\n",
       "      <td>0.024288</td>\n",
       "      <td>-0.010445</td>\n",
       "      <td>-0.010725</td>\n",
       "      <td>0.028283</td>\n",
       "      <td>0.026850</td>\n",
       "      <td>-0.026742</td>\n",
       "      <td>-0.022208</td>\n",
       "      <td>0.033138</td>\n",
       "    </tr>\n",
       "    <tr>\n",
       "      <th>amount</th>\n",
       "      <td>0.0</td>\n",
       "      <td>0.000000</td>\n",
       "      <td>0.000000</td>\n",
       "      <td>-0.002076</td>\n",
       "      <td>-0.007377</td>\n",
       "      <td>0.289109</td>\n",
       "      <td>0.452986</td>\n",
       "      <td>0.188196</td>\n",
       "      <td>-0.969743</td>\n",
       "      <td>0.079926</td>\n",
       "    </tr>\n",
       "    <tr>\n",
       "      <th>oldbalanceOrg</th>\n",
       "      <td>0.0</td>\n",
       "      <td>0.000000</td>\n",
       "      <td>0.000000</td>\n",
       "      <td>0.000000</td>\n",
       "      <td>0.998779</td>\n",
       "      <td>0.064874</td>\n",
       "      <td>0.040914</td>\n",
       "      <td>-0.153096</td>\n",
       "      <td>-0.051172</td>\n",
       "      <td>0.011583</td>\n",
       "    </tr>\n",
       "    <tr>\n",
       "      <th>newbalanceOrig</th>\n",
       "      <td>0.0</td>\n",
       "      <td>0.000000</td>\n",
       "      <td>0.000000</td>\n",
       "      <td>0.000000</td>\n",
       "      <td>0.000000</td>\n",
       "      <td>0.066414</td>\n",
       "      <td>0.040745</td>\n",
       "      <td>-0.159095</td>\n",
       "      <td>-0.057667</td>\n",
       "      <td>-0.007220</td>\n",
       "    </tr>\n",
       "    <tr>\n",
       "      <th>oldbalanceDest</th>\n",
       "      <td>0.0</td>\n",
       "      <td>0.000000</td>\n",
       "      <td>0.000000</td>\n",
       "      <td>0.000000</td>\n",
       "      <td>0.000000</td>\n",
       "      <td>0.000000</td>\n",
       "      <td>0.976483</td>\n",
       "      <td>0.019685</td>\n",
       "      <td>-0.299142</td>\n",
       "      <td>-0.005096</td>\n",
       "    </tr>\n",
       "    <tr>\n",
       "      <th>newbalanceDest</th>\n",
       "      <td>0.0</td>\n",
       "      <td>0.000000</td>\n",
       "      <td>0.000000</td>\n",
       "      <td>0.000000</td>\n",
       "      <td>0.000000</td>\n",
       "      <td>0.000000</td>\n",
       "      <td>0.000000</td>\n",
       "      <td>0.172185</td>\n",
       "      <td>-0.452584</td>\n",
       "      <td>0.001084</td>\n",
       "    </tr>\n",
       "    <tr>\n",
       "      <th>destbalDiff</th>\n",
       "      <td>0.0</td>\n",
       "      <td>0.000000</td>\n",
       "      <td>0.000000</td>\n",
       "      <td>0.000000</td>\n",
       "      <td>0.000000</td>\n",
       "      <td>0.000000</td>\n",
       "      <td>0.000000</td>\n",
       "      <td>0.000000</td>\n",
       "      <td>-0.149207</td>\n",
       "      <td>-0.057573</td>\n",
       "    </tr>\n",
       "    <tr>\n",
       "      <th>orgbalDiff</th>\n",
       "      <td>0.0</td>\n",
       "      <td>0.000000</td>\n",
       "      <td>0.000000</td>\n",
       "      <td>0.000000</td>\n",
       "      <td>0.000000</td>\n",
       "      <td>0.000000</td>\n",
       "      <td>0.000000</td>\n",
       "      <td>0.000000</td>\n",
       "      <td>0.000000</td>\n",
       "      <td>0.010967</td>\n",
       "    </tr>\n",
       "    <tr>\n",
       "      <th>isFraud</th>\n",
       "      <td>0.0</td>\n",
       "      <td>0.000000</td>\n",
       "      <td>0.000000</td>\n",
       "      <td>0.000000</td>\n",
       "      <td>0.000000</td>\n",
       "      <td>0.000000</td>\n",
       "      <td>0.000000</td>\n",
       "      <td>0.000000</td>\n",
       "      <td>0.000000</td>\n",
       "      <td>0.000000</td>\n",
       "    </tr>\n",
       "  </tbody>\n",
       "</table>\n",
       "</div>"
      ],
      "text/plain": [
       "                hour       day    amount  oldbalanceOrg  newbalanceOrig  \\\n",
       "hour             0.0  0.030181 -0.029711      -0.001055       -0.000922   \n",
       "day              0.0  0.000000  0.024288      -0.010445       -0.010725   \n",
       "amount           0.0  0.000000  0.000000      -0.002076       -0.007377   \n",
       "oldbalanceOrg    0.0  0.000000  0.000000       0.000000        0.998779   \n",
       "newbalanceOrig   0.0  0.000000  0.000000       0.000000        0.000000   \n",
       "oldbalanceDest   0.0  0.000000  0.000000       0.000000        0.000000   \n",
       "newbalanceDest   0.0  0.000000  0.000000       0.000000        0.000000   \n",
       "destbalDiff      0.0  0.000000  0.000000       0.000000        0.000000   \n",
       "orgbalDiff       0.0  0.000000  0.000000       0.000000        0.000000   \n",
       "isFraud          0.0  0.000000  0.000000       0.000000        0.000000   \n",
       "\n",
       "                oldbalanceDest  newbalanceDest  destbalDiff  orgbalDiff  \\\n",
       "hour                 -0.000738       -0.005842    -0.002873    0.028998   \n",
       "day                   0.028283        0.026850    -0.026742   -0.022208   \n",
       "amount                0.289109        0.452986     0.188196   -0.969743   \n",
       "oldbalanceOrg         0.064874        0.040914    -0.153096   -0.051172   \n",
       "newbalanceOrig        0.066414        0.040745    -0.159095   -0.057667   \n",
       "oldbalanceDest        0.000000        0.976483     0.019685   -0.299142   \n",
       "newbalanceDest        0.000000        0.000000     0.172185   -0.452584   \n",
       "destbalDiff           0.000000        0.000000     0.000000   -0.149207   \n",
       "orgbalDiff            0.000000        0.000000     0.000000    0.000000   \n",
       "isFraud               0.000000        0.000000     0.000000    0.000000   \n",
       "\n",
       "                 isFraud  \n",
       "hour           -0.029731  \n",
       "day             0.033138  \n",
       "amount          0.079926  \n",
       "oldbalanceOrg   0.011583  \n",
       "newbalanceOrig -0.007220  \n",
       "oldbalanceDest -0.005096  \n",
       "newbalanceDest  0.001084  \n",
       "destbalDiff    -0.057573  \n",
       "orgbalDiff      0.010967  \n",
       "isFraud         0.000000  "
      ]
     },
     "execution_count": 115,
     "metadata": {},
     "output_type": "execute_result"
    }
   ],
   "source": [
    "corr_matrix(spark_df1, [\"hour\", \"day\", \"amount\", \"oldbalanceOrg\", \"newbalanceOrig\", \"oldbalanceDest\", \"newbalanceDest\", \"destbalDiff\", \"orgbalDiff\" , \"isFraud\"] )"
   ]
  },
  {
   "cell_type": "markdown",
   "metadata": {},
   "source": [
    "Disregarding correlations between original and after transaction balances, there are no values that show any relations"
   ]
  },
  {
   "cell_type": "markdown",
   "metadata": {},
   "source": [
    "### Analysis of account names"
   ]
  },
  {
   "cell_type": "markdown",
   "metadata": {},
   "source": [
    "Check for alpha-numeric only characters"
   ]
  },
  {
   "cell_type": "code",
   "execution_count": 119,
   "metadata": {},
   "outputs": [
    {
     "data": {
      "text/plain": [
       "[]"
      ]
     },
     "execution_count": 119,
     "metadata": {},
     "output_type": "execute_result"
    }
   ],
   "source": [
    "spark_df1.filter(spark_df1.nameOrig.rlike('[^A-Za-z0-9]')).take(5)"
   ]
  },
  {
   "cell_type": "code",
   "execution_count": 120,
   "metadata": {},
   "outputs": [
    {
     "data": {
      "text/plain": [
       "[]"
      ]
     },
     "execution_count": 120,
     "metadata": {},
     "output_type": "execute_result"
    }
   ],
   "source": [
    "spark_df1.filter(spark_df1.nameDest.rlike('[^A-Za-z0-9]')).take(5)"
   ]
  },
  {
   "cell_type": "markdown",
   "metadata": {},
   "source": [
    "Check if name always starts with character"
   ]
  },
  {
   "cell_type": "code",
   "execution_count": 121,
   "metadata": {},
   "outputs": [
    {
     "data": {
      "text/plain": [
       "[]"
      ]
     },
     "execution_count": 121,
     "metadata": {},
     "output_type": "execute_result"
    }
   ],
   "source": [
    "spark_df1.filter(spark_df1.nameOrig.rlike('^[^A-Za-z]')).take(5)"
   ]
  },
  {
   "cell_type": "code",
   "execution_count": 122,
   "metadata": {},
   "outputs": [
    {
     "data": {
      "text/plain": [
       "[]"
      ]
     },
     "execution_count": 122,
     "metadata": {},
     "output_type": "execute_result"
    }
   ],
   "source": [
    "spark_df1.filter(spark_df1.nameDest.rlike('^[^A-Za-z]')).take(5)"
   ]
  },
  {
   "cell_type": "markdown",
   "metadata": {},
   "source": [
    "Check if name always starts with one character followed by digits"
   ]
  },
  {
   "cell_type": "code",
   "execution_count": 135,
   "metadata": {},
   "outputs": [
    {
     "name": "stdout",
     "output_type": "stream",
     "text": [
      "+--------------+\n",
      "|count(isFraud)|\n",
      "+--------------+\n",
      "|       1321313|\n",
      "+--------------+\n",
      "\n"
     ]
    }
   ],
   "source": [
    "spark_df1.agg({\"isFraud\" :'count'}).show()"
   ]
  },
  {
   "cell_type": "code",
   "execution_count": 123,
   "metadata": {},
   "outputs": [
    {
     "data": {
      "text/plain": [
       "1321313"
      ]
     },
     "execution_count": 123,
     "metadata": {},
     "output_type": "execute_result"
    }
   ],
   "source": [
    "spark_df1.filter(spark_df1.nameOrig.rlike('^[A-Za-z]{1}[0-9]+$')).count()"
   ]
  },
  {
   "cell_type": "code",
   "execution_count": 124,
   "metadata": {},
   "outputs": [
    {
     "data": {
      "text/plain": [
       "1321313"
      ]
     },
     "execution_count": 124,
     "metadata": {},
     "output_type": "execute_result"
    }
   ],
   "source": [
    "spark_df1.filter(spark_df1.nameDest.rlike('^[A-Za-z]{1}[0-9]+$')).count()"
   ]
  },
  {
   "cell_type": "markdown",
   "metadata": {},
   "source": [
    "Check if first character or account name differs by target value"
   ]
  },
  {
   "cell_type": "code",
   "execution_count": 125,
   "metadata": {},
   "outputs": [
    {
     "name": "stdout",
     "output_type": "stream",
     "text": [
      "+---+-------+-------+\n",
      "|col|isFraud|  count|\n",
      "+---+-------+-------+\n",
      "|  C|      1|   1695|\n",
      "|  C|      0|1319618|\n",
      "+---+-------+-------+\n",
      "\n"
     ]
    }
   ],
   "source": [
    "spark_df1.select(spark_df1.nameOrig.substr(1, 1).alias(\"col\"), spark_df1.isFraud).groupBy('col', 'isFraud').count().show()"
   ]
  },
  {
   "cell_type": "code",
   "execution_count": 126,
   "metadata": {},
   "outputs": [
    {
     "name": "stdout",
     "output_type": "stream",
     "text": [
      "+---+-------+------+\n",
      "|col|isFraud| count|\n",
      "+---+-------+------+\n",
      "|  C|      1|  1695|\n",
      "|  M|      0|446191|\n",
      "|  C|      0|873427|\n",
      "+---+-------+------+\n",
      "\n"
     ]
    }
   ],
   "source": [
    "spark_df1.select(spark_df1.nameDest.substr(1, 1).alias(\"col\"), spark_df1.isFraud).groupBy('col', 'isFraud').count().show()"
   ]
  },
  {
   "cell_type": "markdown",
   "metadata": {},
   "source": [
    "Check if length of account name differs by target value"
   ]
  },
  {
   "cell_type": "code",
   "execution_count": 127,
   "metadata": {},
   "outputs": [
    {
     "name": "stdout",
     "output_type": "stream",
     "text": [
      "+---+-------+------+\n",
      "|col|isFraud| count|\n",
      "+---+-------+------+\n",
      "| 11|      0|704535|\n",
      "| 10|      0|553591|\n",
      "|  9|      0| 55272|\n",
      "|  8|      0|  5610|\n",
      "|  7|      0|   547|\n",
      "|  6|      0|    53|\n",
      "|  5|      0|    10|\n",
      "| 11|      1|   907|\n",
      "| 10|      1|   705|\n",
      "|  9|      1|    75|\n",
      "|  8|      1|     7|\n",
      "|  7|      1|     1|\n",
      "+---+-------+------+\n",
      "\n"
     ]
    }
   ],
   "source": [
    "spark_df1.select(psqlf.length(spark_df1.nameOrig).alias(\"col\"), spark_df1.isFraud).groupBy('col', 'isFraud').count().orderBy([\"isFraud\", \"count\"], ascending=[1, 0]).show()"
   ]
  },
  {
   "cell_type": "code",
   "execution_count": 128,
   "metadata": {},
   "outputs": [
    {
     "name": "stdout",
     "output_type": "stream",
     "text": [
      "+---+-------+------+\n",
      "|col|isFraud| count|\n",
      "+---+-------+------+\n",
      "| 11|      0|704340|\n",
      "| 10|      0|553181|\n",
      "|  9|      0| 56004|\n",
      "|  8|      0|  5469|\n",
      "|  7|      0|   552|\n",
      "|  6|      0|    57|\n",
      "|  5|      0|     9|\n",
      "|  4|      0|     6|\n",
      "| 11|      1|   909|\n",
      "| 10|      1|   704|\n",
      "|  9|      1|    73|\n",
      "|  8|      1|     9|\n",
      "+---+-------+------+\n",
      "\n"
     ]
    }
   ],
   "source": [
    "spark_df1.select(psqlf.length(spark_df1.nameDest).alias(\"col\"), spark_df1.isFraud).groupBy('col', 'isFraud').count().orderBy([\"isFraud\", \"count\"], ascending=[1, 0]).show()"
   ]
  },
  {
   "cell_type": "code",
   "execution_count": null,
   "metadata": {},
   "outputs": [],
   "source": []
  },
  {
   "cell_type": "code",
   "execution_count": null,
   "metadata": {},
   "outputs": [],
   "source": []
  }
 ],
 "metadata": {
  "kernelspec": {
   "display_name": "Python 3.5 with Spark 2.1",
   "language": "python",
   "name": "python3-spark21"
  },
  "language_info": {
   "codemirror_mode": {
    "name": "ipython",
    "version": 3
   },
   "file_extension": ".py",
   "mimetype": "text/x-python",
   "name": "python",
   "nbconvert_exporter": "python",
   "pygments_lexer": "ipython3",
   "version": "3.5.4"
  }
 },
 "nbformat": 4,
 "nbformat_minor": 1
}
